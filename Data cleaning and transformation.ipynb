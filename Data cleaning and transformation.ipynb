{
 "cells": [
  {
   "cell_type": "markdown",
   "id": "5019e01d",
   "metadata": {},
   "source": [
    "General Instructions\n",
    "\n",
    "Please submit the description of the execution plan, the code, the output, and any comments.\n",
    "\n",
    "You can use any tool/programming language/ library you wish. Please include any dependencies/ instructions required to recreate the output.\n",
    "Data\n",
    "\n",
    "The datasets that you will work with are located at\n",
    "https://www.kaggle.com/usdot/flight-delays\n",
    "Flights.csv contains flight data regarding 2015 US flights. Each row can be identified by (YEAR, MONTH, DAY, AIRLINE, FLIGHT_NUMBER, TAIL_NUMBER, SCHEDULED_DEPARTURE) \n",
    "\n",
    "For the purposes of this exercise, we will assume that all times are in the same time zone. Tasks\n",
    "\n",
    "Task 1: We would like you to left join flights with airlines and airports using their respective IATA code. Please describe the resulting dataset ‘flights_extended’: Number of rows, null values if any. Also, please describe any cleaning processes you may find useful or necessary.\n",
    "\n",
    "Task 2: We would like to perform an analysis in the top 10 airports in terms of departure delay. Please create a metric to rank each airport according to the average number of aircraft that departed from that airport having a DEPARTURE_DELAY > 15 mins. Please describe if such a metric would be efficient to compare airports and include any suggestion to improve such a comparison.\n",
    "\n",
    "Task 3: We would like to find the association, if any, between these top 10 airports and the aircraft that had no previous arrival delay (ARRIVAL_DELAY < 15) on a given day but they had arrival delay > 15 mins as soon as they departed from these airports. Please create any metrics and plots and use any technique you deem necessary to indicate the potential existence of such a phenomenon."
   ]
  },
  {
   "cell_type": "code",
   "execution_count": 46,
   "id": "b17ec616",
   "metadata": {},
   "outputs": [],
   "source": [
    "import numpy as np\n",
    "import pandas as pd\n",
    "pd.set_option('display.max_columns', None)\n",
    "import plotly.express as px\n",
    "import plotly.graph_objects as go\n",
    "import datetime\n",
    "from datetime import date, timedelta"
   ]
  },
  {
   "cell_type": "code",
   "execution_count": 47,
   "id": "91852621",
   "metadata": {},
   "outputs": [],
   "source": [
    "#Functions\n",
    "def get_dataframe_info(df):\n",
    "    \"\"\"\n",
    "    input\n",
    "       DataFrame\n",
    "    output\n",
    "       DataFrame Info/description (sorted)\n",
    "    Warning:Table must consist of at least 1 column with numeric values and dtype during import must not be set to unicode\n",
    "    \"\"\"\n",
    "\n",
    "    df_types = pd.DataFrame(df.dtypes)\n",
    "    df_nulls = df.count()\n",
    "    df_transposed = pd.DataFrame(df.describe()).T\n",
    "    df_overview = pd.concat([df_types, df_nulls,df_transposed ], axis=1).reset_index()\n",
    "    \n",
    "    # Reassign column names\n",
    "    col_names = ['features', 'types', 'non_null_counts','count','mean','std','min','25%','50%','75%','max']\n",
    "    df_overview .columns = col_names\n",
    "    df_overview ['%nulls']=(df.shape[0]-df_overview ['non_null_counts'])*100/df.shape[0]\n",
    "\n",
    "    \n",
    "    # Add this to sort\n",
    "    df_overview  = df_overview.sort_values(by=[\"non_null_counts\"], ascending=False).drop(columns=['count','25%','50%','75%'])\n",
    "    \n",
    "    return df_overview "
   ]
  },
  {
   "cell_type": "code",
   "execution_count": 48,
   "id": "05f698be",
   "metadata": {},
   "outputs": [
    {
     "name": "stderr",
     "output_type": "stream",
     "text": [
      "C:\\Users\\c.logaras\\Anaconda3\\envs\\p37env\\lib\\site-packages\\IPython\\core\\interactiveshell.py:3444: DtypeWarning:\n",
      "\n",
      "Columns (7,8) have mixed types.Specify dtype option on import or set low_memory=False.\n",
      "\n"
     ]
    }
   ],
   "source": [
    "airports=pd.read_csv('airports.csv')\n",
    "flights=pd.read_csv('flights.csv')\n",
    "airlines=pd.read_csv('airlines.csv')"
   ]
  },
  {
   "cell_type": "code",
   "execution_count": 49,
   "id": "62571b37",
   "metadata": {},
   "outputs": [],
   "source": [
    "#Can use the established function to check for the descriptive information per df per feature. Alternatively with the use of describe() and info()\n",
    "#get_dataframe_info(airports) #2 airports na lat,long\n",
    "#airlines.info() #no missing values\n",
    "#get_dataframe_info(flights) # missing values on multiple columns"
   ]
  },
  {
   "cell_type": "code",
   "execution_count": 50,
   "id": "3c04f6ef",
   "metadata": {},
   "outputs": [
    {
     "data": {
      "text/html": [
       "<div>\n",
       "<style scoped>\n",
       "    .dataframe tbody tr th:only-of-type {\n",
       "        vertical-align: middle;\n",
       "    }\n",
       "\n",
       "    .dataframe tbody tr th {\n",
       "        vertical-align: top;\n",
       "    }\n",
       "\n",
       "    .dataframe thead th {\n",
       "        text-align: right;\n",
       "    }\n",
       "</style>\n",
       "<table border=\"1\" class=\"dataframe\">\n",
       "  <thead>\n",
       "    <tr style=\"text-align: right;\">\n",
       "      <th></th>\n",
       "      <th>features</th>\n",
       "      <th>types</th>\n",
       "      <th>non_null_counts</th>\n",
       "      <th>mean</th>\n",
       "      <th>std</th>\n",
       "      <th>min</th>\n",
       "      <th>max</th>\n",
       "      <th>%nulls</th>\n",
       "    </tr>\n",
       "  </thead>\n",
       "  <tbody>\n",
       "    <tr>\n",
       "      <th>0</th>\n",
       "      <td>YEAR</td>\n",
       "      <td>int64</td>\n",
       "      <td>5819079</td>\n",
       "      <td>2015.000000</td>\n",
       "      <td>0.000000</td>\n",
       "      <td>2015.00000</td>\n",
       "      <td>2015.00000</td>\n",
       "      <td>0.000000</td>\n",
       "    </tr>\n",
       "    <tr>\n",
       "      <th>8</th>\n",
       "      <td>SCHEDULED_DEPARTURE</td>\n",
       "      <td>int64</td>\n",
       "      <td>5819079</td>\n",
       "      <td>1329.602470</td>\n",
       "      <td>483.751821</td>\n",
       "      <td>1.00000</td>\n",
       "      <td>2359.00000</td>\n",
       "      <td>0.000000</td>\n",
       "    </tr>\n",
       "    <tr>\n",
       "      <th>19</th>\n",
       "      <td>SCHEDULED_ARRIVAL</td>\n",
       "      <td>int64</td>\n",
       "      <td>5819079</td>\n",
       "      <td>1493.808249</td>\n",
       "      <td>507.164696</td>\n",
       "      <td>1.00000</td>\n",
       "      <td>2400.00000</td>\n",
       "      <td>0.000000</td>\n",
       "    </tr>\n",
       "    <tr>\n",
       "      <th>16</th>\n",
       "      <td>DISTANCE</td>\n",
       "      <td>int64</td>\n",
       "      <td>5819079</td>\n",
       "      <td>822.356495</td>\n",
       "      <td>607.784287</td>\n",
       "      <td>21.00000</td>\n",
       "      <td>4983.00000</td>\n",
       "      <td>0.000000</td>\n",
       "    </tr>\n",
       "    <tr>\n",
       "      <th>23</th>\n",
       "      <td>CANCELLED</td>\n",
       "      <td>int64</td>\n",
       "      <td>5819079</td>\n",
       "      <td>0.015446</td>\n",
       "      <td>0.123320</td>\n",
       "      <td>0.00000</td>\n",
       "      <td>1.00000</td>\n",
       "      <td>0.000000</td>\n",
       "    </tr>\n",
       "    <tr>\n",
       "      <th>30</th>\n",
       "      <td>AIRLINE</td>\n",
       "      <td>object</td>\n",
       "      <td>5819079</td>\n",
       "      <td>NaN</td>\n",
       "      <td>NaN</td>\n",
       "      <td>NaN</td>\n",
       "      <td>NaN</td>\n",
       "      <td>0.000000</td>\n",
       "    </tr>\n",
       "    <tr>\n",
       "      <th>22</th>\n",
       "      <td>DIVERTED</td>\n",
       "      <td>int64</td>\n",
       "      <td>5819079</td>\n",
       "      <td>0.002610</td>\n",
       "      <td>0.051020</td>\n",
       "      <td>0.00000</td>\n",
       "      <td>1.00000</td>\n",
       "      <td>0.000000</td>\n",
       "    </tr>\n",
       "    <tr>\n",
       "      <th>1</th>\n",
       "      <td>MONTH</td>\n",
       "      <td>int64</td>\n",
       "      <td>5819079</td>\n",
       "      <td>6.524085</td>\n",
       "      <td>3.405137</td>\n",
       "      <td>1.00000</td>\n",
       "      <td>12.00000</td>\n",
       "      <td>0.000000</td>\n",
       "    </tr>\n",
       "    <tr>\n",
       "      <th>7</th>\n",
       "      <td>DESTINATION_AIRPORT</td>\n",
       "      <td>object</td>\n",
       "      <td>5819079</td>\n",
       "      <td>NaN</td>\n",
       "      <td>NaN</td>\n",
       "      <td>NaN</td>\n",
       "      <td>NaN</td>\n",
       "      <td>0.000000</td>\n",
       "    </tr>\n",
       "    <tr>\n",
       "      <th>6</th>\n",
       "      <td>ORIGIN_AIRPORT</td>\n",
       "      <td>object</td>\n",
       "      <td>5819079</td>\n",
       "      <td>NaN</td>\n",
       "      <td>NaN</td>\n",
       "      <td>NaN</td>\n",
       "      <td>NaN</td>\n",
       "      <td>0.000000</td>\n",
       "    </tr>\n",
       "    <tr>\n",
       "      <th>4</th>\n",
       "      <td>FLIGHT_NUMBER</td>\n",
       "      <td>int64</td>\n",
       "      <td>5819079</td>\n",
       "      <td>2173.092742</td>\n",
       "      <td>1757.063999</td>\n",
       "      <td>1.00000</td>\n",
       "      <td>9855.00000</td>\n",
       "      <td>0.000000</td>\n",
       "    </tr>\n",
       "    <tr>\n",
       "      <th>3</th>\n",
       "      <td>DAY_OF_WEEK</td>\n",
       "      <td>int64</td>\n",
       "      <td>5819079</td>\n",
       "      <td>3.926941</td>\n",
       "      <td>1.988845</td>\n",
       "      <td>1.00000</td>\n",
       "      <td>7.00000</td>\n",
       "      <td>0.000000</td>\n",
       "    </tr>\n",
       "    <tr>\n",
       "      <th>2</th>\n",
       "      <td>DAY</td>\n",
       "      <td>int64</td>\n",
       "      <td>5819079</td>\n",
       "      <td>15.704594</td>\n",
       "      <td>8.783425</td>\n",
       "      <td>1.00000</td>\n",
       "      <td>31.00000</td>\n",
       "      <td>0.000000</td>\n",
       "    </tr>\n",
       "    <tr>\n",
       "      <th>13</th>\n",
       "      <td>SCHEDULED_TIME</td>\n",
       "      <td>float64</td>\n",
       "      <td>5819073</td>\n",
       "      <td>141.685892</td>\n",
       "      <td>75.210582</td>\n",
       "      <td>18.00000</td>\n",
       "      <td>718.00000</td>\n",
       "      <td>0.000103</td>\n",
       "    </tr>\n",
       "    <tr>\n",
       "      <th>5</th>\n",
       "      <td>TAIL_NUMBER</td>\n",
       "      <td>object</td>\n",
       "      <td>5804358</td>\n",
       "      <td>NaN</td>\n",
       "      <td>NaN</td>\n",
       "      <td>NaN</td>\n",
       "      <td>NaN</td>\n",
       "      <td>0.252978</td>\n",
       "    </tr>\n",
       "    <tr>\n",
       "      <th>9</th>\n",
       "      <td>DEPARTURE_TIME</td>\n",
       "      <td>float64</td>\n",
       "      <td>5732926</td>\n",
       "      <td>1335.204439</td>\n",
       "      <td>496.423260</td>\n",
       "      <td>1.00000</td>\n",
       "      <td>2400.00000</td>\n",
       "      <td>1.480526</td>\n",
       "    </tr>\n",
       "    <tr>\n",
       "      <th>10</th>\n",
       "      <td>DEPARTURE_DELAY</td>\n",
       "      <td>float64</td>\n",
       "      <td>5732926</td>\n",
       "      <td>9.370158</td>\n",
       "      <td>37.080942</td>\n",
       "      <td>-82.00000</td>\n",
       "      <td>1988.00000</td>\n",
       "      <td>1.480526</td>\n",
       "    </tr>\n",
       "    <tr>\n",
       "      <th>12</th>\n",
       "      <td>WHEELS_OFF</td>\n",
       "      <td>float64</td>\n",
       "      <td>5730032</td>\n",
       "      <td>1357.170841</td>\n",
       "      <td>498.009356</td>\n",
       "      <td>1.00000</td>\n",
       "      <td>2400.00000</td>\n",
       "      <td>1.530259</td>\n",
       "    </tr>\n",
       "    <tr>\n",
       "      <th>11</th>\n",
       "      <td>TAXI_OUT</td>\n",
       "      <td>float64</td>\n",
       "      <td>5730032</td>\n",
       "      <td>16.071662</td>\n",
       "      <td>8.895574</td>\n",
       "      <td>1.00000</td>\n",
       "      <td>225.00000</td>\n",
       "      <td>1.530259</td>\n",
       "    </tr>\n",
       "    <tr>\n",
       "      <th>17</th>\n",
       "      <td>WHEELS_ON</td>\n",
       "      <td>float64</td>\n",
       "      <td>5726566</td>\n",
       "      <td>1471.468609</td>\n",
       "      <td>522.187945</td>\n",
       "      <td>1.00000</td>\n",
       "      <td>2400.00000</td>\n",
       "      <td>1.589822</td>\n",
       "    </tr>\n",
       "    <tr>\n",
       "      <th>18</th>\n",
       "      <td>TAXI_IN</td>\n",
       "      <td>float64</td>\n",
       "      <td>5726566</td>\n",
       "      <td>7.434971</td>\n",
       "      <td>5.638548</td>\n",
       "      <td>1.00000</td>\n",
       "      <td>248.00000</td>\n",
       "      <td>1.589822</td>\n",
       "    </tr>\n",
       "    <tr>\n",
       "      <th>20</th>\n",
       "      <td>ARRIVAL_TIME</td>\n",
       "      <td>float64</td>\n",
       "      <td>5726566</td>\n",
       "      <td>1476.491188</td>\n",
       "      <td>526.319737</td>\n",
       "      <td>1.00000</td>\n",
       "      <td>2400.00000</td>\n",
       "      <td>1.589822</td>\n",
       "    </tr>\n",
       "    <tr>\n",
       "      <th>21</th>\n",
       "      <td>ARRIVAL_DELAY</td>\n",
       "      <td>float64</td>\n",
       "      <td>5714008</td>\n",
       "      <td>4.407057</td>\n",
       "      <td>39.271297</td>\n",
       "      <td>-87.00000</td>\n",
       "      <td>1971.00000</td>\n",
       "      <td>1.805629</td>\n",
       "    </tr>\n",
       "    <tr>\n",
       "      <th>15</th>\n",
       "      <td>AIR_TIME</td>\n",
       "      <td>float64</td>\n",
       "      <td>5714008</td>\n",
       "      <td>113.511628</td>\n",
       "      <td>72.230822</td>\n",
       "      <td>7.00000</td>\n",
       "      <td>690.00000</td>\n",
       "      <td>1.805629</td>\n",
       "    </tr>\n",
       "    <tr>\n",
       "      <th>14</th>\n",
       "      <td>ELAPSED_TIME</td>\n",
       "      <td>float64</td>\n",
       "      <td>5714008</td>\n",
       "      <td>137.006189</td>\n",
       "      <td>74.211072</td>\n",
       "      <td>14.00000</td>\n",
       "      <td>766.00000</td>\n",
       "      <td>1.805629</td>\n",
       "    </tr>\n",
       "    <tr>\n",
       "      <th>32</th>\n",
       "      <td>ORIG_CITY</td>\n",
       "      <td>object</td>\n",
       "      <td>5332914</td>\n",
       "      <td>NaN</td>\n",
       "      <td>NaN</td>\n",
       "      <td>NaN</td>\n",
       "      <td>NaN</td>\n",
       "      <td>8.354673</td>\n",
       "    </tr>\n",
       "    <tr>\n",
       "      <th>40</th>\n",
       "      <td>DEST_COUNTRY</td>\n",
       "      <td>object</td>\n",
       "      <td>5332914</td>\n",
       "      <td>NaN</td>\n",
       "      <td>NaN</td>\n",
       "      <td>NaN</td>\n",
       "      <td>NaN</td>\n",
       "      <td>8.354673</td>\n",
       "    </tr>\n",
       "    <tr>\n",
       "      <th>39</th>\n",
       "      <td>DEST_STATE</td>\n",
       "      <td>object</td>\n",
       "      <td>5332914</td>\n",
       "      <td>NaN</td>\n",
       "      <td>NaN</td>\n",
       "      <td>NaN</td>\n",
       "      <td>NaN</td>\n",
       "      <td>8.354673</td>\n",
       "    </tr>\n",
       "    <tr>\n",
       "      <th>38</th>\n",
       "      <td>DEST_CITY</td>\n",
       "      <td>object</td>\n",
       "      <td>5332914</td>\n",
       "      <td>NaN</td>\n",
       "      <td>NaN</td>\n",
       "      <td>NaN</td>\n",
       "      <td>NaN</td>\n",
       "      <td>8.354673</td>\n",
       "    </tr>\n",
       "    <tr>\n",
       "      <th>37</th>\n",
       "      <td>DEST_AIRPORT</td>\n",
       "      <td>object</td>\n",
       "      <td>5332914</td>\n",
       "      <td>NaN</td>\n",
       "      <td>NaN</td>\n",
       "      <td>NaN</td>\n",
       "      <td>NaN</td>\n",
       "      <td>8.354673</td>\n",
       "    </tr>\n",
       "    <tr>\n",
       "      <th>34</th>\n",
       "      <td>ORIG_COUNTRY</td>\n",
       "      <td>object</td>\n",
       "      <td>5332914</td>\n",
       "      <td>NaN</td>\n",
       "      <td>NaN</td>\n",
       "      <td>NaN</td>\n",
       "      <td>NaN</td>\n",
       "      <td>8.354673</td>\n",
       "    </tr>\n",
       "    <tr>\n",
       "      <th>33</th>\n",
       "      <td>ORIG_STATE</td>\n",
       "      <td>object</td>\n",
       "      <td>5332914</td>\n",
       "      <td>NaN</td>\n",
       "      <td>NaN</td>\n",
       "      <td>NaN</td>\n",
       "      <td>NaN</td>\n",
       "      <td>8.354673</td>\n",
       "    </tr>\n",
       "    <tr>\n",
       "      <th>31</th>\n",
       "      <td>ORIG_AIRPORT</td>\n",
       "      <td>object</td>\n",
       "      <td>5332914</td>\n",
       "      <td>NaN</td>\n",
       "      <td>NaN</td>\n",
       "      <td>NaN</td>\n",
       "      <td>NaN</td>\n",
       "      <td>8.354673</td>\n",
       "    </tr>\n",
       "    <tr>\n",
       "      <th>35</th>\n",
       "      <td>ORIG_LATITUDE</td>\n",
       "      <td>float64</td>\n",
       "      <td>5328309</td>\n",
       "      <td>36.638064</td>\n",
       "      <td>5.999338</td>\n",
       "      <td>13.48345</td>\n",
       "      <td>71.28545</td>\n",
       "      <td>8.433809</td>\n",
       "    </tr>\n",
       "    <tr>\n",
       "      <th>36</th>\n",
       "      <td>ORIG_LONGITUDE</td>\n",
       "      <td>float64</td>\n",
       "      <td>5328309</td>\n",
       "      <td>-95.491233</td>\n",
       "      <td>18.156368</td>\n",
       "      <td>-176.64603</td>\n",
       "      <td>-64.79856</td>\n",
       "      <td>8.433809</td>\n",
       "    </tr>\n",
       "    <tr>\n",
       "      <th>41</th>\n",
       "      <td>DEST_LATITUDE</td>\n",
       "      <td>float64</td>\n",
       "      <td>5328304</td>\n",
       "      <td>36.637954</td>\n",
       "      <td>5.999285</td>\n",
       "      <td>13.48345</td>\n",
       "      <td>71.28545</td>\n",
       "      <td>8.433895</td>\n",
       "    </tr>\n",
       "    <tr>\n",
       "      <th>42</th>\n",
       "      <td>DEST_LONGITUDE</td>\n",
       "      <td>float64</td>\n",
       "      <td>5328304</td>\n",
       "      <td>-95.491021</td>\n",
       "      <td>18.156160</td>\n",
       "      <td>-176.64603</td>\n",
       "      <td>-64.79856</td>\n",
       "      <td>8.433895</td>\n",
       "    </tr>\n",
       "    <tr>\n",
       "      <th>29</th>\n",
       "      <td>WEATHER_DELAY</td>\n",
       "      <td>float64</td>\n",
       "      <td>1063439</td>\n",
       "      <td>2.915290</td>\n",
       "      <td>20.433336</td>\n",
       "      <td>0.00000</td>\n",
       "      <td>1211.00000</td>\n",
       "      <td>81.724960</td>\n",
       "    </tr>\n",
       "    <tr>\n",
       "      <th>28</th>\n",
       "      <td>LATE_AIRCRAFT_DELAY</td>\n",
       "      <td>float64</td>\n",
       "      <td>1063439</td>\n",
       "      <td>23.472838</td>\n",
       "      <td>43.197018</td>\n",
       "      <td>0.00000</td>\n",
       "      <td>1331.00000</td>\n",
       "      <td>81.724960</td>\n",
       "    </tr>\n",
       "    <tr>\n",
       "      <th>27</th>\n",
       "      <td>AIRLINE_DELAY</td>\n",
       "      <td>float64</td>\n",
       "      <td>1063439</td>\n",
       "      <td>18.969547</td>\n",
       "      <td>48.161642</td>\n",
       "      <td>0.00000</td>\n",
       "      <td>1971.00000</td>\n",
       "      <td>81.724960</td>\n",
       "    </tr>\n",
       "    <tr>\n",
       "      <th>26</th>\n",
       "      <td>SECURITY_DELAY</td>\n",
       "      <td>float64</td>\n",
       "      <td>1063439</td>\n",
       "      <td>0.076154</td>\n",
       "      <td>2.143460</td>\n",
       "      <td>0.00000</td>\n",
       "      <td>573.00000</td>\n",
       "      <td>81.724960</td>\n",
       "    </tr>\n",
       "    <tr>\n",
       "      <th>25</th>\n",
       "      <td>AIR_SYSTEM_DELAY</td>\n",
       "      <td>float64</td>\n",
       "      <td>1063439</td>\n",
       "      <td>13.480568</td>\n",
       "      <td>28.003679</td>\n",
       "      <td>0.00000</td>\n",
       "      <td>1134.00000</td>\n",
       "      <td>81.724960</td>\n",
       "    </tr>\n",
       "    <tr>\n",
       "      <th>24</th>\n",
       "      <td>CANCELLATION_REASON</td>\n",
       "      <td>object</td>\n",
       "      <td>89884</td>\n",
       "      <td>NaN</td>\n",
       "      <td>NaN</td>\n",
       "      <td>NaN</td>\n",
       "      <td>NaN</td>\n",
       "      <td>98.455357</td>\n",
       "    </tr>\n",
       "  </tbody>\n",
       "</table>\n",
       "</div>"
      ],
      "text/plain": [
       "               features    types  non_null_counts         mean          std  \\\n",
       "0                  YEAR    int64          5819079  2015.000000     0.000000   \n",
       "8   SCHEDULED_DEPARTURE    int64          5819079  1329.602470   483.751821   \n",
       "19    SCHEDULED_ARRIVAL    int64          5819079  1493.808249   507.164696   \n",
       "16             DISTANCE    int64          5819079   822.356495   607.784287   \n",
       "23            CANCELLED    int64          5819079     0.015446     0.123320   \n",
       "30              AIRLINE   object          5819079          NaN          NaN   \n",
       "22             DIVERTED    int64          5819079     0.002610     0.051020   \n",
       "1                 MONTH    int64          5819079     6.524085     3.405137   \n",
       "7   DESTINATION_AIRPORT   object          5819079          NaN          NaN   \n",
       "6        ORIGIN_AIRPORT   object          5819079          NaN          NaN   \n",
       "4         FLIGHT_NUMBER    int64          5819079  2173.092742  1757.063999   \n",
       "3           DAY_OF_WEEK    int64          5819079     3.926941     1.988845   \n",
       "2                   DAY    int64          5819079    15.704594     8.783425   \n",
       "13       SCHEDULED_TIME  float64          5819073   141.685892    75.210582   \n",
       "5           TAIL_NUMBER   object          5804358          NaN          NaN   \n",
       "9        DEPARTURE_TIME  float64          5732926  1335.204439   496.423260   \n",
       "10      DEPARTURE_DELAY  float64          5732926     9.370158    37.080942   \n",
       "12           WHEELS_OFF  float64          5730032  1357.170841   498.009356   \n",
       "11             TAXI_OUT  float64          5730032    16.071662     8.895574   \n",
       "17            WHEELS_ON  float64          5726566  1471.468609   522.187945   \n",
       "18              TAXI_IN  float64          5726566     7.434971     5.638548   \n",
       "20         ARRIVAL_TIME  float64          5726566  1476.491188   526.319737   \n",
       "21        ARRIVAL_DELAY  float64          5714008     4.407057    39.271297   \n",
       "15             AIR_TIME  float64          5714008   113.511628    72.230822   \n",
       "14         ELAPSED_TIME  float64          5714008   137.006189    74.211072   \n",
       "32            ORIG_CITY   object          5332914          NaN          NaN   \n",
       "40         DEST_COUNTRY   object          5332914          NaN          NaN   \n",
       "39           DEST_STATE   object          5332914          NaN          NaN   \n",
       "38            DEST_CITY   object          5332914          NaN          NaN   \n",
       "37         DEST_AIRPORT   object          5332914          NaN          NaN   \n",
       "34         ORIG_COUNTRY   object          5332914          NaN          NaN   \n",
       "33           ORIG_STATE   object          5332914          NaN          NaN   \n",
       "31         ORIG_AIRPORT   object          5332914          NaN          NaN   \n",
       "35        ORIG_LATITUDE  float64          5328309    36.638064     5.999338   \n",
       "36       ORIG_LONGITUDE  float64          5328309   -95.491233    18.156368   \n",
       "41        DEST_LATITUDE  float64          5328304    36.637954     5.999285   \n",
       "42       DEST_LONGITUDE  float64          5328304   -95.491021    18.156160   \n",
       "29        WEATHER_DELAY  float64          1063439     2.915290    20.433336   \n",
       "28  LATE_AIRCRAFT_DELAY  float64          1063439    23.472838    43.197018   \n",
       "27        AIRLINE_DELAY  float64          1063439    18.969547    48.161642   \n",
       "26       SECURITY_DELAY  float64          1063439     0.076154     2.143460   \n",
       "25     AIR_SYSTEM_DELAY  float64          1063439    13.480568    28.003679   \n",
       "24  CANCELLATION_REASON   object            89884          NaN          NaN   \n",
       "\n",
       "           min         max     %nulls  \n",
       "0   2015.00000  2015.00000   0.000000  \n",
       "8      1.00000  2359.00000   0.000000  \n",
       "19     1.00000  2400.00000   0.000000  \n",
       "16    21.00000  4983.00000   0.000000  \n",
       "23     0.00000     1.00000   0.000000  \n",
       "30         NaN         NaN   0.000000  \n",
       "22     0.00000     1.00000   0.000000  \n",
       "1      1.00000    12.00000   0.000000  \n",
       "7          NaN         NaN   0.000000  \n",
       "6          NaN         NaN   0.000000  \n",
       "4      1.00000  9855.00000   0.000000  \n",
       "3      1.00000     7.00000   0.000000  \n",
       "2      1.00000    31.00000   0.000000  \n",
       "13    18.00000   718.00000   0.000103  \n",
       "5          NaN         NaN   0.252978  \n",
       "9      1.00000  2400.00000   1.480526  \n",
       "10   -82.00000  1988.00000   1.480526  \n",
       "12     1.00000  2400.00000   1.530259  \n",
       "11     1.00000   225.00000   1.530259  \n",
       "17     1.00000  2400.00000   1.589822  \n",
       "18     1.00000   248.00000   1.589822  \n",
       "20     1.00000  2400.00000   1.589822  \n",
       "21   -87.00000  1971.00000   1.805629  \n",
       "15     7.00000   690.00000   1.805629  \n",
       "14    14.00000   766.00000   1.805629  \n",
       "32         NaN         NaN   8.354673  \n",
       "40         NaN         NaN   8.354673  \n",
       "39         NaN         NaN   8.354673  \n",
       "38         NaN         NaN   8.354673  \n",
       "37         NaN         NaN   8.354673  \n",
       "34         NaN         NaN   8.354673  \n",
       "33         NaN         NaN   8.354673  \n",
       "31         NaN         NaN   8.354673  \n",
       "35    13.48345    71.28545   8.433809  \n",
       "36  -176.64603   -64.79856   8.433809  \n",
       "41    13.48345    71.28545   8.433895  \n",
       "42  -176.64603   -64.79856   8.433895  \n",
       "29     0.00000  1211.00000  81.724960  \n",
       "28     0.00000  1331.00000  81.724960  \n",
       "27     0.00000  1971.00000  81.724960  \n",
       "26     0.00000   573.00000  81.724960  \n",
       "25     0.00000  1134.00000  81.724960  \n",
       "24         NaN         NaN  98.455357  "
      ]
     },
     "execution_count": 50,
     "metadata": {},
     "output_type": "execute_result"
    }
   ],
   "source": [
    "'''MERGING DATASETS'''\n",
    "flights_airlines_temp=flights.merge(airlines,how='left',left_on='AIRLINE',right_on='IATA_CODE').drop(columns=['AIRLINE_x','IATA_CODE']).rename(columns={\"AIRLINE_y\": \"AIRLINE\"})\n",
    "\n",
    "flights_extended_temp=flights_airlines_temp.merge(airports,how='left',left_on='ORIGIN_AIRPORT',right_on='IATA_CODE').drop(columns=['IATA_CODE']).rename(columns={\"AIRPORT\": \"ORIG_AIRPORT\",'CITY':'ORIG_CITY','STATE':'ORIG_STATE','COUNTRY':'ORIG_COUNTRY','LATITUDE':'ORIG_LATITUDE','LONGITUDE':'ORIG_LONGITUDE'})\n",
    "\n",
    "flights_extended=flights_extended_temp.merge(airports,how='left',left_on='DESTINATION_AIRPORT',right_on='IATA_CODE').drop(columns=['IATA_CODE']).rename(columns={\"AIRPORT\": \"DEST_AIRPORT\",'CITY':'DEST_CITY','STATE':'DEST_STATE','COUNTRY':'DEST_COUNTRY','LATITUDE':'DEST_LATITUDE','LONGITUDE':'DEST_LONGITUDE'})\n",
    "\n",
    "del flights_airlines_temp,flights_extended_temp\n",
    "\n",
    "get_dataframe_info(flights_extended)\n"
   ]
  },
  {
   "cell_type": "code",
   "execution_count": 51,
   "id": "87334018",
   "metadata": {},
   "outputs": [],
   "source": [
    "del airports,flights,airlines"
   ]
  },
  {
   "cell_type": "markdown",
   "id": "071678ba",
   "metadata": {},
   "source": [
    "----------\n",
    "First we will address the missing values"
   ]
  },
  {
   "cell_type": "markdown",
   "id": "3c5ae76a",
   "metadata": {},
   "source": [
    "NULL:\n",
    "\n",
    "Total rows in dataframe=5819079 \n",
    "\n",
    "A)CANCELLATION_REASON has 98.45% nulls. It would make sence that when there is a cancellation we can expect null in either arrivals or departures. Similarly in diverted flights."
   ]
  },
  {
   "cell_type": "code",
   "execution_count": 52,
   "id": "8e3d5374",
   "metadata": {},
   "outputs": [
    {
     "data": {
      "text/html": [
       "<div>\n",
       "<style scoped>\n",
       "    .dataframe tbody tr th:only-of-type {\n",
       "        vertical-align: middle;\n",
       "    }\n",
       "\n",
       "    .dataframe tbody tr th {\n",
       "        vertical-align: top;\n",
       "    }\n",
       "\n",
       "    .dataframe thead th {\n",
       "        text-align: right;\n",
       "    }\n",
       "</style>\n",
       "<table border=\"1\" class=\"dataframe\">\n",
       "  <thead>\n",
       "    <tr style=\"text-align: right;\">\n",
       "      <th></th>\n",
       "      <th>types</th>\n",
       "      <th>non_null_counts</th>\n",
       "      <th>mean</th>\n",
       "      <th>std</th>\n",
       "      <th>min</th>\n",
       "      <th>max</th>\n",
       "      <th>%nulls</th>\n",
       "    </tr>\n",
       "    <tr>\n",
       "      <th>features</th>\n",
       "      <th></th>\n",
       "      <th></th>\n",
       "      <th></th>\n",
       "      <th></th>\n",
       "      <th></th>\n",
       "      <th></th>\n",
       "      <th></th>\n",
       "    </tr>\n",
       "  </thead>\n",
       "  <tbody>\n",
       "    <tr>\n",
       "      <th>CANCELLATION_REASON</th>\n",
       "      <td>object</td>\n",
       "      <td>86153</td>\n",
       "      <td>NaN</td>\n",
       "      <td>NaN</td>\n",
       "      <td>NaN</td>\n",
       "      <td>NaN</td>\n",
       "      <td>0.0</td>\n",
       "    </tr>\n",
       "    <tr>\n",
       "      <th>DEPARTURE_DELAY</th>\n",
       "      <td>float64</td>\n",
       "      <td>0</td>\n",
       "      <td>NaN</td>\n",
       "      <td>NaN</td>\n",
       "      <td>NaN</td>\n",
       "      <td>NaN</td>\n",
       "      <td>100.0</td>\n",
       "    </tr>\n",
       "    <tr>\n",
       "      <th>ARRIVAL_DELAY</th>\n",
       "      <td>float64</td>\n",
       "      <td>0</td>\n",
       "      <td>NaN</td>\n",
       "      <td>NaN</td>\n",
       "      <td>NaN</td>\n",
       "      <td>NaN</td>\n",
       "      <td>100.0</td>\n",
       "    </tr>\n",
       "    <tr>\n",
       "      <th>DIVERTED</th>\n",
       "      <td>int64</td>\n",
       "      <td>86153</td>\n",
       "      <td>0.0</td>\n",
       "      <td>0.0</td>\n",
       "      <td>0.0</td>\n",
       "      <td>0.0</td>\n",
       "      <td>0.0</td>\n",
       "    </tr>\n",
       "  </tbody>\n",
       "</table>\n",
       "</div>"
      ],
      "text/plain": [
       "                       types  non_null_counts  mean  std  min  max  %nulls\n",
       "features                                                                  \n",
       "CANCELLATION_REASON   object            86153   NaN  NaN  NaN  NaN     0.0\n",
       "DEPARTURE_DELAY      float64                0   NaN  NaN  NaN  NaN   100.0\n",
       "ARRIVAL_DELAY        float64                0   NaN  NaN  NaN  NaN   100.0\n",
       "DIVERTED               int64            86153   0.0  0.0  0.0  0.0     0.0"
      ]
     },
     "execution_count": 52,
     "metadata": {},
     "output_type": "execute_result"
    }
   ],
   "source": [
    "temp=flights_extended.copy()\n",
    "a=get_dataframe_info(temp[temp['DEPARTURE_DELAY'].isnull()])\n",
    "a.set_index('features', inplace=True)\n",
    "a.loc[['CANCELLATION_REASON','DEPARTURE_DELAY','ARRIVAL_DELAY','DIVERTED']]"
   ]
  },
  {
   "cell_type": "code",
   "execution_count": 53,
   "id": "c244078e",
   "metadata": {},
   "outputs": [
    {
     "name": "stdout",
     "output_type": "stream",
     "text": [
      "For all the case when \"departure delay\" is null, cancellation has actual values:\n",
      "['A' 'B' 'C' 'D']\n",
      "There are 89884 non null values for cancelation.Thus we expect that the rest of actual values in cancellations correspont to nulls in \"arrival delays\"\n"
     ]
    }
   ],
   "source": [
    "print('For all the case when \"departure delay\" is null, cancellation has actual values:')\n",
    "print(temp[temp['DEPARTURE_DELAY'].isnull()]['CANCELLATION_REASON'].unique())\n",
    "print( 'There are '+str(temp['CANCELLATION_REASON'].count())+ ' non null values for cancelation.Thus we expect that the rest of actual values in cancellations correspont to nulls in \"arrival delays\"')"
   ]
  },
  {
   "cell_type": "markdown",
   "id": "2f7e12ff",
   "metadata": {},
   "source": [
    "In other words, it is verified that all 'departure delay' nulls are explained by cancellations. We can thus impute 'departure delay' as cancelled/or 0 and control for those case via the relevant collumn. On the other hand there are still 3731 non null values for cancellation. We will check if there appears to be a relationship between 'arrival delay' and cancelation/diverted."
   ]
  },
  {
   "cell_type": "code",
   "execution_count": 54,
   "id": "80850238",
   "metadata": {},
   "outputs": [],
   "source": [
    "#We impute for easy use the temp['DEPARTURE_DELAY']\n",
    "temp.loc[(temp['DEPARTURE_DELAY'].isnull()) , \n",
    "       'DEPARTURE_DELAY'] = 'cancelled' \n",
    "temp.loc[(temp['DEPARTURE_DELAY']== 'cancelled' ) , \n",
    "       'DEPARTURE_TIME'] = 'cancelled'"
   ]
  },
  {
   "cell_type": "code",
   "execution_count": 55,
   "id": "ce2063c4",
   "metadata": {},
   "outputs": [
    {
     "data": {
      "text/html": [
       "<div>\n",
       "<style scoped>\n",
       "    .dataframe tbody tr th:only-of-type {\n",
       "        vertical-align: middle;\n",
       "    }\n",
       "\n",
       "    .dataframe tbody tr th {\n",
       "        vertical-align: top;\n",
       "    }\n",
       "\n",
       "    .dataframe thead th {\n",
       "        text-align: right;\n",
       "    }\n",
       "</style>\n",
       "<table border=\"1\" class=\"dataframe\">\n",
       "  <thead>\n",
       "    <tr style=\"text-align: right;\">\n",
       "      <th></th>\n",
       "      <th>types</th>\n",
       "      <th>non_null_counts</th>\n",
       "      <th>mean</th>\n",
       "      <th>std</th>\n",
       "      <th>min</th>\n",
       "      <th>max</th>\n",
       "      <th>%nulls</th>\n",
       "    </tr>\n",
       "    <tr>\n",
       "      <th>features</th>\n",
       "      <th></th>\n",
       "      <th></th>\n",
       "      <th></th>\n",
       "      <th></th>\n",
       "      <th></th>\n",
       "      <th></th>\n",
       "      <th></th>\n",
       "    </tr>\n",
       "  </thead>\n",
       "  <tbody>\n",
       "    <tr>\n",
       "      <th>CANCELLATION_REASON</th>\n",
       "      <td>object</td>\n",
       "      <td>89884</td>\n",
       "      <td>NaN</td>\n",
       "      <td>NaN</td>\n",
       "      <td>NaN</td>\n",
       "      <td>NaN</td>\n",
       "      <td>14.454036</td>\n",
       "    </tr>\n",
       "    <tr>\n",
       "      <th>DEPARTURE_DELAY</th>\n",
       "      <td>object</td>\n",
       "      <td>105071</td>\n",
       "      <td>NaN</td>\n",
       "      <td>NaN</td>\n",
       "      <td>NaN</td>\n",
       "      <td>NaN</td>\n",
       "      <td>0.000000</td>\n",
       "    </tr>\n",
       "    <tr>\n",
       "      <th>ARRIVAL_DELAY</th>\n",
       "      <td>float64</td>\n",
       "      <td>0</td>\n",
       "      <td>NaN</td>\n",
       "      <td>NaN</td>\n",
       "      <td>NaN</td>\n",
       "      <td>NaN</td>\n",
       "      <td>100.000000</td>\n",
       "    </tr>\n",
       "    <tr>\n",
       "      <th>DIVERTED</th>\n",
       "      <td>int64</td>\n",
       "      <td>105071</td>\n",
       "      <td>0.14454</td>\n",
       "      <td>0.351638</td>\n",
       "      <td>0.0</td>\n",
       "      <td>1.0</td>\n",
       "      <td>0.000000</td>\n",
       "    </tr>\n",
       "  </tbody>\n",
       "</table>\n",
       "</div>"
      ],
      "text/plain": [
       "                       types  non_null_counts     mean       std  min  max  \\\n",
       "features                                                                     \n",
       "CANCELLATION_REASON   object            89884      NaN       NaN  NaN  NaN   \n",
       "DEPARTURE_DELAY       object           105071      NaN       NaN  NaN  NaN   \n",
       "ARRIVAL_DELAY        float64                0      NaN       NaN  NaN  NaN   \n",
       "DIVERTED               int64           105071  0.14454  0.351638  0.0  1.0   \n",
       "\n",
       "                         %nulls  \n",
       "features                         \n",
       "CANCELLATION_REASON   14.454036  \n",
       "DEPARTURE_DELAY        0.000000  \n",
       "ARRIVAL_DELAY        100.000000  \n",
       "DIVERTED               0.000000  "
      ]
     },
     "execution_count": 55,
     "metadata": {},
     "output_type": "execute_result"
    }
   ],
   "source": [
    "a=get_dataframe_info(temp[temp['ARRIVAL_DELAY'].isnull()])\n",
    "a.set_index('features', inplace=True)\n",
    "a.loc[['CANCELLATION_REASON','DEPARTURE_DELAY','ARRIVAL_DELAY','DIVERTED']]"
   ]
  },
  {
   "cell_type": "code",
   "execution_count": 56,
   "id": "8b8d0023",
   "metadata": {},
   "outputs": [
    {
     "name": "stdout",
     "output_type": "stream",
     "text": [
      "The diverted can either be null or:[0 1]\n",
      "Thus we have to control for the cases where diverted =0 to examine if the reason behind our missing values in arrival delays is explained by cancellations/diversions\n"
     ]
    }
   ],
   "source": [
    "print('The diverted can either be null or:'+str(temp[temp['ARRIVAL_DELAY'].isnull()]['DIVERTED'].unique()))\n",
    "print('Thus we have to control for the cases where diverted =0 to examine if the reason behind our missing values in arrival delays is explained by cancellations/diversions')"
   ]
  },
  {
   "cell_type": "code",
   "execution_count": 57,
   "id": "128933bc",
   "metadata": {},
   "outputs": [
    {
     "data": {
      "text/html": [
       "<div>\n",
       "<style scoped>\n",
       "    .dataframe tbody tr th:only-of-type {\n",
       "        vertical-align: middle;\n",
       "    }\n",
       "\n",
       "    .dataframe tbody tr th {\n",
       "        vertical-align: top;\n",
       "    }\n",
       "\n",
       "    .dataframe thead th {\n",
       "        text-align: right;\n",
       "    }\n",
       "</style>\n",
       "<table border=\"1\" class=\"dataframe\">\n",
       "  <thead>\n",
       "    <tr style=\"text-align: right;\">\n",
       "      <th></th>\n",
       "      <th>types</th>\n",
       "      <th>non_null_counts</th>\n",
       "      <th>mean</th>\n",
       "      <th>std</th>\n",
       "      <th>min</th>\n",
       "      <th>max</th>\n",
       "      <th>%nulls</th>\n",
       "    </tr>\n",
       "    <tr>\n",
       "      <th>features</th>\n",
       "      <th></th>\n",
       "      <th></th>\n",
       "      <th></th>\n",
       "      <th></th>\n",
       "      <th></th>\n",
       "      <th></th>\n",
       "      <th></th>\n",
       "    </tr>\n",
       "  </thead>\n",
       "  <tbody>\n",
       "    <tr>\n",
       "      <th>CANCELLATION_REASON</th>\n",
       "      <td>object</td>\n",
       "      <td>89884</td>\n",
       "      <td>NaN</td>\n",
       "      <td>NaN</td>\n",
       "      <td>NaN</td>\n",
       "      <td>NaN</td>\n",
       "      <td>0.0</td>\n",
       "    </tr>\n",
       "    <tr>\n",
       "      <th>DEPARTURE_DELAY</th>\n",
       "      <td>object</td>\n",
       "      <td>89884</td>\n",
       "      <td>NaN</td>\n",
       "      <td>NaN</td>\n",
       "      <td>NaN</td>\n",
       "      <td>NaN</td>\n",
       "      <td>0.0</td>\n",
       "    </tr>\n",
       "    <tr>\n",
       "      <th>ARRIVAL_DELAY</th>\n",
       "      <td>float64</td>\n",
       "      <td>0</td>\n",
       "      <td>NaN</td>\n",
       "      <td>NaN</td>\n",
       "      <td>NaN</td>\n",
       "      <td>NaN</td>\n",
       "      <td>100.0</td>\n",
       "    </tr>\n",
       "    <tr>\n",
       "      <th>DIVERTED</th>\n",
       "      <td>int64</td>\n",
       "      <td>89884</td>\n",
       "      <td>0.0</td>\n",
       "      <td>0.0</td>\n",
       "      <td>0.0</td>\n",
       "      <td>0.0</td>\n",
       "      <td>0.0</td>\n",
       "    </tr>\n",
       "  </tbody>\n",
       "</table>\n",
       "</div>"
      ],
      "text/plain": [
       "                       types  non_null_counts  mean  std  min  max  %nulls\n",
       "features                                                                  \n",
       "CANCELLATION_REASON   object            89884   NaN  NaN  NaN  NaN     0.0\n",
       "DEPARTURE_DELAY       object            89884   NaN  NaN  NaN  NaN     0.0\n",
       "ARRIVAL_DELAY        float64                0   NaN  NaN  NaN  NaN   100.0\n",
       "DIVERTED               int64            89884   0.0  0.0  0.0  0.0     0.0"
      ]
     },
     "execution_count": 57,
     "metadata": {},
     "output_type": "execute_result"
    }
   ],
   "source": [
    "#  (No diverted flights) ∩ (arrival delay null) ∩ (cancellation reason is not null/0)\n",
    "a=get_dataframe_info(temp[(temp['ARRIVAL_DELAY'].isnull()) & (temp['DIVERTED']==0) & (temp['CANCELLATION_REASON'].notnull())])\n",
    "a.set_index('features', inplace=True)\n",
    "a.loc[['CANCELLATION_REASON','DEPARTURE_DELAY','ARRIVAL_DELAY','DIVERTED']]"
   ]
  },
  {
   "cell_type": "code",
   "execution_count": 58,
   "id": "67fb6050",
   "metadata": {},
   "outputs": [
    {
     "data": {
      "text/html": [
       "<div>\n",
       "<style scoped>\n",
       "    .dataframe tbody tr th:only-of-type {\n",
       "        vertical-align: middle;\n",
       "    }\n",
       "\n",
       "    .dataframe tbody tr th {\n",
       "        vertical-align: top;\n",
       "    }\n",
       "\n",
       "    .dataframe thead th {\n",
       "        text-align: right;\n",
       "    }\n",
       "</style>\n",
       "<table border=\"1\" class=\"dataframe\">\n",
       "  <thead>\n",
       "    <tr style=\"text-align: right;\">\n",
       "      <th></th>\n",
       "      <th>types</th>\n",
       "      <th>non_null_counts</th>\n",
       "      <th>mean</th>\n",
       "      <th>std</th>\n",
       "      <th>min</th>\n",
       "      <th>max</th>\n",
       "      <th>%nulls</th>\n",
       "    </tr>\n",
       "    <tr>\n",
       "      <th>features</th>\n",
       "      <th></th>\n",
       "      <th></th>\n",
       "      <th></th>\n",
       "      <th></th>\n",
       "      <th></th>\n",
       "      <th></th>\n",
       "      <th></th>\n",
       "    </tr>\n",
       "  </thead>\n",
       "  <tbody>\n",
       "    <tr>\n",
       "      <th>CANCELLATION_REASON</th>\n",
       "      <td>object</td>\n",
       "      <td>3731</td>\n",
       "      <td>NaN</td>\n",
       "      <td>NaN</td>\n",
       "      <td>NaN</td>\n",
       "      <td>NaN</td>\n",
       "      <td>0.0</td>\n",
       "    </tr>\n",
       "    <tr>\n",
       "      <th>DEPARTURE_DELAY</th>\n",
       "      <td>object</td>\n",
       "      <td>3731</td>\n",
       "      <td>NaN</td>\n",
       "      <td>NaN</td>\n",
       "      <td>NaN</td>\n",
       "      <td>NaN</td>\n",
       "      <td>0.0</td>\n",
       "    </tr>\n",
       "    <tr>\n",
       "      <th>ARRIVAL_DELAY</th>\n",
       "      <td>float64</td>\n",
       "      <td>0</td>\n",
       "      <td>NaN</td>\n",
       "      <td>NaN</td>\n",
       "      <td>NaN</td>\n",
       "      <td>NaN</td>\n",
       "      <td>100.0</td>\n",
       "    </tr>\n",
       "    <tr>\n",
       "      <th>DIVERTED</th>\n",
       "      <td>int64</td>\n",
       "      <td>3731</td>\n",
       "      <td>0.0</td>\n",
       "      <td>0.0</td>\n",
       "      <td>0.0</td>\n",
       "      <td>0.0</td>\n",
       "      <td>0.0</td>\n",
       "    </tr>\n",
       "  </tbody>\n",
       "</table>\n",
       "</div>"
      ],
      "text/plain": [
       "                       types  non_null_counts  mean  std  min  max  %nulls\n",
       "features                                                                  \n",
       "CANCELLATION_REASON   object             3731   NaN  NaN  NaN  NaN     0.0\n",
       "DEPARTURE_DELAY       object             3731   NaN  NaN  NaN  NaN     0.0\n",
       "ARRIVAL_DELAY        float64                0   NaN  NaN  NaN  NaN   100.0\n",
       "DIVERTED               int64             3731   0.0  0.0  0.0  0.0     0.0"
      ]
     },
     "execution_count": 58,
     "metadata": {},
     "output_type": "execute_result"
    }
   ],
   "source": [
    "#  (No diverted flights) ∩ (arrival delay null) ∩ (cancellation reason is not null/0) ∩ (departure not cancelled)\n",
    "a=get_dataframe_info(temp[(temp['ARRIVAL_DELAY'].isnull()) & (temp['DIVERTED']==0) & (temp['CANCELLATION_REASON'].notnull())& (temp['DEPARTURE_DELAY']!='cancelled')])\n",
    "a.set_index('features', inplace=True)\n",
    "a.loc[['CANCELLATION_REASON','DEPARTURE_DELAY','ARRIVAL_DELAY','DIVERTED']]"
   ]
  },
  {
   "cell_type": "markdown",
   "id": "3538bba3",
   "metadata": {},
   "source": [
    "It is thus verified that the 3731 cancellation non null values that did not correspont to \"departure delays\",are related to arrival delays."
   ]
  },
  {
   "cell_type": "code",
   "execution_count": 59,
   "id": "96e97a35",
   "metadata": {},
   "outputs": [
    {
     "name": "stdout",
     "output_type": "stream",
     "text": [
      "For 89884 flights where \"arrival delay\" is null, cause is cancellation. The cancellation reason can be identified as:['A' 'B' 'C' 'D']\n"
     ]
    }
   ],
   "source": [
    "print('For 89884 flights where \"arrival delay\" is null, cause is cancellation. The cancellation reason can be identified as:'\\\n",
    "              +str(temp[(temp['ARRIVAL_DELAY'].isnull()) & (temp['DIVERTED']==0) & \\\n",
    "                        (temp['CANCELLATION_REASON'].notnull())]\\\n",
    "               ['CANCELLATION_REASON'].unique()))"
   ]
  },
  {
   "cell_type": "code",
   "execution_count": 60,
   "id": "67f4063e",
   "metadata": {},
   "outputs": [
    {
     "data": {
      "text/html": [
       "<div>\n",
       "<style scoped>\n",
       "    .dataframe tbody tr th:only-of-type {\n",
       "        vertical-align: middle;\n",
       "    }\n",
       "\n",
       "    .dataframe tbody tr th {\n",
       "        vertical-align: top;\n",
       "    }\n",
       "\n",
       "    .dataframe thead th {\n",
       "        text-align: right;\n",
       "    }\n",
       "</style>\n",
       "<table border=\"1\" class=\"dataframe\">\n",
       "  <thead>\n",
       "    <tr style=\"text-align: right;\">\n",
       "      <th></th>\n",
       "      <th>types</th>\n",
       "      <th>non_null_counts</th>\n",
       "      <th>mean</th>\n",
       "      <th>std</th>\n",
       "      <th>min</th>\n",
       "      <th>max</th>\n",
       "      <th>%nulls</th>\n",
       "    </tr>\n",
       "    <tr>\n",
       "      <th>features</th>\n",
       "      <th></th>\n",
       "      <th></th>\n",
       "      <th></th>\n",
       "      <th></th>\n",
       "      <th></th>\n",
       "      <th></th>\n",
       "      <th></th>\n",
       "    </tr>\n",
       "  </thead>\n",
       "  <tbody>\n",
       "    <tr>\n",
       "      <th>CANCELLATION_REASON</th>\n",
       "      <td>object</td>\n",
       "      <td>0</td>\n",
       "      <td>NaN</td>\n",
       "      <td>NaN</td>\n",
       "      <td>NaN</td>\n",
       "      <td>NaN</td>\n",
       "      <td>100.0</td>\n",
       "    </tr>\n",
       "    <tr>\n",
       "      <th>DEPARTURE_DELAY</th>\n",
       "      <td>object</td>\n",
       "      <td>15187</td>\n",
       "      <td>NaN</td>\n",
       "      <td>NaN</td>\n",
       "      <td>NaN</td>\n",
       "      <td>NaN</td>\n",
       "      <td>0.0</td>\n",
       "    </tr>\n",
       "    <tr>\n",
       "      <th>ARRIVAL_DELAY</th>\n",
       "      <td>float64</td>\n",
       "      <td>0</td>\n",
       "      <td>NaN</td>\n",
       "      <td>NaN</td>\n",
       "      <td>NaN</td>\n",
       "      <td>NaN</td>\n",
       "      <td>100.0</td>\n",
       "    </tr>\n",
       "    <tr>\n",
       "      <th>DIVERTED</th>\n",
       "      <td>int64</td>\n",
       "      <td>15187</td>\n",
       "      <td>1.0</td>\n",
       "      <td>0.0</td>\n",
       "      <td>1.0</td>\n",
       "      <td>1.0</td>\n",
       "      <td>0.0</td>\n",
       "    </tr>\n",
       "  </tbody>\n",
       "</table>\n",
       "</div>"
      ],
      "text/plain": [
       "                       types  non_null_counts  mean  std  min  max  %nulls\n",
       "features                                                                  \n",
       "CANCELLATION_REASON   object                0   NaN  NaN  NaN  NaN   100.0\n",
       "DEPARTURE_DELAY       object            15187   NaN  NaN  NaN  NaN     0.0\n",
       "ARRIVAL_DELAY        float64                0   NaN  NaN  NaN  NaN   100.0\n",
       "DIVERTED               int64            15187   1.0  0.0  1.0  1.0     0.0"
      ]
     },
     "execution_count": 60,
     "metadata": {},
     "output_type": "execute_result"
    }
   ],
   "source": [
    "# (diverted flights) ∩ (arrival delay null) ∩ (cancellation reason IS null/0) \n",
    "a=get_dataframe_info(temp[(temp['ARRIVAL_DELAY'].isnull()) & (temp['DIVERTED']==1) & (temp['CANCELLATION_REASON'].isnull())])\n",
    "a.set_index('features', inplace=True)\n",
    "a.loc[['CANCELLATION_REASON','DEPARTURE_DELAY','ARRIVAL_DELAY','DIVERTED']]"
   ]
  },
  {
   "cell_type": "markdown",
   "id": "75c833dd",
   "metadata": {},
   "source": [
    "OVERAL: 105071 null in 'arrival delay' can be explained as 15187 diverted flights and 89884 cancelled flights.\n",
    "We can impute missing values and control by the relevant column."
   ]
  },
  {
   "cell_type": "markdown",
   "id": "cf725115",
   "metadata": {},
   "source": [
    "#"
   ]
  },
  {
   "cell_type": "markdown",
   "id": "027ff476",
   "metadata": {},
   "source": [
    "Having explained the afforementioned missing values in our temp dataframe we can then impute our original dataset thus:\n",
    "\n",
    "-Fill na all departure/arrival delays and times\n",
    "\n",
    "-Fill na diverted,cancellation reasons\n",
    "\n",
    "-Create a column that displays whether the flight either diverted or cancelled\n",
    "\n",
    "-Last create a column that summarize if there was any delay (>0) , either arrival or departure"
   ]
  },
  {
   "cell_type": "code",
   "execution_count": 61,
   "id": "99809f93",
   "metadata": {},
   "outputs": [],
   "source": [
    "flights_extended['delay'] = 0\n",
    "flights_extended.loc[(flights_extended['DEPARTURE_DELAY']>0) | (flights_extended['ARRIVAL_DELAY']>0), \n",
    "       'delay'] = 1 \n",
    "\n",
    "flights_extended['Div/Canc'] = 0\n",
    "flights_extended.loc[(flights_extended['CANCELLATION_REASON'].notnull()) |\n",
    "                       (flights_extended['DIVERTED']==1) , \n",
    "       'Div/Canc'] = 1  \n",
    "\n",
    "\n",
    "flights_extended[['CANCELLATION_REASON', 'DIVERTED','DEPARTURE_DELAY','DEPARTURE_TIME','ARRIVAL_DELAY','ARRIVAL_TIME']] = flights_extended[['CANCELLATION_REASON', 'DIVERTED','DEPARTURE_DELAY','DEPARTURE_TIME','ARRIVAL_DELAY','ARRIVAL_TIME']].fillna(value=0)\n"
   ]
  },
  {
   "cell_type": "code",
   "execution_count": 62,
   "id": "ce3c1a23",
   "metadata": {},
   "outputs": [
    {
     "data": {
      "application/vnd.plotly.v1+json": {
       "config": {
        "plotlyServerURL": "https://plot.ly"
       },
       "data": [
        {
         "hoverinfo": "label+percent",
         "labels": [
          "no_issue",
          "delayed",
          "diverted/cancelled",
          "delayed&cancelled"
         ],
         "marker": {
          "colors": [
           "mediumturquoise",
           "gold",
           "darkorange",
           "rgb(56, 75, 126)"
          ],
          "line": {
           "color": "#000000",
           "width": 2
          }
         },
         "textfont": {
          "size": 20
         },
         "textinfo": "value",
         "type": "pie",
         "values": [
          3020210,
          2693798,
          94502,
          10569
         ]
        }
       ],
       "layout": {
        "template": {
         "data": {
          "bar": [
           {
            "error_x": {
             "color": "#2a3f5f"
            },
            "error_y": {
             "color": "#2a3f5f"
            },
            "marker": {
             "line": {
              "color": "#E5ECF6",
              "width": 0.5
             },
             "pattern": {
              "fillmode": "overlay",
              "size": 10,
              "solidity": 0.2
             }
            },
            "type": "bar"
           }
          ],
          "barpolar": [
           {
            "marker": {
             "line": {
              "color": "#E5ECF6",
              "width": 0.5
             },
             "pattern": {
              "fillmode": "overlay",
              "size": 10,
              "solidity": 0.2
             }
            },
            "type": "barpolar"
           }
          ],
          "carpet": [
           {
            "aaxis": {
             "endlinecolor": "#2a3f5f",
             "gridcolor": "white",
             "linecolor": "white",
             "minorgridcolor": "white",
             "startlinecolor": "#2a3f5f"
            },
            "baxis": {
             "endlinecolor": "#2a3f5f",
             "gridcolor": "white",
             "linecolor": "white",
             "minorgridcolor": "white",
             "startlinecolor": "#2a3f5f"
            },
            "type": "carpet"
           }
          ],
          "choropleth": [
           {
            "colorbar": {
             "outlinewidth": 0,
             "ticks": ""
            },
            "type": "choropleth"
           }
          ],
          "contour": [
           {
            "colorbar": {
             "outlinewidth": 0,
             "ticks": ""
            },
            "colorscale": [
             [
              0,
              "#0d0887"
             ],
             [
              0.1111111111111111,
              "#46039f"
             ],
             [
              0.2222222222222222,
              "#7201a8"
             ],
             [
              0.3333333333333333,
              "#9c179e"
             ],
             [
              0.4444444444444444,
              "#bd3786"
             ],
             [
              0.5555555555555556,
              "#d8576b"
             ],
             [
              0.6666666666666666,
              "#ed7953"
             ],
             [
              0.7777777777777778,
              "#fb9f3a"
             ],
             [
              0.8888888888888888,
              "#fdca26"
             ],
             [
              1,
              "#f0f921"
             ]
            ],
            "type": "contour"
           }
          ],
          "contourcarpet": [
           {
            "colorbar": {
             "outlinewidth": 0,
             "ticks": ""
            },
            "type": "contourcarpet"
           }
          ],
          "heatmap": [
           {
            "colorbar": {
             "outlinewidth": 0,
             "ticks": ""
            },
            "colorscale": [
             [
              0,
              "#0d0887"
             ],
             [
              0.1111111111111111,
              "#46039f"
             ],
             [
              0.2222222222222222,
              "#7201a8"
             ],
             [
              0.3333333333333333,
              "#9c179e"
             ],
             [
              0.4444444444444444,
              "#bd3786"
             ],
             [
              0.5555555555555556,
              "#d8576b"
             ],
             [
              0.6666666666666666,
              "#ed7953"
             ],
             [
              0.7777777777777778,
              "#fb9f3a"
             ],
             [
              0.8888888888888888,
              "#fdca26"
             ],
             [
              1,
              "#f0f921"
             ]
            ],
            "type": "heatmap"
           }
          ],
          "heatmapgl": [
           {
            "colorbar": {
             "outlinewidth": 0,
             "ticks": ""
            },
            "colorscale": [
             [
              0,
              "#0d0887"
             ],
             [
              0.1111111111111111,
              "#46039f"
             ],
             [
              0.2222222222222222,
              "#7201a8"
             ],
             [
              0.3333333333333333,
              "#9c179e"
             ],
             [
              0.4444444444444444,
              "#bd3786"
             ],
             [
              0.5555555555555556,
              "#d8576b"
             ],
             [
              0.6666666666666666,
              "#ed7953"
             ],
             [
              0.7777777777777778,
              "#fb9f3a"
             ],
             [
              0.8888888888888888,
              "#fdca26"
             ],
             [
              1,
              "#f0f921"
             ]
            ],
            "type": "heatmapgl"
           }
          ],
          "histogram": [
           {
            "marker": {
             "pattern": {
              "fillmode": "overlay",
              "size": 10,
              "solidity": 0.2
             }
            },
            "type": "histogram"
           }
          ],
          "histogram2d": [
           {
            "colorbar": {
             "outlinewidth": 0,
             "ticks": ""
            },
            "colorscale": [
             [
              0,
              "#0d0887"
             ],
             [
              0.1111111111111111,
              "#46039f"
             ],
             [
              0.2222222222222222,
              "#7201a8"
             ],
             [
              0.3333333333333333,
              "#9c179e"
             ],
             [
              0.4444444444444444,
              "#bd3786"
             ],
             [
              0.5555555555555556,
              "#d8576b"
             ],
             [
              0.6666666666666666,
              "#ed7953"
             ],
             [
              0.7777777777777778,
              "#fb9f3a"
             ],
             [
              0.8888888888888888,
              "#fdca26"
             ],
             [
              1,
              "#f0f921"
             ]
            ],
            "type": "histogram2d"
           }
          ],
          "histogram2dcontour": [
           {
            "colorbar": {
             "outlinewidth": 0,
             "ticks": ""
            },
            "colorscale": [
             [
              0,
              "#0d0887"
             ],
             [
              0.1111111111111111,
              "#46039f"
             ],
             [
              0.2222222222222222,
              "#7201a8"
             ],
             [
              0.3333333333333333,
              "#9c179e"
             ],
             [
              0.4444444444444444,
              "#bd3786"
             ],
             [
              0.5555555555555556,
              "#d8576b"
             ],
             [
              0.6666666666666666,
              "#ed7953"
             ],
             [
              0.7777777777777778,
              "#fb9f3a"
             ],
             [
              0.8888888888888888,
              "#fdca26"
             ],
             [
              1,
              "#f0f921"
             ]
            ],
            "type": "histogram2dcontour"
           }
          ],
          "mesh3d": [
           {
            "colorbar": {
             "outlinewidth": 0,
             "ticks": ""
            },
            "type": "mesh3d"
           }
          ],
          "parcoords": [
           {
            "line": {
             "colorbar": {
              "outlinewidth": 0,
              "ticks": ""
             }
            },
            "type": "parcoords"
           }
          ],
          "pie": [
           {
            "automargin": true,
            "type": "pie"
           }
          ],
          "scatter": [
           {
            "fillpattern": {
             "fillmode": "overlay",
             "size": 10,
             "solidity": 0.2
            },
            "type": "scatter"
           }
          ],
          "scatter3d": [
           {
            "line": {
             "colorbar": {
              "outlinewidth": 0,
              "ticks": ""
             }
            },
            "marker": {
             "colorbar": {
              "outlinewidth": 0,
              "ticks": ""
             }
            },
            "type": "scatter3d"
           }
          ],
          "scattercarpet": [
           {
            "marker": {
             "colorbar": {
              "outlinewidth": 0,
              "ticks": ""
             }
            },
            "type": "scattercarpet"
           }
          ],
          "scattergeo": [
           {
            "marker": {
             "colorbar": {
              "outlinewidth": 0,
              "ticks": ""
             }
            },
            "type": "scattergeo"
           }
          ],
          "scattergl": [
           {
            "marker": {
             "colorbar": {
              "outlinewidth": 0,
              "ticks": ""
             }
            },
            "type": "scattergl"
           }
          ],
          "scattermapbox": [
           {
            "marker": {
             "colorbar": {
              "outlinewidth": 0,
              "ticks": ""
             }
            },
            "type": "scattermapbox"
           }
          ],
          "scatterpolar": [
           {
            "marker": {
             "colorbar": {
              "outlinewidth": 0,
              "ticks": ""
             }
            },
            "type": "scatterpolar"
           }
          ],
          "scatterpolargl": [
           {
            "marker": {
             "colorbar": {
              "outlinewidth": 0,
              "ticks": ""
             }
            },
            "type": "scatterpolargl"
           }
          ],
          "scatterternary": [
           {
            "marker": {
             "colorbar": {
              "outlinewidth": 0,
              "ticks": ""
             }
            },
            "type": "scatterternary"
           }
          ],
          "surface": [
           {
            "colorbar": {
             "outlinewidth": 0,
             "ticks": ""
            },
            "colorscale": [
             [
              0,
              "#0d0887"
             ],
             [
              0.1111111111111111,
              "#46039f"
             ],
             [
              0.2222222222222222,
              "#7201a8"
             ],
             [
              0.3333333333333333,
              "#9c179e"
             ],
             [
              0.4444444444444444,
              "#bd3786"
             ],
             [
              0.5555555555555556,
              "#d8576b"
             ],
             [
              0.6666666666666666,
              "#ed7953"
             ],
             [
              0.7777777777777778,
              "#fb9f3a"
             ],
             [
              0.8888888888888888,
              "#fdca26"
             ],
             [
              1,
              "#f0f921"
             ]
            ],
            "type": "surface"
           }
          ],
          "table": [
           {
            "cells": {
             "fill": {
              "color": "#EBF0F8"
             },
             "line": {
              "color": "white"
             }
            },
            "header": {
             "fill": {
              "color": "#C8D4E3"
             },
             "line": {
              "color": "white"
             }
            },
            "type": "table"
           }
          ]
         },
         "layout": {
          "annotationdefaults": {
           "arrowcolor": "#2a3f5f",
           "arrowhead": 0,
           "arrowwidth": 1
          },
          "autotypenumbers": "strict",
          "coloraxis": {
           "colorbar": {
            "outlinewidth": 0,
            "ticks": ""
           }
          },
          "colorscale": {
           "diverging": [
            [
             0,
             "#8e0152"
            ],
            [
             0.1,
             "#c51b7d"
            ],
            [
             0.2,
             "#de77ae"
            ],
            [
             0.3,
             "#f1b6da"
            ],
            [
             0.4,
             "#fde0ef"
            ],
            [
             0.5,
             "#f7f7f7"
            ],
            [
             0.6,
             "#e6f5d0"
            ],
            [
             0.7,
             "#b8e186"
            ],
            [
             0.8,
             "#7fbc41"
            ],
            [
             0.9,
             "#4d9221"
            ],
            [
             1,
             "#276419"
            ]
           ],
           "sequential": [
            [
             0,
             "#0d0887"
            ],
            [
             0.1111111111111111,
             "#46039f"
            ],
            [
             0.2222222222222222,
             "#7201a8"
            ],
            [
             0.3333333333333333,
             "#9c179e"
            ],
            [
             0.4444444444444444,
             "#bd3786"
            ],
            [
             0.5555555555555556,
             "#d8576b"
            ],
            [
             0.6666666666666666,
             "#ed7953"
            ],
            [
             0.7777777777777778,
             "#fb9f3a"
            ],
            [
             0.8888888888888888,
             "#fdca26"
            ],
            [
             1,
             "#f0f921"
            ]
           ],
           "sequentialminus": [
            [
             0,
             "#0d0887"
            ],
            [
             0.1111111111111111,
             "#46039f"
            ],
            [
             0.2222222222222222,
             "#7201a8"
            ],
            [
             0.3333333333333333,
             "#9c179e"
            ],
            [
             0.4444444444444444,
             "#bd3786"
            ],
            [
             0.5555555555555556,
             "#d8576b"
            ],
            [
             0.6666666666666666,
             "#ed7953"
            ],
            [
             0.7777777777777778,
             "#fb9f3a"
            ],
            [
             0.8888888888888888,
             "#fdca26"
            ],
            [
             1,
             "#f0f921"
            ]
           ]
          },
          "colorway": [
           "#636efa",
           "#EF553B",
           "#00cc96",
           "#ab63fa",
           "#FFA15A",
           "#19d3f3",
           "#FF6692",
           "#B6E880",
           "#FF97FF",
           "#FECB52"
          ],
          "font": {
           "color": "#2a3f5f"
          },
          "geo": {
           "bgcolor": "white",
           "lakecolor": "white",
           "landcolor": "#E5ECF6",
           "showlakes": true,
           "showland": true,
           "subunitcolor": "white"
          },
          "hoverlabel": {
           "align": "left"
          },
          "hovermode": "closest",
          "mapbox": {
           "style": "light"
          },
          "paper_bgcolor": "white",
          "plot_bgcolor": "#E5ECF6",
          "polar": {
           "angularaxis": {
            "gridcolor": "white",
            "linecolor": "white",
            "ticks": ""
           },
           "bgcolor": "#E5ECF6",
           "radialaxis": {
            "gridcolor": "white",
            "linecolor": "white",
            "ticks": ""
           }
          },
          "scene": {
           "xaxis": {
            "backgroundcolor": "#E5ECF6",
            "gridcolor": "white",
            "gridwidth": 2,
            "linecolor": "white",
            "showbackground": true,
            "ticks": "",
            "zerolinecolor": "white"
           },
           "yaxis": {
            "backgroundcolor": "#E5ECF6",
            "gridcolor": "white",
            "gridwidth": 2,
            "linecolor": "white",
            "showbackground": true,
            "ticks": "",
            "zerolinecolor": "white"
           },
           "zaxis": {
            "backgroundcolor": "#E5ECF6",
            "gridcolor": "white",
            "gridwidth": 2,
            "linecolor": "white",
            "showbackground": true,
            "ticks": "",
            "zerolinecolor": "white"
           }
          },
          "shapedefaults": {
           "line": {
            "color": "#2a3f5f"
           }
          },
          "ternary": {
           "aaxis": {
            "gridcolor": "white",
            "linecolor": "white",
            "ticks": ""
           },
           "baxis": {
            "gridcolor": "white",
            "linecolor": "white",
            "ticks": ""
           },
           "bgcolor": "#E5ECF6",
           "caxis": {
            "gridcolor": "white",
            "linecolor": "white",
            "ticks": ""
           }
          },
          "title": {
           "x": 0.05
          },
          "xaxis": {
           "automargin": true,
           "gridcolor": "white",
           "linecolor": "white",
           "ticks": "",
           "title": {
            "standoff": 15
           },
           "zerolinecolor": "white",
           "zerolinewidth": 2
          },
          "yaxis": {
           "automargin": true,
           "gridcolor": "white",
           "linecolor": "white",
           "ticks": "",
           "title": {
            "standoff": 15
           },
           "zerolinecolor": "white",
           "zerolinewidth": 2
          }
         }
        },
        "title": {
         "text": "Segmentation of flights in terms of delay/cancellation"
        }
       }
      },
      "text/html": [
       "<div>                            <div id=\"eb146452-4b55-4bc5-ad15-abea944ccc4d\" class=\"plotly-graph-div\" style=\"height:525px; width:100%;\"></div>            <script type=\"text/javascript\">                require([\"plotly\"], function(Plotly) {                    window.PLOTLYENV=window.PLOTLYENV || {};                                    if (document.getElementById(\"eb146452-4b55-4bc5-ad15-abea944ccc4d\")) {                    Plotly.newPlot(                        \"eb146452-4b55-4bc5-ad15-abea944ccc4d\",                        [{\"labels\":[\"no_issue\",\"delayed\",\"diverted/cancelled\",\"delayed&cancelled\"],\"values\":[3020210,2693798,94502,10569],\"type\":\"pie\",\"textfont\":{\"size\":20},\"marker\":{\"line\":{\"color\":\"#000000\",\"width\":2},\"colors\":[\"mediumturquoise\",\"gold\",\"darkorange\",\"rgb(56, 75, 126)\"]},\"hoverinfo\":\"label+percent\",\"textinfo\":\"value\"}],                        {\"template\":{\"data\":{\"histogram2dcontour\":[{\"type\":\"histogram2dcontour\",\"colorbar\":{\"outlinewidth\":0,\"ticks\":\"\"},\"colorscale\":[[0.0,\"#0d0887\"],[0.1111111111111111,\"#46039f\"],[0.2222222222222222,\"#7201a8\"],[0.3333333333333333,\"#9c179e\"],[0.4444444444444444,\"#bd3786\"],[0.5555555555555556,\"#d8576b\"],[0.6666666666666666,\"#ed7953\"],[0.7777777777777778,\"#fb9f3a\"],[0.8888888888888888,\"#fdca26\"],[1.0,\"#f0f921\"]]}],\"choropleth\":[{\"type\":\"choropleth\",\"colorbar\":{\"outlinewidth\":0,\"ticks\":\"\"}}],\"histogram2d\":[{\"type\":\"histogram2d\",\"colorbar\":{\"outlinewidth\":0,\"ticks\":\"\"},\"colorscale\":[[0.0,\"#0d0887\"],[0.1111111111111111,\"#46039f\"],[0.2222222222222222,\"#7201a8\"],[0.3333333333333333,\"#9c179e\"],[0.4444444444444444,\"#bd3786\"],[0.5555555555555556,\"#d8576b\"],[0.6666666666666666,\"#ed7953\"],[0.7777777777777778,\"#fb9f3a\"],[0.8888888888888888,\"#fdca26\"],[1.0,\"#f0f921\"]]}],\"heatmap\":[{\"type\":\"heatmap\",\"colorbar\":{\"outlinewidth\":0,\"ticks\":\"\"},\"colorscale\":[[0.0,\"#0d0887\"],[0.1111111111111111,\"#46039f\"],[0.2222222222222222,\"#7201a8\"],[0.3333333333333333,\"#9c179e\"],[0.4444444444444444,\"#bd3786\"],[0.5555555555555556,\"#d8576b\"],[0.6666666666666666,\"#ed7953\"],[0.7777777777777778,\"#fb9f3a\"],[0.8888888888888888,\"#fdca26\"],[1.0,\"#f0f921\"]]}],\"heatmapgl\":[{\"type\":\"heatmapgl\",\"colorbar\":{\"outlinewidth\":0,\"ticks\":\"\"},\"colorscale\":[[0.0,\"#0d0887\"],[0.1111111111111111,\"#46039f\"],[0.2222222222222222,\"#7201a8\"],[0.3333333333333333,\"#9c179e\"],[0.4444444444444444,\"#bd3786\"],[0.5555555555555556,\"#d8576b\"],[0.6666666666666666,\"#ed7953\"],[0.7777777777777778,\"#fb9f3a\"],[0.8888888888888888,\"#fdca26\"],[1.0,\"#f0f921\"]]}],\"contourcarpet\":[{\"type\":\"contourcarpet\",\"colorbar\":{\"outlinewidth\":0,\"ticks\":\"\"}}],\"contour\":[{\"type\":\"contour\",\"colorbar\":{\"outlinewidth\":0,\"ticks\":\"\"},\"colorscale\":[[0.0,\"#0d0887\"],[0.1111111111111111,\"#46039f\"],[0.2222222222222222,\"#7201a8\"],[0.3333333333333333,\"#9c179e\"],[0.4444444444444444,\"#bd3786\"],[0.5555555555555556,\"#d8576b\"],[0.6666666666666666,\"#ed7953\"],[0.7777777777777778,\"#fb9f3a\"],[0.8888888888888888,\"#fdca26\"],[1.0,\"#f0f921\"]]}],\"surface\":[{\"type\":\"surface\",\"colorbar\":{\"outlinewidth\":0,\"ticks\":\"\"},\"colorscale\":[[0.0,\"#0d0887\"],[0.1111111111111111,\"#46039f\"],[0.2222222222222222,\"#7201a8\"],[0.3333333333333333,\"#9c179e\"],[0.4444444444444444,\"#bd3786\"],[0.5555555555555556,\"#d8576b\"],[0.6666666666666666,\"#ed7953\"],[0.7777777777777778,\"#fb9f3a\"],[0.8888888888888888,\"#fdca26\"],[1.0,\"#f0f921\"]]}],\"mesh3d\":[{\"type\":\"mesh3d\",\"colorbar\":{\"outlinewidth\":0,\"ticks\":\"\"}}],\"scatter\":[{\"fillpattern\":{\"fillmode\":\"overlay\",\"size\":10,\"solidity\":0.2},\"type\":\"scatter\"}],\"parcoords\":[{\"type\":\"parcoords\",\"line\":{\"colorbar\":{\"outlinewidth\":0,\"ticks\":\"\"}}}],\"scatterpolargl\":[{\"type\":\"scatterpolargl\",\"marker\":{\"colorbar\":{\"outlinewidth\":0,\"ticks\":\"\"}}}],\"bar\":[{\"error_x\":{\"color\":\"#2a3f5f\"},\"error_y\":{\"color\":\"#2a3f5f\"},\"marker\":{\"line\":{\"color\":\"#E5ECF6\",\"width\":0.5},\"pattern\":{\"fillmode\":\"overlay\",\"size\":10,\"solidity\":0.2}},\"type\":\"bar\"}],\"scattergeo\":[{\"type\":\"scattergeo\",\"marker\":{\"colorbar\":{\"outlinewidth\":0,\"ticks\":\"\"}}}],\"scatterpolar\":[{\"type\":\"scatterpolar\",\"marker\":{\"colorbar\":{\"outlinewidth\":0,\"ticks\":\"\"}}}],\"histogram\":[{\"marker\":{\"pattern\":{\"fillmode\":\"overlay\",\"size\":10,\"solidity\":0.2}},\"type\":\"histogram\"}],\"scattergl\":[{\"type\":\"scattergl\",\"marker\":{\"colorbar\":{\"outlinewidth\":0,\"ticks\":\"\"}}}],\"scatter3d\":[{\"type\":\"scatter3d\",\"line\":{\"colorbar\":{\"outlinewidth\":0,\"ticks\":\"\"}},\"marker\":{\"colorbar\":{\"outlinewidth\":0,\"ticks\":\"\"}}}],\"scattermapbox\":[{\"type\":\"scattermapbox\",\"marker\":{\"colorbar\":{\"outlinewidth\":0,\"ticks\":\"\"}}}],\"scatterternary\":[{\"type\":\"scatterternary\",\"marker\":{\"colorbar\":{\"outlinewidth\":0,\"ticks\":\"\"}}}],\"scattercarpet\":[{\"type\":\"scattercarpet\",\"marker\":{\"colorbar\":{\"outlinewidth\":0,\"ticks\":\"\"}}}],\"carpet\":[{\"aaxis\":{\"endlinecolor\":\"#2a3f5f\",\"gridcolor\":\"white\",\"linecolor\":\"white\",\"minorgridcolor\":\"white\",\"startlinecolor\":\"#2a3f5f\"},\"baxis\":{\"endlinecolor\":\"#2a3f5f\",\"gridcolor\":\"white\",\"linecolor\":\"white\",\"minorgridcolor\":\"white\",\"startlinecolor\":\"#2a3f5f\"},\"type\":\"carpet\"}],\"table\":[{\"cells\":{\"fill\":{\"color\":\"#EBF0F8\"},\"line\":{\"color\":\"white\"}},\"header\":{\"fill\":{\"color\":\"#C8D4E3\"},\"line\":{\"color\":\"white\"}},\"type\":\"table\"}],\"barpolar\":[{\"marker\":{\"line\":{\"color\":\"#E5ECF6\",\"width\":0.5},\"pattern\":{\"fillmode\":\"overlay\",\"size\":10,\"solidity\":0.2}},\"type\":\"barpolar\"}],\"pie\":[{\"automargin\":true,\"type\":\"pie\"}]},\"layout\":{\"autotypenumbers\":\"strict\",\"colorway\":[\"#636efa\",\"#EF553B\",\"#00cc96\",\"#ab63fa\",\"#FFA15A\",\"#19d3f3\",\"#FF6692\",\"#B6E880\",\"#FF97FF\",\"#FECB52\"],\"font\":{\"color\":\"#2a3f5f\"},\"hovermode\":\"closest\",\"hoverlabel\":{\"align\":\"left\"},\"paper_bgcolor\":\"white\",\"plot_bgcolor\":\"#E5ECF6\",\"polar\":{\"bgcolor\":\"#E5ECF6\",\"angularaxis\":{\"gridcolor\":\"white\",\"linecolor\":\"white\",\"ticks\":\"\"},\"radialaxis\":{\"gridcolor\":\"white\",\"linecolor\":\"white\",\"ticks\":\"\"}},\"ternary\":{\"bgcolor\":\"#E5ECF6\",\"aaxis\":{\"gridcolor\":\"white\",\"linecolor\":\"white\",\"ticks\":\"\"},\"baxis\":{\"gridcolor\":\"white\",\"linecolor\":\"white\",\"ticks\":\"\"},\"caxis\":{\"gridcolor\":\"white\",\"linecolor\":\"white\",\"ticks\":\"\"}},\"coloraxis\":{\"colorbar\":{\"outlinewidth\":0,\"ticks\":\"\"}},\"colorscale\":{\"sequential\":[[0.0,\"#0d0887\"],[0.1111111111111111,\"#46039f\"],[0.2222222222222222,\"#7201a8\"],[0.3333333333333333,\"#9c179e\"],[0.4444444444444444,\"#bd3786\"],[0.5555555555555556,\"#d8576b\"],[0.6666666666666666,\"#ed7953\"],[0.7777777777777778,\"#fb9f3a\"],[0.8888888888888888,\"#fdca26\"],[1.0,\"#f0f921\"]],\"sequentialminus\":[[0.0,\"#0d0887\"],[0.1111111111111111,\"#46039f\"],[0.2222222222222222,\"#7201a8\"],[0.3333333333333333,\"#9c179e\"],[0.4444444444444444,\"#bd3786\"],[0.5555555555555556,\"#d8576b\"],[0.6666666666666666,\"#ed7953\"],[0.7777777777777778,\"#fb9f3a\"],[0.8888888888888888,\"#fdca26\"],[1.0,\"#f0f921\"]],\"diverging\":[[0,\"#8e0152\"],[0.1,\"#c51b7d\"],[0.2,\"#de77ae\"],[0.3,\"#f1b6da\"],[0.4,\"#fde0ef\"],[0.5,\"#f7f7f7\"],[0.6,\"#e6f5d0\"],[0.7,\"#b8e186\"],[0.8,\"#7fbc41\"],[0.9,\"#4d9221\"],[1,\"#276419\"]]},\"xaxis\":{\"gridcolor\":\"white\",\"linecolor\":\"white\",\"ticks\":\"\",\"title\":{\"standoff\":15},\"zerolinecolor\":\"white\",\"automargin\":true,\"zerolinewidth\":2},\"yaxis\":{\"gridcolor\":\"white\",\"linecolor\":\"white\",\"ticks\":\"\",\"title\":{\"standoff\":15},\"zerolinecolor\":\"white\",\"automargin\":true,\"zerolinewidth\":2},\"scene\":{\"xaxis\":{\"backgroundcolor\":\"#E5ECF6\",\"gridcolor\":\"white\",\"linecolor\":\"white\",\"showbackground\":true,\"ticks\":\"\",\"zerolinecolor\":\"white\",\"gridwidth\":2},\"yaxis\":{\"backgroundcolor\":\"#E5ECF6\",\"gridcolor\":\"white\",\"linecolor\":\"white\",\"showbackground\":true,\"ticks\":\"\",\"zerolinecolor\":\"white\",\"gridwidth\":2},\"zaxis\":{\"backgroundcolor\":\"#E5ECF6\",\"gridcolor\":\"white\",\"linecolor\":\"white\",\"showbackground\":true,\"ticks\":\"\",\"zerolinecolor\":\"white\",\"gridwidth\":2}},\"shapedefaults\":{\"line\":{\"color\":\"#2a3f5f\"}},\"annotationdefaults\":{\"arrowcolor\":\"#2a3f5f\",\"arrowhead\":0,\"arrowwidth\":1},\"geo\":{\"bgcolor\":\"white\",\"landcolor\":\"#E5ECF6\",\"subunitcolor\":\"white\",\"showland\":true,\"showlakes\":true,\"lakecolor\":\"white\"},\"title\":{\"x\":0.05},\"mapbox\":{\"style\":\"light\"}}},\"title\":{\"text\":\"Segmentation of flights in terms of delay/cancellation\"}},                        {\"responsive\": true}                    ).then(function(){\n",
       "                            \n",
       "var gd = document.getElementById('eb146452-4b55-4bc5-ad15-abea944ccc4d');\n",
       "var x = new MutationObserver(function (mutations, observer) {{\n",
       "        var display = window.getComputedStyle(gd).display;\n",
       "        if (!display || display === 'none') {{\n",
       "            console.log([gd, 'removed!']);\n",
       "            Plotly.purge(gd);\n",
       "            observer.disconnect();\n",
       "        }}\n",
       "}});\n",
       "\n",
       "// Listen for the removal of the full notebook cells\n",
       "var notebookContainer = gd.closest('#notebook-container');\n",
       "if (notebookContainer) {{\n",
       "    x.observe(notebookContainer, {childList: true});\n",
       "}}\n",
       "\n",
       "// Listen for the clearing of the current output cell\n",
       "var outputEl = gd.closest('.output');\n",
       "if (outputEl) {{\n",
       "    x.observe(outputEl, {childList: true});\n",
       "}}\n",
       "\n",
       "                        })                };                });            </script>        </div>"
      ]
     },
     "metadata": {},
     "output_type": "display_data"
    }
   ],
   "source": [
    "#Then we create a pie chart to have a quick overview\n",
    "colors = ['mediumturquoise','gold','darkorange','rgb(56, 75, 126)']\n",
    "labels= ['no_issue','delayed','diverted/cancelled','delayed&cancelled']\n",
    "values=[flights_extended[(flights_extended['delay']==0)&(flights_extended['Div/Canc']==0)]['YEAR'].count(),flights_extended[(flights_extended['delay']==1)&(flights_extended['Div/Canc']==0)]['YEAR'].count(),flights_extended[(flights_extended['Div/Canc']==1)&(flights_extended['delay']==0)]['YEAR'].count(),flights_extended[(flights_extended['Div/Canc']==1)&(flights_extended['delay']==1)]['YEAR'].count()]\n",
    "        \n",
    "fig = go.Figure(data=[go.Pie(labels=labels, values=values)])\n",
    "fig.update_traces(hoverinfo='label+percent', textinfo='value', textfont_size=20,\n",
    "                  marker=dict(colors=colors, line=dict(color='#000000', width=2)))\n",
    "fig.update(layout_title_text='Segmentation of flights in terms of delay/cancellation')\n",
    "\n",
    "fig.show()"
   ]
  },
  {
   "cell_type": "markdown",
   "id": "4b33b0cf",
   "metadata": {},
   "source": [
    "#Points of interest:\n",
    "\n",
    "-0,182% flights departure_delayed and were later either diverted or cancelled. 1,62% of the flights are cancelled/diverted. \n",
    "These are small figures in terms of percentages but of great importance conserning customer satisfaction.\n",
    "\n",
    "-Almost in half the total flights there are delays. Considering busy airports and the queuing implications, this is of great importance in terms of productivity."
   ]
  },
  {
   "cell_type": "markdown",
   "id": "95cc5739",
   "metadata": {},
   "source": [
    "#B Delay reasoning nulls: 81.72%"
   ]
  },
  {
   "cell_type": "code",
   "execution_count": 66,
   "id": "234538fb",
   "metadata": {},
   "outputs": [
    {
     "data": {
      "text/html": [
       "<div>\n",
       "<style scoped>\n",
       "    .dataframe tbody tr th:only-of-type {\n",
       "        vertical-align: middle;\n",
       "    }\n",
       "\n",
       "    .dataframe tbody tr th {\n",
       "        vertical-align: top;\n",
       "    }\n",
       "\n",
       "    .dataframe thead th {\n",
       "        text-align: right;\n",
       "    }\n",
       "</style>\n",
       "<table border=\"1\" class=\"dataframe\">\n",
       "  <thead>\n",
       "    <tr style=\"text-align: right;\">\n",
       "      <th></th>\n",
       "      <th>types</th>\n",
       "      <th>non_null_counts</th>\n",
       "      <th>mean</th>\n",
       "      <th>std</th>\n",
       "      <th>min</th>\n",
       "      <th>max</th>\n",
       "      <th>%nulls</th>\n",
       "    </tr>\n",
       "    <tr>\n",
       "      <th>features</th>\n",
       "      <th></th>\n",
       "      <th></th>\n",
       "      <th></th>\n",
       "      <th></th>\n",
       "      <th></th>\n",
       "      <th></th>\n",
       "      <th></th>\n",
       "    </tr>\n",
       "  </thead>\n",
       "  <tbody>\n",
       "    <tr>\n",
       "      <th>WEATHER_DELAY</th>\n",
       "      <td>float64</td>\n",
       "      <td>1063439</td>\n",
       "      <td>2.915290</td>\n",
       "      <td>20.433336</td>\n",
       "      <td>0.0</td>\n",
       "      <td>1211.0</td>\n",
       "      <td>60.676972</td>\n",
       "    </tr>\n",
       "    <tr>\n",
       "      <th>LATE_AIRCRAFT_DELAY</th>\n",
       "      <td>float64</td>\n",
       "      <td>1063439</td>\n",
       "      <td>23.472838</td>\n",
       "      <td>43.197018</td>\n",
       "      <td>0.0</td>\n",
       "      <td>1331.0</td>\n",
       "      <td>60.676972</td>\n",
       "    </tr>\n",
       "    <tr>\n",
       "      <th>AIRLINE_DELAY</th>\n",
       "      <td>float64</td>\n",
       "      <td>1063439</td>\n",
       "      <td>18.969547</td>\n",
       "      <td>48.161642</td>\n",
       "      <td>0.0</td>\n",
       "      <td>1971.0</td>\n",
       "      <td>60.676972</td>\n",
       "    </tr>\n",
       "    <tr>\n",
       "      <th>SECURITY_DELAY</th>\n",
       "      <td>float64</td>\n",
       "      <td>1063439</td>\n",
       "      <td>0.076154</td>\n",
       "      <td>2.143460</td>\n",
       "      <td>0.0</td>\n",
       "      <td>573.0</td>\n",
       "      <td>60.676972</td>\n",
       "    </tr>\n",
       "    <tr>\n",
       "      <th>AIR_SYSTEM_DELAY</th>\n",
       "      <td>float64</td>\n",
       "      <td>1063439</td>\n",
       "      <td>13.480568</td>\n",
       "      <td>28.003679</td>\n",
       "      <td>0.0</td>\n",
       "      <td>1134.0</td>\n",
       "      <td>60.676972</td>\n",
       "    </tr>\n",
       "    <tr>\n",
       "      <th>DEPARTURE_DELAY</th>\n",
       "      <td>float64</td>\n",
       "      <td>2704367</td>\n",
       "      <td>24.927057</td>\n",
       "      <td>49.445211</td>\n",
       "      <td>-42.0</td>\n",
       "      <td>1988.0</td>\n",
       "      <td>0.000000</td>\n",
       "    </tr>\n",
       "    <tr>\n",
       "      <th>ARRIVAL_DELAY</th>\n",
       "      <td>float64</td>\n",
       "      <td>2704367</td>\n",
       "      <td>23.694547</td>\n",
       "      <td>49.745699</td>\n",
       "      <td>-81.0</td>\n",
       "      <td>1971.0</td>\n",
       "      <td>0.000000</td>\n",
       "    </tr>\n",
       "    <tr>\n",
       "      <th>reasons</th>\n",
       "      <td>float64</td>\n",
       "      <td>1063439</td>\n",
       "      <td>1.000000</td>\n",
       "      <td>0.000000</td>\n",
       "      <td>1.0</td>\n",
       "      <td>1.0</td>\n",
       "      <td>60.676972</td>\n",
       "    </tr>\n",
       "  </tbody>\n",
       "</table>\n",
       "</div>"
      ],
      "text/plain": [
       "                       types  non_null_counts       mean        std   min  \\\n",
       "features                                                                    \n",
       "WEATHER_DELAY        float64          1063439   2.915290  20.433336   0.0   \n",
       "LATE_AIRCRAFT_DELAY  float64          1063439  23.472838  43.197018   0.0   \n",
       "AIRLINE_DELAY        float64          1063439  18.969547  48.161642   0.0   \n",
       "SECURITY_DELAY       float64          1063439   0.076154   2.143460   0.0   \n",
       "AIR_SYSTEM_DELAY     float64          1063439  13.480568  28.003679   0.0   \n",
       "DEPARTURE_DELAY      float64          2704367  24.927057  49.445211 -42.0   \n",
       "ARRIVAL_DELAY        float64          2704367  23.694547  49.745699 -81.0   \n",
       "reasons              float64          1063439   1.000000   0.000000   1.0   \n",
       "\n",
       "                        max     %nulls  \n",
       "features                                \n",
       "WEATHER_DELAY        1211.0  60.676972  \n",
       "LATE_AIRCRAFT_DELAY  1331.0  60.676972  \n",
       "AIRLINE_DELAY        1971.0  60.676972  \n",
       "SECURITY_DELAY        573.0  60.676972  \n",
       "AIR_SYSTEM_DELAY     1134.0  60.676972  \n",
       "DEPARTURE_DELAY      1988.0   0.000000  \n",
       "ARRIVAL_DELAY        1971.0   0.000000  \n",
       "reasons                 1.0  60.676972  "
      ]
     },
     "execution_count": 66,
     "metadata": {},
     "output_type": "execute_result"
    }
   ],
   "source": [
    "temp=flights_extended.copy()\n",
    "\n",
    "temp['reasons'] = np.nan\n",
    "temp.loc[(temp['WEATHER_DELAY'] >0) |\n",
    "         (temp['LATE_AIRCRAFT_DELAY'] >0) |\n",
    "         (temp['AIRLINE_DELAY'] >0) |\n",
    "         (temp['SECURITY_DELAY'] >0) |\n",
    "         (temp['AIR_SYSTEM_DELAY'] >0), \n",
    "       'reasons'] = 1 \n",
    "#Checking if when there is actual delay whether a reason is provided\n",
    "a=get_dataframe_info(temp[temp['delay']>0])\n",
    "a.set_index('features', inplace=True)\n",
    "a.loc[['WEATHER_DELAY', 'LATE_AIRCRAFT_DELAY','AIRLINE_DELAY','SECURITY_DELAY','AIR_SYSTEM_DELAY','DEPARTURE_DELAY','ARRIVAL_DELAY','reasons']]"
   ]
  },
  {
   "cell_type": "code",
   "execution_count": 19,
   "id": "5de33815",
   "metadata": {},
   "outputs": [
    {
     "name": "stdout",
     "output_type": "stream",
     "text": [
      "For 60% of the flights where there was an actual delay, we are missing the reason of the delay.Should we wish to examine the reason of the dealy as part of our parameters we would have available only 40% of the initial dataset\n"
     ]
    }
   ],
   "source": [
    "del temp\n",
    "print( 'For 60% of the flights where there was an actual delay, we are missing the reason of the delay.\\\n",
    "Should we wish to examine the reason of the dealy as part of our parameters we would have available only 40% of the initial dataset')"
   ]
  },
  {
   "cell_type": "code",
   "execution_count": null,
   "id": "6ccb3335",
   "metadata": {},
   "outputs": [],
   "source": [
    "#temp[(temp['delay']>0)&(temp['reasons']!=1)]\n",
    "fig = px.histogram(temp[(temp['delay']>0)&(temp['reasons']!=1)], x=\"DEPARTURE_DELAY\")\n",
    "fig.show()"
   ]
  },
  {
   "cell_type": "markdown",
   "id": "a522dea6",
   "metadata": {},
   "source": [
    "Furthermore, when examining the distribution of departure_delays, when there is no justification for those a small amount of occurances with significant time size are not explained. Should all those cases had a very small delay in terms of minutes we could have imputed 0. In this case such a reasoning is not valid. \n",
    "\n",
    "Alternatively, the feature: delay reason, might not take a value when there was a previous change in routing. This is out of the scope of our analysis and will not be further examined. "
   ]
  },
  {
   "cell_type": "markdown",
   "id": "282874e1",
   "metadata": {},
   "source": [
    "We will drop those column as it is not part of our objective."
   ]
  },
  {
   "cell_type": "code",
   "execution_count": 20,
   "id": "f8fb8c70",
   "metadata": {},
   "outputs": [],
   "source": [
    "flights_extended.drop(['WEATHER_DELAY', 'LATE_AIRCRAFT_DELAY','AIRLINE_DELAY','SECURITY_DELAY','AIR_SYSTEM_DELAY']\\\n",
    "                      , axis=1,inplace=True)"
   ]
  },
  {
   "cell_type": "markdown",
   "id": "d958836a",
   "metadata": {},
   "source": [
    "C)ORIG/DEST_AIRPORT/ORIG/DEST_LATITUDE  have 8.522716% nulls"
   ]
  },
  {
   "cell_type": "code",
   "execution_count": 21,
   "id": "3f6e8d49",
   "metadata": {},
   "outputs": [
    {
     "name": "stdout",
     "output_type": "stream",
     "text": [
      "The format of airports for which we do not have data is as follows:['14771' '12889' '12892' '14869' '10299' '11292' '14107' '11630' '10732']\n",
      "In total there are 609 non IATA airport codes\n",
      "In total there are 322 IATA airport codes\n"
     ]
    }
   ],
   "source": [
    "print('The format of airports for which we do not have data is as follows:'+str(flights_extended[flights_extended['ORIG_AIRPORT'].isnull()]['ORIGIN_AIRPORT'].unique()[1:10]))\n",
    "a=flights_extended[flights_extended['ORIG_AIRPORT'].isnull()]['ORIGIN_AIRPORT'].unique().tolist()\n",
    "b=flights_extended[flights_extended['DEST_AIRPORT'].isnull()]['DESTINATION_AIRPORT'].unique().tolist()\n",
    "a.extend(b)\n",
    "c=len(set(a))\n",
    "print('In total there are '+str(c)+' non IATA airport codes')\n",
    "a=flights_extended[flights_extended['ORIG_AIRPORT'].notnull()]['ORIGIN_AIRPORT'].unique().tolist()\n",
    "b=flights_extended[flights_extended['DEST_AIRPORT'].notnull()]['DESTINATION_AIRPORT'].unique().tolist()\n",
    "a.extend(b)\n",
    "d=len(set(a)) # i overwite variable to save RAM\n",
    "print('In total there are '+str(d)+' IATA airport codes')\n",
    "\n",
    "del a,b,c"
   ]
  },
  {
   "cell_type": "code",
   "execution_count": null,
   "id": "3d3e0fa8",
   "metadata": {},
   "outputs": [],
   "source": [
    "colors = ['mediumturquoise','gold']\n",
    "labels= ['No_IATA_CODE','IATA_CODE']\n",
    "values=[flights_extended[(flights_extended['DEST_AIRPORT'].isnull())|(flights_extended['ORIG_AIRPORT'].isnull())]['YEAR'].count(),flights_extended[(flights_extended['DEST_AIRPORT'].notnull())|(flights_extended['ORIG_AIRPORT'].notnull())]['YEAR'].count()]\n",
    "text=['609 airports','322 airports']\n",
    "        \n",
    "fig = go.Figure(data=[go.Pie(labels=labels, values=values,text=text)])\n",
    "fig.update_traces(hoverinfo='label+text', textinfo='percent+value', textfont_size=10,\n",
    "                  marker=dict(colors=colors, line=dict(color='#000000', width=2)))\n",
    "fig.update(layout_title_text='Flights with/out aiport IATA code')\n",
    "\n",
    "fig.show()\n"
   ]
  },
  {
   "cell_type": "markdown",
   "id": "ac686d58",
   "metadata": {},
   "source": [
    "We identified the reason of the missing values:\n",
    "\n",
    "The airoport coding is numerical. These do not correspond to our airport dataset (IATA codes are aplhanumerical).\n",
    "We suspect that they might be ISO 3166-1 numeric, and refer to countries with no latin alphabet.\n",
    "\n",
    "In case we require to create a map in our analysis these will be ignored, but do not otherwise affect significanlty our analysis: \n",
    "The nulls are 9% of our dataset and refer to 608 airports. \n",
    "The valid 91% of our dataset is compromised of 322 known airports.\n",
    "\n",
    "We will not drop those flights as we expect that in terms of the top 10 airports with delays, the cases with unknown airport code will not arrise."
   ]
  },
  {
   "cell_type": "markdown",
   "id": "1f02ef59",
   "metadata": {},
   "source": [
    "-Representation of the bussiest aiports in term of (1)inbound and 2() outbound flights.Size represent the number of flights. ( airports with unknown code are not included)"
   ]
  },
  {
   "cell_type": "code",
   "execution_count": 23,
   "id": "9713257b",
   "metadata": {},
   "outputs": [
    {
     "data": {
      "application/vnd.plotly.v1+json": {
       "config": {
        "plotlyServerURL": "https://plot.ly"
       },
       "data": [
        {
         "geo": "geo",
         "hovertemplate": "<b>%{hovertext}</b><br><br>count_flights=%{marker.size}<br>LATITUDE=%{lat}<br>LONGITUDE=%{lon}<extra></extra>",
         "hovertext": [
          "Lehigh Valley International Airport",
          "Abilene Regional Airport",
          "Albuquerque International Sunport",
          "Aberdeen Regional Airport",
          "Southwest Georgia Regional Airport",
          "Nantucket Memorial Airport",
          "Waco Regional Airport",
          "Arcata Airport",
          "Atlantic City International Airport",
          "Adak Airport",
          "Kodiak Airport",
          "Alexandria International Airport",
          "Augusta Regional Airport (Bush Field)",
          "King Salmon Airport",
          "Albany International Airport",
          "Waterloo Regional Airport",
          "Rick Husband Amarillo International Airport",
          "Ted Stevens Anchorage International Airport",
          "Alpena County Regional Airport",
          "Aspen-Pitkin County Airport",
          "Hartsfield-Jackson Atlanta International Airport",
          "Appleton International Airport",
          "Austin-Bergstrom International Airport",
          "Asheville Regional Airport",
          "Wilkes-Barre/Scranton International Airport",
          "Kalamazoo/Battle Creek International Airport",
          "Bradley International Airport",
          "Bethel Airport",
          "Meadows Field",
          "Greater Binghamton Airport",
          "Bangor International Airport",
          "Birmingham-Shuttlesworth International Airport",
          "Billings Logan International Airport",
          "Bismarck Municipal Airport",
          "Bemidji Regional Airport",
          "Bellingham International Airport",
          "Central Illinois Regional Airport at Bloomington-Normal",
          "Nashville International Airport",
          "Boise Airport (Boise Air Terminal)",
          "Gen. Edward Lawrence Logan International Airport",
          "Jack Brooks Regional Airport (Southeast Texas Regional)",
          "Brunswick Golden Isles Airport",
          "Rafael Hernández Airport",
          "Brainerd Lakes Regional Airport",
          "Brownsville/South Padre Island International Airport",
          "Wiley Post-Will Rogers Memorial Airport",
          "Bert Mooney Airport",
          "Baton Rouge Metropolitan Airport",
          "Burlington International Airport",
          "Buffalo Niagara International Airport",
          "Bob Hope Airport (Hollywood Burbank Airport)",
          "Baltimore-Washington International Airport",
          "Bozeman Yellowstone International Airport (Gallatin Field Airport)",
          "Columbia Metropolitan Airport",
          "Akron-Canton Regional Airport",
          "Cedar City Regional Airport",
          "Merle K. (Mudhole) Smith Airport",
          "Del Norte County Airport (Jack McNamara Field)",
          "Chattanooga Metropolitan Airport (Lovell Field)",
          "Charlottesville-Albemarle Airport",
          "Charleston International Airport/Charleston AFB",
          "The Eastern Iowa Airport",
          "Chippewa County International Airport",
          "McClellan-Palomar Airport",
          "Cleveland Hopkins International Airport",
          "Easterwood Airport",
          "Charlotte Douglas International Airport",
          "Port Columbus International Airport",
          "University of Illinois - Willard Airport",
          "Houghton County Memorial Airport",
          "Canyonlands Field",
          "Yellowstone Regional Airport",
          "City of Colorado Springs Municipal Airport",
          "Columbia Regional Airport",
          "Natrona County International Airport",
          "Corpus Christi International Airport",
          "Yeager Airport",
          "Columbus Metropolitan Airport",
          "Cincinnati/Northern Kentucky International Airport",
          "Central Wisconsin Airport",
          "Daytona Beach International Airport",
          "Dallas Love Field",
          "James M. Cox Dayton International Airport",
          "Dubuque Regional Airport",
          "Ronald Reagan Washington National Airport",
          "Denver International Airport",
          "Dallas/Fort Worth International Airport",
          "Dothan Regional Airport",
          "Dickinson Theodore Roosevelt Regional Airport",
          "Dillingham Airport",
          "Duluth International Airport",
          "Durango-La Plata County Airport",
          "Des Moines International Airport",
          "Detroit Metropolitan Airport",
          "Devils Lake Regional Airport",
          "Chippewa Valley Regional Airport",
          "Northwest Florida Beaches International Airport",
          "Eagle County Regional Airport",
          "Elko Regional Airport",
          "Elmira/Corning Regional Airport",
          "El Paso International Airport",
          "Erie International Airport",
          "Delta County Airport",
          "Eugene Airport (Mahlon Sweet Field)",
          "Evansville Regional Airport",
          "Coastal Carolina Regional Airport (Craven County Regional)",
          "Newark Liberty International Airport",
          "Key West International Airport",
          "Fairbanks International Airport",
          "Hector International Airport",
          "Fresno Yosemite International Airport",
          "Fayetteville Regional Airport",
          "Glacier Park International Airport",
          "Flagstaff Pulliam Airport",
          "Fort Lauderdale-Hollywood International Airport",
          "Bishop International Airport",
          "Sioux Falls Regional Airport",
          "Fort Smith Regional Airport",
          "Fort Wayne International Airport",
          "Gillette-Campbell County Airport",
          "Garden City Regional Airport",
          "Spokane International Airport",
          "Grand Forks International Airport",
          "East Texas Regional Airport",
          "Grand Junction Regional Airport (Walker Field)",
          "Gainesville Regional Airport",
          "Gulfport-Biloxi International Airport",
          "Green Bay-Austin Straubel International Airport",
          "Central Nebraska Regional Airport",
          "Killeen-Fort Hood Regional Airport",
          "Gerald R. Ford International Airport",
          "Piedmont Triad International Airport",
          "Greenville-Spartanburg International Airport",
          "Gustavus Airport",
          "Great Falls International Airport",
          "Golden Triangle Regional Airport",
          "Gunnison-Crested Butte Regional Airport",
          "Guam International Airport",
          "Yampa Valley Airport (Yampa Valley Regional)",
          "Range Regional Airport (Chisholm-Hibbing Airport)",
          "Helena Regional Airport",
          "Honolulu International Airport",
          "Lea County Regional Airport",
          "William P. Hobby Airport",
          "Westchester County Airport",
          "Valley International Airport",
          "Huntsville International Airport",
          "Barnstable Municipal Airport",
          "Hays Regional Airport",
          "Washington Dulles International Airport",
          "Niagara Falls International Airport",
          "George Bush Intercontinental Airport",
          "Wichita Dwight D. Eisenhower National Airport (Wichita Mid-Continent Airport)",
          "Idaho Falls Regional Airport",
          "Wilmington Airport",
          "Wilmington International Airport",
          "Ford Airport",
          "Indianapolis International Airport",
          "Falls International Airport",
          "Sloulin Field International Airport",
          "Long Island MacArthur Airport",
          "Ithaca Tompkins Regional Airport",
          "Hilo International Airport",
          "Jackson Hole Airport",
          "Jackson-Evers International Airport",
          "Jacksonville International Airport",
          "John F. Kennedy International Airport (New York International Airport)",
          "Joplin Regional Airport",
          "Jamestown Regional Airport",
          "Juneau International Airport",
          "Kona International Airport at Keahole",
          "Ketchikan International Airport",
          "Capital Region International Airport ( Lansing Capital City)",
          "Laramie Regional Airport",
          "McCarran International Airport",
          "Lawton-Fort Sill Regional Airport",
          "Los Angeles International Airport",
          "Lubbock Preston Smith International Airport",
          "Arnold Palmer Regional Airport",
          "Lake Charles Regional Airport",
          "Blue Grass Airport",
          "Lafayette Regional Airport",
          "LaGuardia Airport (Marine Air Terminal)",
          "Long Beach Airport (Daugherty Field)",
          "Lihue Airport",
          "Bill and Hillary Clinton National Airport (Adams Field)",
          "Lincoln Airport (Lincoln Municipal)",
          "Laredo International Airport",
          "La Crosse Regional Airport",
          "Lewiston-Nez Perce County Airport",
          "Midland International Airport",
          "MBS International Airport",
          "Kansas City International Airport",
          "Orlando International Airport",
          "Harrisburg International Airport",
          "Chicago Midway International Airport",
          "Meridian Regional Airport",
          "Memphis International Airport",
          "McAllen-Miller International Airport (McAllen Miller International)",
          "Rogue Valley International Airport",
          "Montgomery Regional Airport",
          "Manhattan Regional Airport",
          "Manchester-Boston Regional Airport",
          "Miami International Airport",
          "General Mitchell International Airport",
          "Muskegon County Airport",
          "Melbourne International Airport",
          "Quad City International Airport",
          "Monroe Regional Airport",
          "Mammoth Yosemite Airport",
          "Mobile Regional Airport",
          "Minot International Airport",
          "Sawyer International Airport",
          "Monterey Regional Airport (Monterey Peninsula Airport)",
          "Dane County Regional Airport",
          "Missoula International Airport",
          "Minneapolis-Saint Paul International Airport",
          "Louis Armstrong New Orleans International Airport",
          "Montrose Regional Airport",
          "Martha's Vineyard Airport",
          "Myrtle Beach International Airport",
          "Albert J. Ellis Airport",
          "Oakland International Airport",
          "Kahului Airport",
          "Will Rogers World Airport",
          "Eppley Airfield",
          "Nome Airport",
          "Ontario International Airport",
          "Chicago O'Hare International Airport",
          "Norfolk International Airport",
          "Worcester Regional Airport",
          "Southwest Oregon Regional Airport (North Bend Municipal)",
          "Ralph Wien Memorial Airport",
          "Barkley Regional Airport",
          "Plattsburgh International Airport",
          "Palm Beach International Airport",
          "Portland International Airport",
          "Newport News/Williamsburg International Airport",
          "Philadelphia International Airport",
          "Phoenix Sky Harbor International Airport",
          "General Wayne A. Downing Peoria International Airport",
          "Hattiesburg-Laurel Regional Airport",
          "Pocatello Regional Airport",
          "Pittsburgh International Airport",
          "Pellston Regional Airport of Emmet County",
          "Pensacola International Airport (Pensacola Gulf Coast Regional Airport)",
          "Pago Pago International Airport (Tafuna Airport)",
          "Tri-Cities Airport",
          "Mercedita Airport",
          "Petersburg James A. Johnson Airport",
          "Palm Springs International Airport",
          "Pueblo Memorial Airport",
          "Theodore Francis Green State Airport",
          "Portland International Jetport",
          "Rapid City Regional Airport",
          "Redding Municipal Airport",
          "Redmond Municipal Airport (Roberts Field)",
          "Raleigh-Durham International Airport",
          "Rhinelander-Oneida County Airport",
          "Richmond International Airport",
          "Rock Springs-Sweetwater County Airport",
          "Reno/Tahoe International Airport",
          "Roanoke Regional Airport (Woodrum Field)",
          "Greater Rochester International Airport",
          "Roswell International Air Center",
          "Rochester International Airport",
          "Southwest Florida International Airport",
          "Santa Fe Municipal Airport",
          "San Diego International Airport (Lindbergh Field)",
          "San Antonio International Airport",
          "Savannah/Hilton Head International Airport",
          "Santa Barbara Municipal Airport (Santa Barbara Airport)",
          "South Bend International Airport (South Bend Regional)",
          "San Luis Obispo County Regional Airport (McChesney Field)",
          "Deadhorse Airport (Prudhoe Bay Airport)",
          "University Park Airport",
          "Louisville International Airport (Standiford Field)",
          "Seattle-Tacoma International Airport",
          "San Francisco International Airport",
          "Springfield-Branson National Airport",
          "St. George Regional Airport",
          "Shreveport Regional Airport",
          "Sitka Rocky Gutierrez Airport",
          "Norman Y. Mineta San José International Airport",
          "San Angelo Regional Airport (Mathis Field)",
          "Luis Muñoz Marín International Airport",
          "Salt Lake City International Airport",
          "Sacramento International Airport",
          "Santa Maria Public Airport (Capt G. Allan Hancock Field)",
          "John Wayne Airport (Orange County Airport)",
          "Abraham Lincoln Capital Airport",
          "Wichita Falls Municipal Airport/Sheppard AFB",
          "Sarasota-Bradenton International Airport",
          "St. Cloud Regional Airport",
          "St. Louis International Airport at Lambert Field",
          "Cyril E. King Airport",
          "Henry E. Rohlsen Airport",
          "Friedman Memorial Airport",
          "Sioux Gateway Airport",
          "Stewart International Airport",
          "Syracuse Hancock International Airport",
          "Tallahassee International Airport",
          "Toledo Express Airport",
          "Tampa International Airport",
          "Tri-Cities Regional Airport",
          "Trenton Mercer Airport",
          "Tulsa International Airport",
          "Tucson International Airport",
          "Cherry Capital Airport",
          "Magic Valley Regional Airport (Joslin Field)",
          "Texarkana Regional Airport (Webb Field)",
          "Tyler Pounds Regional Airport",
          "McGhee Tyson Airport",
          "Northeast Florida Regional Airport (St. Augustine Airport)",
          "Valdez Airport",
          "Valdosta Regional Airport",
          "Destin-Fort Walton Beach Airport/Eglin AFB",
          "Wrangell Airport",
          "Westerly State Airport",
          "Northwest Arkansas Regional Airport",
          "Yakutat Airport",
          "Yuma International Airport"
         ],
         "lat": [
          40.65236,
          32.41132,
          35.04022,
          45.44906,
          31.53552,
          41.25305,
          31.61129,
          40.97812,
          39.45758,
          51.87796,
          57.74997,
          31.32737,
          33.36996,
          58.6768,
          42.74812,
          42.55708,
          35.21937,
          61.17432,
          45.07807,
          39.22316,
          33.64044,
          44.25741,
          30.19453,
          35.43619,
          41.33815,
          42.23488,
          41.93887,
          60.77978,
          35.4336,
          42.20848,
          44.80744,
          33.56294,
          45.80766,
          46.77411,
          47.50942,
          48.79275,
          40.47799,
          36.12448,
          43.56444,
          42.36435,
          29.95083,
          31.25903,
          18.49486,
          46.39786,
          25.90683,
          71.28545,
          45.9548,
          30.53316,
          44.473,
          42.94052,
          34.20062,
          39.1754,
          45.7769,
          33.93884,
          40.91631,
          37.70097,
          60.49183,
          41.78016,
          35.03527,
          38.13864,
          32.89865,
          41.88459,
          46.25075,
          33.12723,
          41.41089,
          30.58859,
          35.21401,
          39.99799,
          40.03925,
          47.16842,
          38.75496,
          44.52019,
          38.80581,
          38.81809,
          42.90836,
          27.77036,
          38.37315,
          32.51633,
          39.04614,
          44.77762,
          29.17992,
          32.84711,
          39.90238,
          42.40296,
          38.85208,
          39.85841,
          32.89595,
          31.32134,
          46.79739,
          59.04541,
          46.84209,
          37.15152,
          41.53493,
          42.21206,
          48.11425,
          44.86526,
          null,
          39.64257,
          40.82493,
          42.15991,
          31.80667,
          42.08202,
          45.72267,
          44.12326,
          38.03799,
          35.07297,
          40.6925,
          24.55611,
          64.81368,
          46.91935,
          36.77619,
          34.99147,
          48.3114,
          35.13845,
          26.07258,
          42.9655,
          43.58135,
          35.33659,
          40.97847,
          44.3489,
          37.92752,
          47.61986,
          47.94926,
          32.38486,
          39.12241,
          29.69006,
          30.40728,
          44.48507,
          40.96747,
          31.0649,
          42.88082,
          36.09775,
          34.89567,
          58.42438,
          47.482,
          33.45033,
          38.53396,
          13.48345,
          40.48118,
          47.3866,
          46.60682,
          21.31869,
          32.68753,
          29.64542,
          41.06696,
          26.22851,
          34.64045,
          41.66934,
          38.84494,
          38.94453,
          43.10726,
          29.98047,
          37.64996,
          43.51456,
          39.67872,
          34.27061,
          45.81835,
          39.71733,
          48.56619,
          48.17794,
          40.79524,
          42.49103,
          19.72026,
          43.60732,
          32.31117,
          30.49406,
          40.63975,
          37.15181,
          46.92972,
          58.35496,
          19.73877,
          55.35557,
          42.7787,
          41.31205,
          36.08036,
          34.56771,
          33.94254,
          33.66364,
          40.27594,
          30.1261,
          38.03697,
          30.20528,
          40.77724,
          33.81772,
          21.97598,
          34.7294,
          40.85097,
          27.54374,
          43.87938,
          46.3745,
          31.94253,
          43.53291,
          39.29761,
          28.42889,
          40.1935,
          41.78598,
          32.33313,
          35.04242,
          26.17583,
          42.37423,
          32.30064,
          39.14097,
          42.93452,
          25.79325,
          42.94722,
          43.16949,
          28.10275,
          41.44853,
          32.51087,
          37.62405,
          30.69142,
          48.25938,
          46.35364,
          36.58698,
          43.13986,
          46.91631,
          44.88055,
          29.99339,
          38.50887,
          41.39303,
          33.67975,
          34.82916,
          37.72129,
          20.89865,
          35.39309,
          41.30252,
          64.5122,
          34.056,
          41.9796,
          36.89461,
          42.26734,
          43.41714,
          66.88468,
          37.06083,
          null,
          26.68316,
          45.58872,
          37.1319,
          39.87195,
          33.43417,
          40.66424,
          31.46715,
          42.91131,
          40.49147,
          45.57093,
          30.47331,
          14.33102,
          46.26468,
          18.0083,
          56.80165,
          33.82922,
          38.28909,
          41.724,
          43.64617,
          44.04532,
          40.50898,
          44.25407,
          35.87764,
          45.63119,
          37.50517,
          41.59422,
          39.49858,
          37.32547,
          43.11887,
          33.30156,
          43.90883,
          26.53617,
          35.61678,
          32.73356,
          29.53369,
          32.12758,
          34.42621,
          41.70895,
          35.23706,
          70.19476,
          40.85121,
          38.17439,
          47.44898,
          37.619,
          37.24433,
          37.09058,
          32.44663,
          57.04714,
          37.36186,
          31.35775,
          18.43942,
          40.78839,
          38.69542,
          34.89925,
          33.67566,
          39.84395,
          33.9888,
          27.39533,
          45.54532,
          38.74769,
          18.33731,
          17.70189,
          43.50484,
          42.4026,
          41.50409,
          43.11119,
          30.39653,
          41.58681,
          27.97547,
          36.47521,
          40.27669,
          36.19837,
          32.11608,
          44.74144,
          42.4818,
          33.45371,
          32.35414,
          35.81249,
          null,
          40.4409,
          30.7825,
          30.48325,
          56.48433,
          44.6884,
          36.28187,
          59.50336,
          32.65658
         ],
         "legendgroup": "",
         "lon": [
          -75.4404,
          -99.6819,
          -106.60919,
          -98.42183,
          -84.19447,
          -70.06018,
          -97.23052,
          -124.10862,
          -74.57717,
          -176.64603,
          -152.49386,
          -92.54856,
          -81.9645,
          -156.64922,
          -73.80298,
          -92.40034,
          -101.70593,
          -149.99619,
          -83.56029,
          -106.86885,
          -84.42694,
          -88.51948,
          -97.66987,
          -82.54181,
          -75.72427,
          -85.55206,
          -72.68323,
          -161.838,
          -119.05677,
          -75.97961,
          -68.82814,
          -86.75355,
          -108.54286,
          -100.74672,
          -94.93372,
          -122.53753,
          -88.91595,
          -86.67818,
          -116.22278,
          -71.00518,
          -94.02069,
          -81.46631,
          -67.12944,
          -94.13723,
          -97.42586,
          -156.766,
          -112.49746,
          -91.14963,
          -73.15031,
          -78.73217,
          -118.3585,
          -76.6682,
          -111.15301,
          -81.11954,
          -81.44247,
          -113.09858,
          -145.47765,
          -124.23653,
          -85.20379,
          -78.45286,
          -80.04051,
          -91.71087,
          -84.47239,
          -117.27873,
          -81.8494,
          -96.36382,
          -80.94313,
          -82.89188,
          -88.27806,
          -88.48906,
          -109.75484,
          -109.0238,
          -104.70025,
          -92.21963,
          -106.46447,
          -97.50122,
          -81.59319,
          -84.93886,
          -84.66217,
          -89.66678,
          -81.05806,
          -96.85177,
          -84.21938,
          -90.70917,
          -77.03772,
          -104.667,
          -97.0372,
          -85.44963,
          -102.80195,
          -158.50334,
          -92.19365,
          -107.75377,
          -93.66068,
          -83.34884,
          -98.90878,
          -91.48507,
          null,
          -106.9177,
          -115.7917,
          -76.89144,
          -106.37781,
          -80.17622,
          -87.09373,
          -123.21869,
          -87.53063,
          -77.04294,
          -74.16866,
          -81.75956,
          -147.85967,
          -96.81499,
          -119.71814,
          -78.88,
          -114.25507,
          -111.67122,
          -80.15275,
          -83.74346,
          -96.7417,
          -94.36744,
          -85.19515,
          -105.53936,
          -100.72441,
          -117.53384,
          -97.17611,
          -94.71171,
          -108.52673,
          -82.27178,
          -89.07009,
          -88.12959,
          -98.30861,
          -97.8278,
          -85.52277,
          -79.9373,
          -82.21886,
          -135.70738,
          -111.37069,
          -88.59137,
          -106.93318,
          -144.79598,
          -107.21766,
          -92.83899,
          -111.98275,
          -157.92241,
          -103.21703,
          -95.27889,
          -73.70757,
          -97.65439,
          -86.77311,
          -70.28036,
          -99.27403,
          -77.45581,
          -78.94538,
          -95.33972,
          -97.43305,
          -112.07017,
          -75.60653,
          -77.90256,
          -88.11454,
          -86.29438,
          -93.40307,
          -103.64235,
          -73.10021,
          -76.45844,
          -155.04847,
          -110.73774,
          -90.07589,
          -81.68786,
          -73.77893,
          -94.49827,
          -98.6782,
          -134.57628,
          -156.04563,
          -131.71374,
          -84.58736,
          -105.67499,
          -115.15233,
          -98.41664,
          -118.40807,
          -101.82278,
          -79.4048,
          -93.2234,
          -84.60539,
          -91.98766,
          -73.87261,
          -118.15161,
          -159.33896,
          -92.22425,
          -96.75925,
          -99.46154,
          -91.25654,
          -117.01539,
          -102.20191,
          -84.07965,
          -94.71391,
          -81.31603,
          -76.7634,
          -87.75242,
          -88.75121,
          -89.97667,
          -98.23861,
          -122.8735,
          -86.39398,
          -96.67083,
          -71.43706,
          -80.29056,
          -87.89658,
          -86.23822,
          -80.64581,
          -90.50754,
          -92.03769,
          -118.83777,
          -88.24283,
          -101.28033,
          -87.39536,
          -121.84295,
          -89.33751,
          -114.09056,
          -93.21692,
          -90.25803,
          -107.89383,
          -70.61433,
          -78.92833,
          -77.61214,
          -122.22072,
          -156.43046,
          -97.60073,
          -95.89417,
          -165.44525,
          -117.60119,
          -87.90446,
          -76.20122,
          -71.87571,
          -124.24603,
          -162.59855,
          -88.77375,
          null,
          -80.09559,
          -122.5975,
          -76.49299,
          -75.24114,
          -112.00806,
          -89.69331,
          -89.33706,
          -112.59586,
          -80.23287,
          -84.79672,
          -87.18744,
          -170.71053,
          -119.11903,
          -66.56301,
          -132.94528,
          -116.50625,
          -104.49657,
          -71.42822,
          -70.30875,
          -103.05737,
          -122.2934,
          -121.14996,
          -78.78747,
          -89.46745,
          -77.31967,
          -109.06519,
          -119.76806,
          -79.97543,
          -77.67238,
          -104.53056,
          -92.49799,
          -81.75517,
          -106.08814,
          -117.18966,
          -98.46978,
          -81.20214,
          -119.84037,
          -86.31847,
          -120.64239,
          -148.46516,
          -77.8463,
          -85.736,
          -122.30931,
          -122.37484,
          -93.38686,
          -113.59306,
          -93.8256,
          -135.3616,
          -121.92901,
          -100.49631,
          -66.00183,
          -111.97777,
          -121.59077,
          -120.45758,
          -117.86822,
          -89.67762,
          -98.49189,
          -82.55411,
          -94.05834,
          -90.35999,
          -64.97336,
          -64.79856,
          -114.29659,
          -96.38437,
          -74.10484,
          -76.10631,
          -84.35033,
          -83.80783,
          -82.53325,
          -82.40742,
          -74.81347,
          -95.88824,
          -110.94103,
          -85.58224,
          -114.48774,
          -93.99102,
          -95.40239,
          -83.99286,
          null,
          -109.50992,
          -83.27672,
          -86.5254,
          -132.36982,
          -111.11764,
          -94.30681,
          -139.66023,
          -114.60597
         ],
         "marker": {
          "color": "#636efa",
          "size": [
           2276,
           2327,
           19188,
           671,
           876,
           492,
           1611,
           1319,
           3571,
           96,
           460,
           3146,
           2363,
           63,
           7460,
           618,
           4215,
           16001,
           573,
           3561,
           346904,
           2849,
           42078,
           2747,
           1359,
           1846,
           18797,
           896,
           2636,
           264,
           368,
           12514,
           2870,
           3455,
           667,
           711,
           2731,
           47568,
           11656,
           107851,
           973,
           879,
           1343,
           590,
           2364,
           855,
           668,
           7168,
           2976,
           16829,
           18890,
           86085,
           3605,
           5148,
           6098,
           573,
           662,
           190,
           4204,
           2204,
           11819,
           6833,
           614,
           640,
           34580,
           2309,
           100322,
           24183,
           2115,
           667,
           206,
           665,
           6882,
           1308,
           1772,
           4881,
           2386,
           1067,
           20027,
           1420,
           1494,
           59703,
           8672,
           928,
           73799,
           196010,
           239582,
           1260,
           937,
           77,
           1721,
           2068,
           8388,
           108398,
           526,
           668,
           4173,
           1243,
           531,
           2052,
           11976,
           746,
           573,
           3631,
           3833,
           575,
           101830,
           1973,
           2183,
           5693,
           7017,
           1634,
           2024,
           1660,
           73599,
           4746,
           5329,
           1970,
           5262,
           995,
           662,
           9504,
           718,
           643,
           3179,
           2682,
           3604,
           4883,
           634,
           4033,
           10840,
           6734,
           6542,
           77,
           1966,
           927,
           495,
           334,
           703,
           897,
           1434,
           43157,
           571,
           52041,
           7459,
           3084,
           4522,
           83,
           573,
           34282,
           322,
           146683,
           8097,
           2247,
           98,
           1861,
           621,
           25557,
           574,
           2542,
           4392,
           35,
           5723,
           3510,
           7098,
           18040,
           93809,
           666,
           814,
           4096,
           11113,
           2320,
           1848,
           582,
           133198,
           1330,
           194696,
           4636,
           1280,
           1859,
           5982,
           5147,
           99581,
           8778,
           10545,
           10417,
           2637,
           2202,
           1646,
           587,
           7522,
           1720,
           38655,
           110980,
           3286,
           80884,
           908,
           14769,
           3407,
           2471,
           3171,
           1634,
           6292,
           69324,
           29833,
           667,
           1332,
           3777,
           2962,
           156,
           5017,
           1850,
           305,
           2974,
           9129,
           2077,
           112128,
           38802,
           999,
           205,
           4830,
           1136,
           42313,
           20638,
           16147,
           16752,
           663,
           17979,
           285906,
           9375,
           668,
           275,
           663,
           666,
           282,
           22574,
           47081,
           1264,
           66017,
           146812,
           4667,
           573,
           654,
           24121,
           752,
           6534,
           107,
           2435,
           751,
           664,
           8988,
           264,
           11059,
           4680,
           3269,
           727,
           2153,
           31897,
           953,
           15351,
           690,
           13010,
           2283,
           7446,
           973,
           2054,
           27349,
           1502,
           70207,
           29784,
           7539,
           6017,
           4452,
           3132,
           855,
           915,
           10199,
           110907,
           147966,
           6237,
           1778,
           6100,
           1342,
           38204,
           1628,
           24653,
           97193,
           37212,
           663,
           37195,
           1586,
           1233,
           3370,
           82,
           46962,
           4348,
           938,
           959,
           620,
           690,
           5610,
           3193,
           961,
           63914,
           1929,
           2836,
           13970,
           15116,
           2758,
           815,
           976,
           2299,
           6964,
           155,
           205,
           935,
           4868,
           664,
           208,
           9284,
           662,
           1878
          ],
          "sizemode": "area",
          "sizeref": 1541.7955555555557,
          "symbol": "circle"
         },
         "mode": "markers",
         "name": "",
         "showlegend": false,
         "type": "scattergeo"
        }
       ],
       "layout": {
        "geo": {
         "center": {},
         "domain": {
          "x": [
           0,
           1
          ],
          "y": [
           0,
           1
          ]
         }
        },
        "legend": {
         "itemsizing": "constant",
         "tracegroupgap": 0
        },
        "margin": {
         "t": 60
        },
        "template": {
         "data": {
          "bar": [
           {
            "error_x": {
             "color": "#2a3f5f"
            },
            "error_y": {
             "color": "#2a3f5f"
            },
            "marker": {
             "line": {
              "color": "#E5ECF6",
              "width": 0.5
             },
             "pattern": {
              "fillmode": "overlay",
              "size": 10,
              "solidity": 0.2
             }
            },
            "type": "bar"
           }
          ],
          "barpolar": [
           {
            "marker": {
             "line": {
              "color": "#E5ECF6",
              "width": 0.5
             },
             "pattern": {
              "fillmode": "overlay",
              "size": 10,
              "solidity": 0.2
             }
            },
            "type": "barpolar"
           }
          ],
          "carpet": [
           {
            "aaxis": {
             "endlinecolor": "#2a3f5f",
             "gridcolor": "white",
             "linecolor": "white",
             "minorgridcolor": "white",
             "startlinecolor": "#2a3f5f"
            },
            "baxis": {
             "endlinecolor": "#2a3f5f",
             "gridcolor": "white",
             "linecolor": "white",
             "minorgridcolor": "white",
             "startlinecolor": "#2a3f5f"
            },
            "type": "carpet"
           }
          ],
          "choropleth": [
           {
            "colorbar": {
             "outlinewidth": 0,
             "ticks": ""
            },
            "type": "choropleth"
           }
          ],
          "contour": [
           {
            "colorbar": {
             "outlinewidth": 0,
             "ticks": ""
            },
            "colorscale": [
             [
              0,
              "#0d0887"
             ],
             [
              0.1111111111111111,
              "#46039f"
             ],
             [
              0.2222222222222222,
              "#7201a8"
             ],
             [
              0.3333333333333333,
              "#9c179e"
             ],
             [
              0.4444444444444444,
              "#bd3786"
             ],
             [
              0.5555555555555556,
              "#d8576b"
             ],
             [
              0.6666666666666666,
              "#ed7953"
             ],
             [
              0.7777777777777778,
              "#fb9f3a"
             ],
             [
              0.8888888888888888,
              "#fdca26"
             ],
             [
              1,
              "#f0f921"
             ]
            ],
            "type": "contour"
           }
          ],
          "contourcarpet": [
           {
            "colorbar": {
             "outlinewidth": 0,
             "ticks": ""
            },
            "type": "contourcarpet"
           }
          ],
          "heatmap": [
           {
            "colorbar": {
             "outlinewidth": 0,
             "ticks": ""
            },
            "colorscale": [
             [
              0,
              "#0d0887"
             ],
             [
              0.1111111111111111,
              "#46039f"
             ],
             [
              0.2222222222222222,
              "#7201a8"
             ],
             [
              0.3333333333333333,
              "#9c179e"
             ],
             [
              0.4444444444444444,
              "#bd3786"
             ],
             [
              0.5555555555555556,
              "#d8576b"
             ],
             [
              0.6666666666666666,
              "#ed7953"
             ],
             [
              0.7777777777777778,
              "#fb9f3a"
             ],
             [
              0.8888888888888888,
              "#fdca26"
             ],
             [
              1,
              "#f0f921"
             ]
            ],
            "type": "heatmap"
           }
          ],
          "heatmapgl": [
           {
            "colorbar": {
             "outlinewidth": 0,
             "ticks": ""
            },
            "colorscale": [
             [
              0,
              "#0d0887"
             ],
             [
              0.1111111111111111,
              "#46039f"
             ],
             [
              0.2222222222222222,
              "#7201a8"
             ],
             [
              0.3333333333333333,
              "#9c179e"
             ],
             [
              0.4444444444444444,
              "#bd3786"
             ],
             [
              0.5555555555555556,
              "#d8576b"
             ],
             [
              0.6666666666666666,
              "#ed7953"
             ],
             [
              0.7777777777777778,
              "#fb9f3a"
             ],
             [
              0.8888888888888888,
              "#fdca26"
             ],
             [
              1,
              "#f0f921"
             ]
            ],
            "type": "heatmapgl"
           }
          ],
          "histogram": [
           {
            "marker": {
             "pattern": {
              "fillmode": "overlay",
              "size": 10,
              "solidity": 0.2
             }
            },
            "type": "histogram"
           }
          ],
          "histogram2d": [
           {
            "colorbar": {
             "outlinewidth": 0,
             "ticks": ""
            },
            "colorscale": [
             [
              0,
              "#0d0887"
             ],
             [
              0.1111111111111111,
              "#46039f"
             ],
             [
              0.2222222222222222,
              "#7201a8"
             ],
             [
              0.3333333333333333,
              "#9c179e"
             ],
             [
              0.4444444444444444,
              "#bd3786"
             ],
             [
              0.5555555555555556,
              "#d8576b"
             ],
             [
              0.6666666666666666,
              "#ed7953"
             ],
             [
              0.7777777777777778,
              "#fb9f3a"
             ],
             [
              0.8888888888888888,
              "#fdca26"
             ],
             [
              1,
              "#f0f921"
             ]
            ],
            "type": "histogram2d"
           }
          ],
          "histogram2dcontour": [
           {
            "colorbar": {
             "outlinewidth": 0,
             "ticks": ""
            },
            "colorscale": [
             [
              0,
              "#0d0887"
             ],
             [
              0.1111111111111111,
              "#46039f"
             ],
             [
              0.2222222222222222,
              "#7201a8"
             ],
             [
              0.3333333333333333,
              "#9c179e"
             ],
             [
              0.4444444444444444,
              "#bd3786"
             ],
             [
              0.5555555555555556,
              "#d8576b"
             ],
             [
              0.6666666666666666,
              "#ed7953"
             ],
             [
              0.7777777777777778,
              "#fb9f3a"
             ],
             [
              0.8888888888888888,
              "#fdca26"
             ],
             [
              1,
              "#f0f921"
             ]
            ],
            "type": "histogram2dcontour"
           }
          ],
          "mesh3d": [
           {
            "colorbar": {
             "outlinewidth": 0,
             "ticks": ""
            },
            "type": "mesh3d"
           }
          ],
          "parcoords": [
           {
            "line": {
             "colorbar": {
              "outlinewidth": 0,
              "ticks": ""
             }
            },
            "type": "parcoords"
           }
          ],
          "pie": [
           {
            "automargin": true,
            "type": "pie"
           }
          ],
          "scatter": [
           {
            "fillpattern": {
             "fillmode": "overlay",
             "size": 10,
             "solidity": 0.2
            },
            "type": "scatter"
           }
          ],
          "scatter3d": [
           {
            "line": {
             "colorbar": {
              "outlinewidth": 0,
              "ticks": ""
             }
            },
            "marker": {
             "colorbar": {
              "outlinewidth": 0,
              "ticks": ""
             }
            },
            "type": "scatter3d"
           }
          ],
          "scattercarpet": [
           {
            "marker": {
             "colorbar": {
              "outlinewidth": 0,
              "ticks": ""
             }
            },
            "type": "scattercarpet"
           }
          ],
          "scattergeo": [
           {
            "marker": {
             "colorbar": {
              "outlinewidth": 0,
              "ticks": ""
             }
            },
            "type": "scattergeo"
           }
          ],
          "scattergl": [
           {
            "marker": {
             "colorbar": {
              "outlinewidth": 0,
              "ticks": ""
             }
            },
            "type": "scattergl"
           }
          ],
          "scattermapbox": [
           {
            "marker": {
             "colorbar": {
              "outlinewidth": 0,
              "ticks": ""
             }
            },
            "type": "scattermapbox"
           }
          ],
          "scatterpolar": [
           {
            "marker": {
             "colorbar": {
              "outlinewidth": 0,
              "ticks": ""
             }
            },
            "type": "scatterpolar"
           }
          ],
          "scatterpolargl": [
           {
            "marker": {
             "colorbar": {
              "outlinewidth": 0,
              "ticks": ""
             }
            },
            "type": "scatterpolargl"
           }
          ],
          "scatterternary": [
           {
            "marker": {
             "colorbar": {
              "outlinewidth": 0,
              "ticks": ""
             }
            },
            "type": "scatterternary"
           }
          ],
          "surface": [
           {
            "colorbar": {
             "outlinewidth": 0,
             "ticks": ""
            },
            "colorscale": [
             [
              0,
              "#0d0887"
             ],
             [
              0.1111111111111111,
              "#46039f"
             ],
             [
              0.2222222222222222,
              "#7201a8"
             ],
             [
              0.3333333333333333,
              "#9c179e"
             ],
             [
              0.4444444444444444,
              "#bd3786"
             ],
             [
              0.5555555555555556,
              "#d8576b"
             ],
             [
              0.6666666666666666,
              "#ed7953"
             ],
             [
              0.7777777777777778,
              "#fb9f3a"
             ],
             [
              0.8888888888888888,
              "#fdca26"
             ],
             [
              1,
              "#f0f921"
             ]
            ],
            "type": "surface"
           }
          ],
          "table": [
           {
            "cells": {
             "fill": {
              "color": "#EBF0F8"
             },
             "line": {
              "color": "white"
             }
            },
            "header": {
             "fill": {
              "color": "#C8D4E3"
             },
             "line": {
              "color": "white"
             }
            },
            "type": "table"
           }
          ]
         },
         "layout": {
          "annotationdefaults": {
           "arrowcolor": "#2a3f5f",
           "arrowhead": 0,
           "arrowwidth": 1
          },
          "autotypenumbers": "strict",
          "coloraxis": {
           "colorbar": {
            "outlinewidth": 0,
            "ticks": ""
           }
          },
          "colorscale": {
           "diverging": [
            [
             0,
             "#8e0152"
            ],
            [
             0.1,
             "#c51b7d"
            ],
            [
             0.2,
             "#de77ae"
            ],
            [
             0.3,
             "#f1b6da"
            ],
            [
             0.4,
             "#fde0ef"
            ],
            [
             0.5,
             "#f7f7f7"
            ],
            [
             0.6,
             "#e6f5d0"
            ],
            [
             0.7,
             "#b8e186"
            ],
            [
             0.8,
             "#7fbc41"
            ],
            [
             0.9,
             "#4d9221"
            ],
            [
             1,
             "#276419"
            ]
           ],
           "sequential": [
            [
             0,
             "#0d0887"
            ],
            [
             0.1111111111111111,
             "#46039f"
            ],
            [
             0.2222222222222222,
             "#7201a8"
            ],
            [
             0.3333333333333333,
             "#9c179e"
            ],
            [
             0.4444444444444444,
             "#bd3786"
            ],
            [
             0.5555555555555556,
             "#d8576b"
            ],
            [
             0.6666666666666666,
             "#ed7953"
            ],
            [
             0.7777777777777778,
             "#fb9f3a"
            ],
            [
             0.8888888888888888,
             "#fdca26"
            ],
            [
             1,
             "#f0f921"
            ]
           ],
           "sequentialminus": [
            [
             0,
             "#0d0887"
            ],
            [
             0.1111111111111111,
             "#46039f"
            ],
            [
             0.2222222222222222,
             "#7201a8"
            ],
            [
             0.3333333333333333,
             "#9c179e"
            ],
            [
             0.4444444444444444,
             "#bd3786"
            ],
            [
             0.5555555555555556,
             "#d8576b"
            ],
            [
             0.6666666666666666,
             "#ed7953"
            ],
            [
             0.7777777777777778,
             "#fb9f3a"
            ],
            [
             0.8888888888888888,
             "#fdca26"
            ],
            [
             1,
             "#f0f921"
            ]
           ]
          },
          "colorway": [
           "#636efa",
           "#EF553B",
           "#00cc96",
           "#ab63fa",
           "#FFA15A",
           "#19d3f3",
           "#FF6692",
           "#B6E880",
           "#FF97FF",
           "#FECB52"
          ],
          "font": {
           "color": "#2a3f5f"
          },
          "geo": {
           "bgcolor": "white",
           "lakecolor": "white",
           "landcolor": "#E5ECF6",
           "showlakes": true,
           "showland": true,
           "subunitcolor": "white"
          },
          "hoverlabel": {
           "align": "left"
          },
          "hovermode": "closest",
          "mapbox": {
           "style": "light"
          },
          "paper_bgcolor": "white",
          "plot_bgcolor": "#E5ECF6",
          "polar": {
           "angularaxis": {
            "gridcolor": "white",
            "linecolor": "white",
            "ticks": ""
           },
           "bgcolor": "#E5ECF6",
           "radialaxis": {
            "gridcolor": "white",
            "linecolor": "white",
            "ticks": ""
           }
          },
          "scene": {
           "xaxis": {
            "backgroundcolor": "#E5ECF6",
            "gridcolor": "white",
            "gridwidth": 2,
            "linecolor": "white",
            "showbackground": true,
            "ticks": "",
            "zerolinecolor": "white"
           },
           "yaxis": {
            "backgroundcolor": "#E5ECF6",
            "gridcolor": "white",
            "gridwidth": 2,
            "linecolor": "white",
            "showbackground": true,
            "ticks": "",
            "zerolinecolor": "white"
           },
           "zaxis": {
            "backgroundcolor": "#E5ECF6",
            "gridcolor": "white",
            "gridwidth": 2,
            "linecolor": "white",
            "showbackground": true,
            "ticks": "",
            "zerolinecolor": "white"
           }
          },
          "shapedefaults": {
           "line": {
            "color": "#2a3f5f"
           }
          },
          "ternary": {
           "aaxis": {
            "gridcolor": "white",
            "linecolor": "white",
            "ticks": ""
           },
           "baxis": {
            "gridcolor": "white",
            "linecolor": "white",
            "ticks": ""
           },
           "bgcolor": "#E5ECF6",
           "caxis": {
            "gridcolor": "white",
            "linecolor": "white",
            "ticks": ""
           }
          },
          "title": {
           "x": 0.05
          },
          "xaxis": {
           "automargin": true,
           "gridcolor": "white",
           "linecolor": "white",
           "ticks": "",
           "title": {
            "standoff": 15
           },
           "zerolinecolor": "white",
           "zerolinewidth": 2
          },
          "yaxis": {
           "automargin": true,
           "gridcolor": "white",
           "linecolor": "white",
           "ticks": "",
           "title": {
            "standoff": 15
           },
           "zerolinecolor": "white",
           "zerolinewidth": 2
          }
         }
        },
        "title": {
         "text": "Map of aiports in terms of inbound volume"
        }
       }
      },
      "text/html": [
       "<div>                            <div id=\"48454220-19f4-4edd-8a61-07cb1eefe7b1\" class=\"plotly-graph-div\" style=\"height:525px; width:100%;\"></div>            <script type=\"text/javascript\">                require([\"plotly\"], function(Plotly) {                    window.PLOTLYENV=window.PLOTLYENV || {};                                    if (document.getElementById(\"48454220-19f4-4edd-8a61-07cb1eefe7b1\")) {                    Plotly.newPlot(                        \"48454220-19f4-4edd-8a61-07cb1eefe7b1\",                        [{\"geo\":\"geo\",\"hovertemplate\":\"<b>%{hovertext}</b><br><br>count_flights=%{marker.size}<br>LATITUDE=%{lat}<br>LONGITUDE=%{lon}<extra></extra>\",\"hovertext\":[\"Lehigh Valley International Airport\",\"Abilene Regional Airport\",\"Albuquerque International Sunport\",\"Aberdeen Regional Airport\",\"Southwest Georgia Regional Airport\",\"Nantucket Memorial Airport\",\"Waco Regional Airport\",\"Arcata Airport\",\"Atlantic City International Airport\",\"Adak Airport\",\"Kodiak Airport\",\"Alexandria International Airport\",\"Augusta Regional Airport\\u00a0(Bush Field)\",\"King Salmon Airport\",\"Albany International Airport\",\"Waterloo Regional Airport\",\"Rick Husband Amarillo International Airport\",\"Ted Stevens Anchorage International Airport\",\"Alpena County Regional Airport\",\"Aspen-Pitkin County Airport\",\"Hartsfield-Jackson Atlanta International Airport\",\"Appleton International Airport\",\"Austin-Bergstrom International Airport\",\"Asheville Regional Airport\",\"Wilkes-Barre/Scranton International Airport\",\"Kalamazoo/Battle Creek International Airport\",\"Bradley International Airport\",\"Bethel Airport\",\"Meadows Field\",\"Greater Binghamton Airport\",\"Bangor International Airport\",\"Birmingham-Shuttlesworth International Airport\",\"Billings Logan International Airport\",\"Bismarck Municipal Airport\",\"Bemidji Regional Airport\",\"Bellingham International Airport\",\"Central Illinois Regional Airport at Bloomington-Normal\",\"Nashville International Airport\",\"Boise Airport\\u00a0(Boise Air Terminal)\",\"Gen. Edward Lawrence Logan International Airport\",\"Jack Brooks Regional Airport\\u00a0(Southeast Texas Regional)\",\"Brunswick Golden Isles Airport\",\"Rafael Hern\\u00e1ndez Airport\",\"Brainerd Lakes Regional Airport\",\"Brownsville/South Padre Island International Airport\",\"Wiley Post-Will Rogers Memorial Airport\",\"Bert Mooney Airport\",\"Baton Rouge Metropolitan Airport\",\"Burlington International Airport\",\"Buffalo Niagara International Airport\",\"Bob Hope Airport\\u00a0(Hollywood Burbank Airport)\",\"Baltimore-Washington International Airport\",\"Bozeman Yellowstone International Airport\\u00a0(Gallatin Field Airport)\",\"Columbia Metropolitan Airport\",\"Akron-Canton Regional Airport\",\"Cedar City Regional Airport\",\"Merle K. (Mudhole) Smith Airport\",\"Del Norte County Airport\\u00a0(Jack McNamara Field)\",\"Chattanooga Metropolitan Airport\\u00a0(Lovell Field)\",\"Charlottesville-Albemarle Airport\",\"Charleston International Airport/Charleston AFB\",\"The Eastern Iowa Airport\",\"Chippewa County International Airport\",\"McClellan-Palomar Airport\",\"Cleveland Hopkins International Airport\",\"Easterwood Airport\",\"Charlotte Douglas International Airport\",\"Port Columbus International Airport\",\"University of Illinois - Willard Airport\",\"Houghton County Memorial Airport\",\"Canyonlands Field\",\"Yellowstone Regional Airport\",\"City of Colorado Springs Municipal Airport\",\"Columbia Regional Airport\",\"Natrona County International Airport\",\"Corpus Christi International Airport\",\"Yeager Airport\",\"Columbus Metropolitan Airport\",\"Cincinnati/Northern Kentucky International Airport\",\"Central Wisconsin Airport\",\"Daytona Beach International Airport\",\"Dallas Love Field\",\"James M. Cox Dayton International Airport\",\"Dubuque Regional Airport\",\"Ronald Reagan Washington National Airport\",\"Denver International Airport\",\"Dallas/Fort Worth International Airport\",\"Dothan Regional Airport\",\"Dickinson Theodore Roosevelt Regional Airport\",\"Dillingham Airport\",\"Duluth International Airport\",\"Durango-La Plata County Airport\",\"Des Moines International Airport\",\"Detroit Metropolitan Airport\",\"Devils Lake Regional Airport\",\"Chippewa Valley Regional Airport\",\"Northwest Florida Beaches International Airport\",\"Eagle County Regional Airport\",\"Elko Regional Airport\",\"Elmira/Corning Regional Airport\",\"El Paso International Airport\",\"Erie International Airport\",\"Delta County Airport\",\"Eugene Airport\\u00a0(Mahlon Sweet Field)\",\"Evansville Regional Airport\",\"Coastal Carolina Regional Airport\\u00a0(Craven County Regional)\",\"Newark Liberty International Airport\",\"Key West International Airport\",\"Fairbanks International Airport\",\"Hector International Airport\",\"Fresno Yosemite International Airport\",\"Fayetteville Regional Airport\",\"Glacier Park International Airport\",\"Flagstaff Pulliam Airport\",\"Fort Lauderdale-Hollywood International Airport\",\"Bishop International Airport\",\"Sioux Falls Regional Airport\",\"Fort Smith Regional Airport\",\"Fort Wayne International Airport\",\"Gillette-Campbell County Airport\",\"Garden City Regional Airport\",\"Spokane International Airport\",\"Grand Forks International Airport\",\"East Texas Regional Airport\",\"Grand Junction Regional Airport\\u00a0(Walker Field)\",\"Gainesville Regional Airport\",\"Gulfport-Biloxi International Airport\",\"Green Bay-Austin Straubel International Airport\",\"Central Nebraska Regional Airport\",\"Killeen-Fort Hood Regional Airport\",\"Gerald R. Ford International Airport\",\"Piedmont Triad International Airport\",\"Greenville-Spartanburg International Airport\",\"Gustavus Airport\",\"Great Falls International Airport\",\"Golden Triangle Regional Airport\",\"Gunnison-Crested Butte Regional Airport\",\"Guam International Airport\",\"Yampa Valley Airport\\u00a0(Yampa Valley Regional)\",\"Range Regional Airport\\u00a0(Chisholm-Hibbing Airport)\",\"Helena Regional Airport\",\"Honolulu International Airport\",\"Lea County Regional Airport\",\"William P. Hobby Airport\",\"Westchester County Airport\",\"Valley International Airport\",\"Huntsville International Airport\",\"Barnstable Municipal Airport\",\"Hays Regional Airport\",\"Washington Dulles International Airport\",\"Niagara Falls International Airport\",\"George Bush Intercontinental Airport\",\"Wichita Dwight D. Eisenhower National Airport\\u00a0(Wichita Mid-Continent Airport)\",\"Idaho Falls Regional Airport\",\"Wilmington Airport\",\"Wilmington International Airport\",\"Ford Airport\",\"Indianapolis International Airport\",\"Falls International Airport\",\"Sloulin Field International Airport\",\"Long Island MacArthur Airport\",\"Ithaca Tompkins Regional Airport\",\"Hilo International Airport\",\"Jackson Hole Airport\",\"Jackson-Evers International Airport\",\"Jacksonville International Airport\",\"John F. Kennedy International Airport\\u00a0(New York International Airport)\",\"Joplin Regional Airport\",\"Jamestown Regional Airport\",\"Juneau International Airport\",\"Kona International Airport at Keahole\",\"Ketchikan International Airport\",\"Capital Region International Airport\\u00a0( Lansing Capital City)\",\"Laramie Regional Airport\",\"McCarran International Airport\",\"Lawton-Fort Sill Regional Airport\",\"Los Angeles International Airport\",\"Lubbock Preston Smith International Airport\",\"Arnold Palmer Regional Airport\",\"Lake Charles Regional Airport\",\"Blue Grass Airport\",\"Lafayette Regional Airport\",\"LaGuardia Airport (Marine Air Terminal)\",\"Long Beach Airport\\u00a0(Daugherty Field)\",\"Lihue Airport\",\"Bill and Hillary Clinton National Airport\\u00a0(Adams Field)\",\"Lincoln Airport\\u00a0(Lincoln Municipal)\",\"Laredo International Airport\",\"La Crosse Regional Airport\",\"Lewiston-Nez Perce County Airport\",\"Midland International Airport\",\"MBS International Airport\",\"Kansas City International Airport\",\"Orlando International Airport\",\"Harrisburg International Airport\",\"Chicago Midway International Airport\",\"Meridian Regional Airport\",\"Memphis International Airport\",\"McAllen-Miller International Airport\\u00a0(McAllen Miller International)\",\"Rogue Valley International Airport\",\"Montgomery Regional Airport\",\"Manhattan Regional Airport\",\"Manchester-Boston Regional Airport\",\"Miami International Airport\",\"General Mitchell International Airport\",\"Muskegon County Airport\",\"Melbourne International Airport\",\"Quad City International Airport\",\"Monroe Regional Airport\",\"Mammoth Yosemite Airport\",\"Mobile Regional Airport\",\"Minot International Airport\",\"Sawyer International Airport\",\"Monterey Regional Airport\\u00a0(Monterey Peninsula Airport)\",\"Dane County Regional Airport\",\"Missoula International Airport\",\"Minneapolis-Saint Paul International Airport\",\"Louis Armstrong New Orleans International Airport\",\"Montrose Regional Airport\",\"Martha's Vineyard Airport\",\"Myrtle Beach International Airport\",\"Albert J. Ellis Airport\",\"Oakland International Airport\",\"Kahului Airport\",\"Will Rogers World Airport\",\"Eppley Airfield\",\"Nome Airport\",\"Ontario International Airport\",\"Chicago O'Hare International Airport\",\"Norfolk International Airport\",\"Worcester Regional Airport\",\"Southwest Oregon Regional Airport\\u00a0(North Bend Municipal)\",\"Ralph Wien Memorial Airport\",\"Barkley Regional Airport\",\"Plattsburgh International Airport\",\"Palm Beach International Airport\",\"Portland International Airport\",\"Newport News/Williamsburg International Airport\",\"Philadelphia International Airport\",\"Phoenix Sky Harbor International Airport\",\"General Wayne A. Downing Peoria International Airport\",\"Hattiesburg-Laurel Regional Airport\",\"Pocatello Regional Airport\",\"Pittsburgh International Airport\",\"Pellston Regional Airport of Emmet County\",\"Pensacola International Airport\\u00a0(Pensacola Gulf Coast Regional Airport)\",\"Pago Pago International Airport (Tafuna Airport)\",\"Tri-Cities Airport\",\"Mercedita Airport\",\"Petersburg James A. Johnson Airport\",\"Palm Springs International Airport\",\"Pueblo Memorial Airport\",\"Theodore Francis Green State Airport\",\"Portland International Jetport\",\"Rapid City Regional Airport\",\"Redding Municipal Airport\",\"Redmond Municipal Airport\\u00a0(Roberts Field)\",\"Raleigh-Durham International Airport\",\"Rhinelander-Oneida County Airport\",\"Richmond International Airport\",\"Rock Springs-Sweetwater County Airport\",\"Reno/Tahoe International Airport\",\"Roanoke Regional Airport\\u00a0(Woodrum Field)\",\"Greater Rochester International Airport\",\"Roswell International Air Center\",\"Rochester International Airport\",\"Southwest Florida International Airport\",\"Santa Fe Municipal Airport\",\"San Diego International Airport\\u00a0(Lindbergh Field)\",\"San Antonio International Airport\",\"Savannah/Hilton Head International Airport\",\"Santa Barbara Municipal Airport\\u00a0(Santa Barbara Airport)\",\"South Bend International Airport\\u00a0(South Bend Regional)\",\"San Luis Obispo County Regional Airport\\u00a0(McChesney Field)\",\"Deadhorse Airport\\u00a0(Prudhoe Bay Airport)\",\"University Park Airport\",\"Louisville International Airport\\u00a0(Standiford Field)\",\"Seattle-Tacoma International Airport\",\"San Francisco International Airport\",\"Springfield-Branson National Airport\",\"St. George Regional Airport\",\"Shreveport Regional Airport\",\"Sitka Rocky Gutierrez Airport\",\"Norman Y. Mineta San Jos\\u00e9 International Airport\",\"San Angelo Regional Airport\\u00a0(Mathis Field)\",\"Luis Mu\\u00f1oz Mar\\u00edn International Airport\",\"Salt Lake City International Airport\",\"Sacramento International Airport\",\"Santa Maria Public Airport\\u00a0(Capt G. Allan Hancock Field)\",\"John Wayne Airport\\u00a0(Orange County Airport)\",\"Abraham Lincoln Capital Airport\",\"Wichita Falls Municipal Airport/Sheppard AFB\",\"Sarasota-Bradenton International Airport\",\"St. Cloud Regional Airport\",\"St. Louis International Airport at Lambert Field\",\"Cyril E. King Airport\",\"Henry E. Rohlsen Airport\",\"Friedman Memorial Airport\",\"Sioux Gateway Airport\",\"Stewart International Airport\",\"Syracuse Hancock International Airport\",\"Tallahassee International Airport\",\"Toledo Express Airport\",\"Tampa International Airport\",\"Tri-Cities Regional Airport\",\"Trenton Mercer Airport\",\"Tulsa International Airport\",\"Tucson International Airport\",\"Cherry Capital Airport\",\"Magic Valley Regional Airport\\u00a0(Joslin Field)\",\"Texarkana Regional Airport\\u00a0(Webb Field)\",\"Tyler Pounds Regional Airport\",\"McGhee Tyson Airport\",\"Northeast Florida Regional Airport\\u00a0(St. Augustine Airport)\",\"Valdez Airport\",\"Valdosta Regional Airport\",\"Destin-Fort Walton Beach Airport/Eglin AFB\",\"Wrangell Airport\",\"Westerly State Airport\",\"Northwest Arkansas Regional Airport\",\"Yakutat Airport\",\"Yuma International Airport\"],\"lat\":[40.65236,32.41132,35.04022,45.44906,31.53552,41.25305,31.61129,40.97812,39.45758,51.87796,57.74997,31.32737,33.36996,58.6768,42.74812,42.55708,35.21937,61.17432,45.07807,39.22316,33.64044,44.25741,30.19453,35.43619,41.33815,42.23488,41.93887,60.77978,35.4336,42.20848,44.80744,33.56294,45.80766,46.77411,47.50942,48.79275,40.47799,36.12448,43.56444,42.36435,29.95083,31.25903,18.49486,46.39786,25.90683,71.28545,45.9548,30.53316,44.473,42.94052,34.20062,39.1754,45.7769,33.93884,40.91631,37.70097,60.49183,41.78016,35.03527,38.13864,32.89865,41.88459,46.25075,33.12723,41.41089,30.58859,35.21401,39.99799,40.03925,47.16842,38.75496,44.52019,38.80581,38.81809,42.90836,27.77036,38.37315,32.51633,39.04614,44.77762,29.17992,32.84711,39.90238,42.40296,38.85208,39.85841,32.89595,31.32134,46.79739,59.04541,46.84209,37.15152,41.53493,42.21206,48.11425,44.86526,null,39.64257,40.82493,42.15991,31.80667,42.08202,45.72267,44.12326,38.03799,35.07297,40.6925,24.55611,64.81368,46.91935,36.77619,34.99147,48.3114,35.13845,26.07258,42.9655,43.58135,35.33659,40.97847,44.3489,37.92752,47.61986,47.94926,32.38486,39.12241,29.69006,30.40728,44.48507,40.96747,31.0649,42.88082,36.09775,34.89567,58.42438,47.482,33.45033,38.53396,13.48345,40.48118,47.3866,46.60682,21.31869,32.68753,29.64542,41.06696,26.22851,34.64045,41.66934,38.84494,38.94453,43.10726,29.98047,37.64996,43.51456,39.67872,34.27061,45.81835,39.71733,48.56619,48.17794,40.79524,42.49103,19.72026,43.60732,32.31117,30.49406,40.63975,37.15181,46.92972,58.35496,19.73877,55.35557,42.7787,41.31205,36.08036,34.56771,33.94254,33.66364,40.27594,30.1261,38.03697,30.20528,40.77724,33.81772,21.97598,34.7294,40.85097,27.54374,43.87938,46.3745,31.94253,43.53291,39.29761,28.42889,40.1935,41.78598,32.33313,35.04242,26.17583,42.37423,32.30064,39.14097,42.93452,25.79325,42.94722,43.16949,28.10275,41.44853,32.51087,37.62405,30.69142,48.25938,46.35364,36.58698,43.13986,46.91631,44.88055,29.99339,38.50887,41.39303,33.67975,34.82916,37.72129,20.89865,35.39309,41.30252,64.5122,34.056,41.9796,36.89461,42.26734,43.41714,66.88468,37.06083,null,26.68316,45.58872,37.1319,39.87195,33.43417,40.66424,31.46715,42.91131,40.49147,45.57093,30.47331,14.33102,46.26468,18.0083,56.80165,33.82922,38.28909,41.724,43.64617,44.04532,40.50898,44.25407,35.87764,45.63119,37.50517,41.59422,39.49858,37.32547,43.11887,33.30156,43.90883,26.53617,35.61678,32.73356,29.53369,32.12758,34.42621,41.70895,35.23706,70.19476,40.85121,38.17439,47.44898,37.619,37.24433,37.09058,32.44663,57.04714,37.36186,31.35775,18.43942,40.78839,38.69542,34.89925,33.67566,39.84395,33.9888,27.39533,45.54532,38.74769,18.33731,17.70189,43.50484,42.4026,41.50409,43.11119,30.39653,41.58681,27.97547,36.47521,40.27669,36.19837,32.11608,44.74144,42.4818,33.45371,32.35414,35.81249,null,40.4409,30.7825,30.48325,56.48433,44.6884,36.28187,59.50336,32.65658],\"legendgroup\":\"\",\"lon\":[-75.4404,-99.6819,-106.60919,-98.42183,-84.19447,-70.06018,-97.23052,-124.10862,-74.57717,-176.64603,-152.49386,-92.54856,-81.9645,-156.64922,-73.80298,-92.40034,-101.70593,-149.99619,-83.56029,-106.86885,-84.42694,-88.51948,-97.66987,-82.54181,-75.72427,-85.55206,-72.68323,-161.838,-119.05677,-75.97961,-68.82814,-86.75355,-108.54286,-100.74672,-94.93372,-122.53753,-88.91595,-86.67818,-116.22278,-71.00518,-94.02069,-81.46631,-67.12944,-94.13723,-97.42586,-156.766,-112.49746,-91.14963,-73.15031,-78.73217,-118.3585,-76.6682,-111.15301,-81.11954,-81.44247,-113.09858,-145.47765,-124.23653,-85.20379,-78.45286,-80.04051,-91.71087,-84.47239,-117.27873,-81.8494,-96.36382,-80.94313,-82.89188,-88.27806,-88.48906,-109.75484,-109.0238,-104.70025,-92.21963,-106.46447,-97.50122,-81.59319,-84.93886,-84.66217,-89.66678,-81.05806,-96.85177,-84.21938,-90.70917,-77.03772,-104.667,-97.0372,-85.44963,-102.80195,-158.50334,-92.19365,-107.75377,-93.66068,-83.34884,-98.90878,-91.48507,null,-106.9177,-115.7917,-76.89144,-106.37781,-80.17622,-87.09373,-123.21869,-87.53063,-77.04294,-74.16866,-81.75956,-147.85967,-96.81499,-119.71814,-78.88,-114.25507,-111.67122,-80.15275,-83.74346,-96.7417,-94.36744,-85.19515,-105.53936,-100.72441,-117.53384,-97.17611,-94.71171,-108.52673,-82.27178,-89.07009,-88.12959,-98.30861,-97.8278,-85.52277,-79.9373,-82.21886,-135.70738,-111.37069,-88.59137,-106.93318,-144.79598,-107.21766,-92.83899,-111.98275,-157.92241,-103.21703,-95.27889,-73.70757,-97.65439,-86.77311,-70.28036,-99.27403,-77.45581,-78.94538,-95.33972,-97.43305,-112.07017,-75.60653,-77.90256,-88.11454,-86.29438,-93.40307,-103.64235,-73.10021,-76.45844,-155.04847,-110.73774,-90.07589,-81.68786,-73.77893,-94.49827,-98.6782,-134.57628,-156.04563,-131.71374,-84.58736,-105.67499,-115.15233,-98.41664,-118.40807,-101.82278,-79.4048,-93.2234,-84.60539,-91.98766,-73.87261,-118.15161,-159.33896,-92.22425,-96.75925,-99.46154,-91.25654,-117.01539,-102.20191,-84.07965,-94.71391,-81.31603,-76.7634,-87.75242,-88.75121,-89.97667,-98.23861,-122.8735,-86.39398,-96.67083,-71.43706,-80.29056,-87.89658,-86.23822,-80.64581,-90.50754,-92.03769,-118.83777,-88.24283,-101.28033,-87.39536,-121.84295,-89.33751,-114.09056,-93.21692,-90.25803,-107.89383,-70.61433,-78.92833,-77.61214,-122.22072,-156.43046,-97.60073,-95.89417,-165.44525,-117.60119,-87.90446,-76.20122,-71.87571,-124.24603,-162.59855,-88.77375,null,-80.09559,-122.5975,-76.49299,-75.24114,-112.00806,-89.69331,-89.33706,-112.59586,-80.23287,-84.79672,-87.18744,-170.71053,-119.11903,-66.56301,-132.94528,-116.50625,-104.49657,-71.42822,-70.30875,-103.05737,-122.2934,-121.14996,-78.78747,-89.46745,-77.31967,-109.06519,-119.76806,-79.97543,-77.67238,-104.53056,-92.49799,-81.75517,-106.08814,-117.18966,-98.46978,-81.20214,-119.84037,-86.31847,-120.64239,-148.46516,-77.8463,-85.736,-122.30931,-122.37484,-93.38686,-113.59306,-93.8256,-135.3616,-121.92901,-100.49631,-66.00183,-111.97777,-121.59077,-120.45758,-117.86822,-89.67762,-98.49189,-82.55411,-94.05834,-90.35999,-64.97336,-64.79856,-114.29659,-96.38437,-74.10484,-76.10631,-84.35033,-83.80783,-82.53325,-82.40742,-74.81347,-95.88824,-110.94103,-85.58224,-114.48774,-93.99102,-95.40239,-83.99286,null,-109.50992,-83.27672,-86.5254,-132.36982,-111.11764,-94.30681,-139.66023,-114.60597],\"marker\":{\"color\":\"#636efa\",\"size\":[2276,2327,19188,671,876,492,1611,1319,3571,96,460,3146,2363,63,7460,618,4215,16001,573,3561,346904,2849,42078,2747,1359,1846,18797,896,2636,264,368,12514,2870,3455,667,711,2731,47568,11656,107851,973,879,1343,590,2364,855,668,7168,2976,16829,18890,86085,3605,5148,6098,573,662,190,4204,2204,11819,6833,614,640,34580,2309,100322,24183,2115,667,206,665,6882,1308,1772,4881,2386,1067,20027,1420,1494,59703,8672,928,73799,196010,239582,1260,937,77,1721,2068,8388,108398,526,668,4173,1243,531,2052,11976,746,573,3631,3833,575,101830,1973,2183,5693,7017,1634,2024,1660,73599,4746,5329,1970,5262,995,662,9504,718,643,3179,2682,3604,4883,634,4033,10840,6734,6542,77,1966,927,495,334,703,897,1434,43157,571,52041,7459,3084,4522,83,573,34282,322,146683,8097,2247,98,1861,621,25557,574,2542,4392,35,5723,3510,7098,18040,93809,666,814,4096,11113,2320,1848,582,133198,1330,194696,4636,1280,1859,5982,5147,99581,8778,10545,10417,2637,2202,1646,587,7522,1720,38655,110980,3286,80884,908,14769,3407,2471,3171,1634,6292,69324,29833,667,1332,3777,2962,156,5017,1850,305,2974,9129,2077,112128,38802,999,205,4830,1136,42313,20638,16147,16752,663,17979,285906,9375,668,275,663,666,282,22574,47081,1264,66017,146812,4667,573,654,24121,752,6534,107,2435,751,664,8988,264,11059,4680,3269,727,2153,31897,953,15351,690,13010,2283,7446,973,2054,27349,1502,70207,29784,7539,6017,4452,3132,855,915,10199,110907,147966,6237,1778,6100,1342,38204,1628,24653,97193,37212,663,37195,1586,1233,3370,82,46962,4348,938,959,620,690,5610,3193,961,63914,1929,2836,13970,15116,2758,815,976,2299,6964,155,205,935,4868,664,208,9284,662,1878],\"sizemode\":\"area\",\"sizeref\":1541.7955555555557,\"symbol\":\"circle\"},\"mode\":\"markers\",\"name\":\"\",\"showlegend\":false,\"type\":\"scattergeo\"}],                        {\"template\":{\"data\":{\"histogram2dcontour\":[{\"type\":\"histogram2dcontour\",\"colorbar\":{\"outlinewidth\":0,\"ticks\":\"\"},\"colorscale\":[[0.0,\"#0d0887\"],[0.1111111111111111,\"#46039f\"],[0.2222222222222222,\"#7201a8\"],[0.3333333333333333,\"#9c179e\"],[0.4444444444444444,\"#bd3786\"],[0.5555555555555556,\"#d8576b\"],[0.6666666666666666,\"#ed7953\"],[0.7777777777777778,\"#fb9f3a\"],[0.8888888888888888,\"#fdca26\"],[1.0,\"#f0f921\"]]}],\"choropleth\":[{\"type\":\"choropleth\",\"colorbar\":{\"outlinewidth\":0,\"ticks\":\"\"}}],\"histogram2d\":[{\"type\":\"histogram2d\",\"colorbar\":{\"outlinewidth\":0,\"ticks\":\"\"},\"colorscale\":[[0.0,\"#0d0887\"],[0.1111111111111111,\"#46039f\"],[0.2222222222222222,\"#7201a8\"],[0.3333333333333333,\"#9c179e\"],[0.4444444444444444,\"#bd3786\"],[0.5555555555555556,\"#d8576b\"],[0.6666666666666666,\"#ed7953\"],[0.7777777777777778,\"#fb9f3a\"],[0.8888888888888888,\"#fdca26\"],[1.0,\"#f0f921\"]]}],\"heatmap\":[{\"type\":\"heatmap\",\"colorbar\":{\"outlinewidth\":0,\"ticks\":\"\"},\"colorscale\":[[0.0,\"#0d0887\"],[0.1111111111111111,\"#46039f\"],[0.2222222222222222,\"#7201a8\"],[0.3333333333333333,\"#9c179e\"],[0.4444444444444444,\"#bd3786\"],[0.5555555555555556,\"#d8576b\"],[0.6666666666666666,\"#ed7953\"],[0.7777777777777778,\"#fb9f3a\"],[0.8888888888888888,\"#fdca26\"],[1.0,\"#f0f921\"]]}],\"heatmapgl\":[{\"type\":\"heatmapgl\",\"colorbar\":{\"outlinewidth\":0,\"ticks\":\"\"},\"colorscale\":[[0.0,\"#0d0887\"],[0.1111111111111111,\"#46039f\"],[0.2222222222222222,\"#7201a8\"],[0.3333333333333333,\"#9c179e\"],[0.4444444444444444,\"#bd3786\"],[0.5555555555555556,\"#d8576b\"],[0.6666666666666666,\"#ed7953\"],[0.7777777777777778,\"#fb9f3a\"],[0.8888888888888888,\"#fdca26\"],[1.0,\"#f0f921\"]]}],\"contourcarpet\":[{\"type\":\"contourcarpet\",\"colorbar\":{\"outlinewidth\":0,\"ticks\":\"\"}}],\"contour\":[{\"type\":\"contour\",\"colorbar\":{\"outlinewidth\":0,\"ticks\":\"\"},\"colorscale\":[[0.0,\"#0d0887\"],[0.1111111111111111,\"#46039f\"],[0.2222222222222222,\"#7201a8\"],[0.3333333333333333,\"#9c179e\"],[0.4444444444444444,\"#bd3786\"],[0.5555555555555556,\"#d8576b\"],[0.6666666666666666,\"#ed7953\"],[0.7777777777777778,\"#fb9f3a\"],[0.8888888888888888,\"#fdca26\"],[1.0,\"#f0f921\"]]}],\"surface\":[{\"type\":\"surface\",\"colorbar\":{\"outlinewidth\":0,\"ticks\":\"\"},\"colorscale\":[[0.0,\"#0d0887\"],[0.1111111111111111,\"#46039f\"],[0.2222222222222222,\"#7201a8\"],[0.3333333333333333,\"#9c179e\"],[0.4444444444444444,\"#bd3786\"],[0.5555555555555556,\"#d8576b\"],[0.6666666666666666,\"#ed7953\"],[0.7777777777777778,\"#fb9f3a\"],[0.8888888888888888,\"#fdca26\"],[1.0,\"#f0f921\"]]}],\"mesh3d\":[{\"type\":\"mesh3d\",\"colorbar\":{\"outlinewidth\":0,\"ticks\":\"\"}}],\"scatter\":[{\"fillpattern\":{\"fillmode\":\"overlay\",\"size\":10,\"solidity\":0.2},\"type\":\"scatter\"}],\"parcoords\":[{\"type\":\"parcoords\",\"line\":{\"colorbar\":{\"outlinewidth\":0,\"ticks\":\"\"}}}],\"scatterpolargl\":[{\"type\":\"scatterpolargl\",\"marker\":{\"colorbar\":{\"outlinewidth\":0,\"ticks\":\"\"}}}],\"bar\":[{\"error_x\":{\"color\":\"#2a3f5f\"},\"error_y\":{\"color\":\"#2a3f5f\"},\"marker\":{\"line\":{\"color\":\"#E5ECF6\",\"width\":0.5},\"pattern\":{\"fillmode\":\"overlay\",\"size\":10,\"solidity\":0.2}},\"type\":\"bar\"}],\"scattergeo\":[{\"type\":\"scattergeo\",\"marker\":{\"colorbar\":{\"outlinewidth\":0,\"ticks\":\"\"}}}],\"scatterpolar\":[{\"type\":\"scatterpolar\",\"marker\":{\"colorbar\":{\"outlinewidth\":0,\"ticks\":\"\"}}}],\"histogram\":[{\"marker\":{\"pattern\":{\"fillmode\":\"overlay\",\"size\":10,\"solidity\":0.2}},\"type\":\"histogram\"}],\"scattergl\":[{\"type\":\"scattergl\",\"marker\":{\"colorbar\":{\"outlinewidth\":0,\"ticks\":\"\"}}}],\"scatter3d\":[{\"type\":\"scatter3d\",\"line\":{\"colorbar\":{\"outlinewidth\":0,\"ticks\":\"\"}},\"marker\":{\"colorbar\":{\"outlinewidth\":0,\"ticks\":\"\"}}}],\"scattermapbox\":[{\"type\":\"scattermapbox\",\"marker\":{\"colorbar\":{\"outlinewidth\":0,\"ticks\":\"\"}}}],\"scatterternary\":[{\"type\":\"scatterternary\",\"marker\":{\"colorbar\":{\"outlinewidth\":0,\"ticks\":\"\"}}}],\"scattercarpet\":[{\"type\":\"scattercarpet\",\"marker\":{\"colorbar\":{\"outlinewidth\":0,\"ticks\":\"\"}}}],\"carpet\":[{\"aaxis\":{\"endlinecolor\":\"#2a3f5f\",\"gridcolor\":\"white\",\"linecolor\":\"white\",\"minorgridcolor\":\"white\",\"startlinecolor\":\"#2a3f5f\"},\"baxis\":{\"endlinecolor\":\"#2a3f5f\",\"gridcolor\":\"white\",\"linecolor\":\"white\",\"minorgridcolor\":\"white\",\"startlinecolor\":\"#2a3f5f\"},\"type\":\"carpet\"}],\"table\":[{\"cells\":{\"fill\":{\"color\":\"#EBF0F8\"},\"line\":{\"color\":\"white\"}},\"header\":{\"fill\":{\"color\":\"#C8D4E3\"},\"line\":{\"color\":\"white\"}},\"type\":\"table\"}],\"barpolar\":[{\"marker\":{\"line\":{\"color\":\"#E5ECF6\",\"width\":0.5},\"pattern\":{\"fillmode\":\"overlay\",\"size\":10,\"solidity\":0.2}},\"type\":\"barpolar\"}],\"pie\":[{\"automargin\":true,\"type\":\"pie\"}]},\"layout\":{\"autotypenumbers\":\"strict\",\"colorway\":[\"#636efa\",\"#EF553B\",\"#00cc96\",\"#ab63fa\",\"#FFA15A\",\"#19d3f3\",\"#FF6692\",\"#B6E880\",\"#FF97FF\",\"#FECB52\"],\"font\":{\"color\":\"#2a3f5f\"},\"hovermode\":\"closest\",\"hoverlabel\":{\"align\":\"left\"},\"paper_bgcolor\":\"white\",\"plot_bgcolor\":\"#E5ECF6\",\"polar\":{\"bgcolor\":\"#E5ECF6\",\"angularaxis\":{\"gridcolor\":\"white\",\"linecolor\":\"white\",\"ticks\":\"\"},\"radialaxis\":{\"gridcolor\":\"white\",\"linecolor\":\"white\",\"ticks\":\"\"}},\"ternary\":{\"bgcolor\":\"#E5ECF6\",\"aaxis\":{\"gridcolor\":\"white\",\"linecolor\":\"white\",\"ticks\":\"\"},\"baxis\":{\"gridcolor\":\"white\",\"linecolor\":\"white\",\"ticks\":\"\"},\"caxis\":{\"gridcolor\":\"white\",\"linecolor\":\"white\",\"ticks\":\"\"}},\"coloraxis\":{\"colorbar\":{\"outlinewidth\":0,\"ticks\":\"\"}},\"colorscale\":{\"sequential\":[[0.0,\"#0d0887\"],[0.1111111111111111,\"#46039f\"],[0.2222222222222222,\"#7201a8\"],[0.3333333333333333,\"#9c179e\"],[0.4444444444444444,\"#bd3786\"],[0.5555555555555556,\"#d8576b\"],[0.6666666666666666,\"#ed7953\"],[0.7777777777777778,\"#fb9f3a\"],[0.8888888888888888,\"#fdca26\"],[1.0,\"#f0f921\"]],\"sequentialminus\":[[0.0,\"#0d0887\"],[0.1111111111111111,\"#46039f\"],[0.2222222222222222,\"#7201a8\"],[0.3333333333333333,\"#9c179e\"],[0.4444444444444444,\"#bd3786\"],[0.5555555555555556,\"#d8576b\"],[0.6666666666666666,\"#ed7953\"],[0.7777777777777778,\"#fb9f3a\"],[0.8888888888888888,\"#fdca26\"],[1.0,\"#f0f921\"]],\"diverging\":[[0,\"#8e0152\"],[0.1,\"#c51b7d\"],[0.2,\"#de77ae\"],[0.3,\"#f1b6da\"],[0.4,\"#fde0ef\"],[0.5,\"#f7f7f7\"],[0.6,\"#e6f5d0\"],[0.7,\"#b8e186\"],[0.8,\"#7fbc41\"],[0.9,\"#4d9221\"],[1,\"#276419\"]]},\"xaxis\":{\"gridcolor\":\"white\",\"linecolor\":\"white\",\"ticks\":\"\",\"title\":{\"standoff\":15},\"zerolinecolor\":\"white\",\"automargin\":true,\"zerolinewidth\":2},\"yaxis\":{\"gridcolor\":\"white\",\"linecolor\":\"white\",\"ticks\":\"\",\"title\":{\"standoff\":15},\"zerolinecolor\":\"white\",\"automargin\":true,\"zerolinewidth\":2},\"scene\":{\"xaxis\":{\"backgroundcolor\":\"#E5ECF6\",\"gridcolor\":\"white\",\"linecolor\":\"white\",\"showbackground\":true,\"ticks\":\"\",\"zerolinecolor\":\"white\",\"gridwidth\":2},\"yaxis\":{\"backgroundcolor\":\"#E5ECF6\",\"gridcolor\":\"white\",\"linecolor\":\"white\",\"showbackground\":true,\"ticks\":\"\",\"zerolinecolor\":\"white\",\"gridwidth\":2},\"zaxis\":{\"backgroundcolor\":\"#E5ECF6\",\"gridcolor\":\"white\",\"linecolor\":\"white\",\"showbackground\":true,\"ticks\":\"\",\"zerolinecolor\":\"white\",\"gridwidth\":2}},\"shapedefaults\":{\"line\":{\"color\":\"#2a3f5f\"}},\"annotationdefaults\":{\"arrowcolor\":\"#2a3f5f\",\"arrowhead\":0,\"arrowwidth\":1},\"geo\":{\"bgcolor\":\"white\",\"landcolor\":\"#E5ECF6\",\"subunitcolor\":\"white\",\"showland\":true,\"showlakes\":true,\"lakecolor\":\"white\"},\"title\":{\"x\":0.05},\"mapbox\":{\"style\":\"light\"}}},\"geo\":{\"domain\":{\"x\":[0.0,1.0],\"y\":[0.0,1.0]},\"center\":{}},\"legend\":{\"tracegroupgap\":0,\"itemsizing\":\"constant\"},\"margin\":{\"t\":60},\"title\":{\"text\":\"Map of aiports in terms of inbound volume\"}},                        {\"responsive\": true}                    ).then(function(){\n",
       "                            \n",
       "var gd = document.getElementById('48454220-19f4-4edd-8a61-07cb1eefe7b1');\n",
       "var x = new MutationObserver(function (mutations, observer) {{\n",
       "        var display = window.getComputedStyle(gd).display;\n",
       "        if (!display || display === 'none') {{\n",
       "            console.log([gd, 'removed!']);\n",
       "            Plotly.purge(gd);\n",
       "            observer.disconnect();\n",
       "        }}\n",
       "}});\n",
       "\n",
       "// Listen for the removal of the full notebook cells\n",
       "var notebookContainer = gd.closest('#notebook-container');\n",
       "if (notebookContainer) {{\n",
       "    x.observe(notebookContainer, {childList: true});\n",
       "}}\n",
       "\n",
       "// Listen for the clearing of the current output cell\n",
       "var outputEl = gd.closest('.output');\n",
       "if (outputEl) {{\n",
       "    x.observe(outputEl, {childList: true});\n",
       "}}\n",
       "\n",
       "                        })                };                });            </script>        </div>"
      ]
     },
     "metadata": {},
     "output_type": "display_data"
    }
   ],
   "source": [
    "aggregated=flights_extended.groupby(['DESTINATION_AIRPORT','DEST_AIRPORT']).agg({'DEST_LATITUDE':pd.Series.unique,'DEST_LONGITUDE':[pd.Series.unique,'size']}).reset_index()\n",
    "aggregated.columns = aggregated.columns.droplevel(0)\n",
    "aggregated.columns = ['Inbound airport code','Inbound airport', 'LATITUDE', 'LONGITUDE', 'count_flights',]\n",
    "fig = px.scatter_geo(aggregated, lat=\"LATITUDE\", lon=\"LONGITUDE\", size=\"count_flights\",\n",
    "                   size_max=15,hover_name='Inbound airport')\n",
    "fig.update(layout_title_text='Map of aiports in terms of inbound volume')\n",
    "fig.show()"
   ]
  },
  {
   "cell_type": "code",
   "execution_count": null,
   "id": "9b8f049d",
   "metadata": {},
   "outputs": [],
   "source": [
    "aggregated=flights_extended.groupby(['ORIGIN_AIRPORT','ORIG_AIRPORT']).agg({'ORIG_LATITUDE':pd.Series.unique,'ORIG_LONGITUDE':[pd.Series.unique,'size']}).reset_index()\n",
    "aggregated.columns = aggregated.columns.droplevel(0)\n",
    "aggregated.columns = ['Outbound airport code','Outbount airport', 'LATITUDE', 'LONGITUDE', 'count_flights']\n",
    "fig = px.scatter_geo(aggregated, lat=\"LATITUDE\", lon=\"LONGITUDE\", size=\"count_flights\",\n",
    "                   size_max=15,hover_name='Outbount airport')\n",
    "fig.update(layout_title_text='Map of aiports in terms of outbound volume')\n",
    "fig.show()"
   ]
  },
  {
   "cell_type": "markdown",
   "id": "8c6cff56",
   "metadata": {},
   "source": [
    "As expected, no significant difference appears conserning inbound/outbound volumes at first glance."
   ]
  },
  {
   "cell_type": "markdown",
   "id": "946c50b5",
   "metadata": {},
   "source": [
    "#D) 'TAXI_IN','WHEELS_ON','WHEELS_OFF','SCHEDULED_TIME','TAXI_OUT','TAIL_NUMBER','ELAPSED_TIME' nulls"
   ]
  },
  {
   "cell_type": "code",
   "execution_count": 25,
   "id": "71336019",
   "metadata": {},
   "outputs": [
    {
     "data": {
      "text/html": [
       "<div>\n",
       "<style scoped>\n",
       "    .dataframe tbody tr th:only-of-type {\n",
       "        vertical-align: middle;\n",
       "    }\n",
       "\n",
       "    .dataframe tbody tr th {\n",
       "        vertical-align: top;\n",
       "    }\n",
       "\n",
       "    .dataframe thead th {\n",
       "        text-align: right;\n",
       "    }\n",
       "</style>\n",
       "<table border=\"1\" class=\"dataframe\">\n",
       "  <thead>\n",
       "    <tr style=\"text-align: right;\">\n",
       "      <th></th>\n",
       "      <th>types</th>\n",
       "      <th>non_null_counts</th>\n",
       "      <th>mean</th>\n",
       "      <th>std</th>\n",
       "      <th>min</th>\n",
       "      <th>max</th>\n",
       "      <th>%nulls</th>\n",
       "    </tr>\n",
       "    <tr>\n",
       "      <th>features</th>\n",
       "      <th></th>\n",
       "      <th></th>\n",
       "      <th></th>\n",
       "      <th></th>\n",
       "      <th></th>\n",
       "      <th></th>\n",
       "      <th></th>\n",
       "    </tr>\n",
       "  </thead>\n",
       "  <tbody>\n",
       "    <tr>\n",
       "      <th>TAXI_IN</th>\n",
       "      <td>float64</td>\n",
       "      <td>5714008</td>\n",
       "      <td>7.429063</td>\n",
       "      <td>5.618951</td>\n",
       "      <td>1.0</td>\n",
       "      <td>248.0</td>\n",
       "      <td>0.0</td>\n",
       "    </tr>\n",
       "    <tr>\n",
       "      <th>WHEELS_ON</th>\n",
       "      <td>float64</td>\n",
       "      <td>5714008</td>\n",
       "      <td>1471.319332</td>\n",
       "      <td>521.868240</td>\n",
       "      <td>1.0</td>\n",
       "      <td>2400.0</td>\n",
       "      <td>0.0</td>\n",
       "    </tr>\n",
       "    <tr>\n",
       "      <th>WHEELS_OFF</th>\n",
       "      <td>float64</td>\n",
       "      <td>5714008</td>\n",
       "      <td>1357.099048</td>\n",
       "      <td>498.023745</td>\n",
       "      <td>1.0</td>\n",
       "      <td>2400.0</td>\n",
       "      <td>0.0</td>\n",
       "    </tr>\n",
       "    <tr>\n",
       "      <th>SCHEDULED_TIME</th>\n",
       "      <td>float64</td>\n",
       "      <td>5714008</td>\n",
       "      <td>141.893974</td>\n",
       "      <td>75.313998</td>\n",
       "      <td>18.0</td>\n",
       "      <td>718.0</td>\n",
       "      <td>0.0</td>\n",
       "    </tr>\n",
       "    <tr>\n",
       "      <th>TAXI_OUT</th>\n",
       "      <td>float64</td>\n",
       "      <td>5714008</td>\n",
       "      <td>16.065498</td>\n",
       "      <td>8.882449</td>\n",
       "      <td>1.0</td>\n",
       "      <td>225.0</td>\n",
       "      <td>0.0</td>\n",
       "    </tr>\n",
       "    <tr>\n",
       "      <th>TAIL_NUMBER</th>\n",
       "      <td>object</td>\n",
       "      <td>5714008</td>\n",
       "      <td>NaN</td>\n",
       "      <td>NaN</td>\n",
       "      <td>NaN</td>\n",
       "      <td>NaN</td>\n",
       "      <td>0.0</td>\n",
       "    </tr>\n",
       "    <tr>\n",
       "      <th>ELAPSED_TIME</th>\n",
       "      <td>float64</td>\n",
       "      <td>5714008</td>\n",
       "      <td>137.006189</td>\n",
       "      <td>74.211072</td>\n",
       "      <td>14.0</td>\n",
       "      <td>766.0</td>\n",
       "      <td>0.0</td>\n",
       "    </tr>\n",
       "  </tbody>\n",
       "</table>\n",
       "</div>"
      ],
      "text/plain": [
       "                  types  non_null_counts         mean         std   min  \\\n",
       "features                                                                  \n",
       "TAXI_IN         float64          5714008     7.429063    5.618951   1.0   \n",
       "WHEELS_ON       float64          5714008  1471.319332  521.868240   1.0   \n",
       "WHEELS_OFF      float64          5714008  1357.099048  498.023745   1.0   \n",
       "SCHEDULED_TIME  float64          5714008   141.893974   75.313998  18.0   \n",
       "TAXI_OUT        float64          5714008    16.065498    8.882449   1.0   \n",
       "TAIL_NUMBER      object          5714008          NaN         NaN   NaN   \n",
       "ELAPSED_TIME    float64          5714008   137.006189   74.211072  14.0   \n",
       "\n",
       "                   max  %nulls  \n",
       "features                        \n",
       "TAXI_IN          248.0     0.0  \n",
       "WHEELS_ON       2400.0     0.0  \n",
       "WHEELS_OFF      2400.0     0.0  \n",
       "SCHEDULED_TIME   718.0     0.0  \n",
       "TAXI_OUT         225.0     0.0  \n",
       "TAIL_NUMBER        NaN     0.0  \n",
       "ELAPSED_TIME     766.0     0.0  "
      ]
     },
     "execution_count": 25,
     "metadata": {},
     "output_type": "execute_result"
    }
   ],
   "source": [
    "a=get_dataframe_info(flights_extended[flights_extended['Div/Canc']!=1])\n",
    "a.set_index('features', inplace=True)\n",
    "a.loc[['TAXI_IN','WHEELS_ON','WHEELS_OFF','SCHEDULED_TIME','TAXI_OUT','TAIL_NUMBER','ELAPSED_TIME']]"
   ]
  },
  {
   "cell_type": "markdown",
   "id": "8b2b8524",
   "metadata": {},
   "source": [
    "Missing values created in the aforementioned columns,are due to cancellations or diversions of flights. Since in our analysis we are required to examine how delays are affected and caused, but not cancellations or diversions, all these cases will be excluded. In othere words we will drop all the cases where flights were cancelled or diverted"
   ]
  },
  {
   "cell_type": "code",
   "execution_count": 26,
   "id": "67b14e2e",
   "metadata": {},
   "outputs": [],
   "source": [
    "flights_extended=flights_extended[flights_extended['Div/Canc']!=1]"
   ]
  },
  {
   "cell_type": "markdown",
   "id": "b63b642f",
   "metadata": {},
   "source": [
    "We will drop all the columns that will not be used further in our analysis to decrease size of data in RAM"
   ]
  },
  {
   "cell_type": "code",
   "execution_count": 27,
   "id": "4de942a8",
   "metadata": {},
   "outputs": [],
   "source": [
    "flights_extended.drop(['CANCELLATION_REASON', 'ORIG_CITY','ORIG_STATE','ORIG_COUNTRY','ORIG_LATITUDE','ORIG_LONGITUDE']\\\n",
    "                      , axis=1,inplace=True)\n",
    "flights_extended.drop(['DEST_CITY', 'DEST_STATE','DEST_COUNTRY','DEST_LATITUDE','DEST_LONGITUDE']\\\n",
    "                      , axis=1,inplace=True)"
   ]
  },
  {
   "cell_type": "markdown",
   "id": "b34a6a2a",
   "metadata": {},
   "source": [
    "----------------"
   ]
  },
  {
   "cell_type": "markdown",
   "id": "dc52b58c",
   "metadata": {},
   "source": [
    "DATA cleaning\n",
    "\n",
    "Now that we have handled the missing values, we must correct the date,time information:"
   ]
  },
  {
   "cell_type": "code",
   "execution_count": 28,
   "id": "ee3bca13",
   "metadata": {},
   "outputs": [],
   "source": [
    "#Create DATE\n",
    "flights_extended['DATE'] = pd.to_datetime(flights_extended[['YEAR','MONTH', 'DAY']], format='%Y%m%d')\n",
    "flights_extended['DATE'] = flights_extended['DATE'].dt.date\n",
    "#flights_extended.loc[:, ['DATE','YEAR','MONTH', 'DAY']] # used to check tranformation"
   ]
  },
  {
   "cell_type": "code",
   "execution_count": 29,
   "id": "d6587d33",
   "metadata": {},
   "outputs": [],
   "source": [
    "def format_time(myst):\n",
    "    '''convert the 'HHMM' string to datetime.time'''\n",
    "    if pd.isnull(myst):\n",
    "        return np.nan\n",
    "    else:\n",
    "        if myst == 2400: myst = 0\n",
    "        myst = \"{0:04d}\".format(int(myst))\n",
    "        hour = datetime.time(int(myst[0:2]), int(myst[2:4]))\n",
    "        return hour"
   ]
  },
  {
   "cell_type": "markdown",
   "id": "b4eddaac",
   "metadata": {},
   "source": [
    "Before we transform time features, we will create a new feature that examines whether arrival was on the same CALENDAR DAY as the schedule departure"
   ]
  },
  {
   "cell_type": "code",
   "execution_count": 30,
   "id": "8b17a594",
   "metadata": {},
   "outputs": [],
   "source": [
    "#departure time < actual arrival time  same date\n",
    "flights_extended['same day arrival'] = np.nan\n",
    "flights_extended.loc[(flights_extended['SCHEDULED_DEPARTURE']>flights_extended['ARRIVAL_TIME'])  , \n",
    "       'same day arrival'] = 0 \n",
    "flights_extended.loc[(flights_extended['SCHEDULED_DEPARTURE']<flights_extended['ARRIVAL_TIME'])  , \n",
    "       'same day arrival'] = 1\n",
    "#Warning the above code would fale if the flight arrival was > 24h after scheduled departure. \n",
    "#Since these are domestic flights we do not expect that to be the case"
   ]
  },
  {
   "cell_type": "markdown",
   "id": "b0c599e5",
   "metadata": {},
   "source": [
    "#The way we calculate the difference\n",
    "\n",
    "duration = datetime.combine(date.min, flights_extended['DEPARTURE_TIME'][1]) - datetime.combine(date.min, flights_extended['SCHEDULED_DEPARTURE'][1])\n"
   ]
  },
  {
   "cell_type": "code",
   "execution_count": 31,
   "id": "11a415d7",
   "metadata": {},
   "outputs": [],
   "source": [
    "#We transform all time related features\n",
    "flights_extended['WHEELS_ON'] = flights_extended['WHEELS_ON'].apply(format_time)\n",
    "flights_extended['SCHEDULED_ARRIVAL'] = flights_extended['SCHEDULED_ARRIVAL'].apply(format_time)\n",
    "flights_extended['ARRIVAL_TIME'] = flights_extended['ARRIVAL_TIME'].apply(format_time)"
   ]
  },
  {
   "cell_type": "code",
   "execution_count": 32,
   "id": "a0f99055",
   "metadata": {},
   "outputs": [],
   "source": [
    "flights_extended['WHEELS_OFF'] = flights_extended['WHEELS_OFF'].apply(format_time)"
   ]
  },
  {
   "cell_type": "code",
   "execution_count": 33,
   "id": "595b455b",
   "metadata": {},
   "outputs": [],
   "source": [
    "flights_extended['DEPARTURE_TIME'] = flights_extended['DEPARTURE_TIME'].apply(format_time) "
   ]
  },
  {
   "cell_type": "code",
   "execution_count": 34,
   "id": "99b6eb37",
   "metadata": {},
   "outputs": [],
   "source": [
    "flights_extended['SCHEDULED_DEPARTURE'] = flights_extended['SCHEDULED_DEPARTURE'].apply(format_time)"
   ]
  },
  {
   "cell_type": "code",
   "execution_count": 35,
   "id": "00554b7d",
   "metadata": {},
   "outputs": [],
   "source": [
    "#We combine the date and time for Scheduled departure and arrival\n",
    "flights_extended['SCHEDULED_DEPARTURE_DT']=pd.to_datetime(flights_extended['DATE'].astype(str) + flights_extended['SCHEDULED_DEPARTURE'].astype(str),format = '%Y-%m-%d%H:%M:%S')\n",
    "flights_extended['ARRIVAL_TIME_DT']=pd.to_datetime(flights_extended['DATE'].astype(str) + flights_extended['ARRIVAL_TIME'].astype(str),format = '%Y-%m-%d%H:%M:%S')\n"
   ]
  },
  {
   "cell_type": "code",
   "execution_count": 36,
   "id": "e4d371d3",
   "metadata": {},
   "outputs": [],
   "source": [
    "#We create a new feature for acture arrival that correct for the date, when arrival was not on same day\n",
    "flights_extended['ACTUAL_ARRIVAL_TIME']=flights_extended['ARRIVAL_TIME_DT']\n",
    "flights_extended.loc[flights_extended['same day arrival'] ==0, 'ACTUAL_ARRIVAL_TIME'] +=timedelta(days=1)"
   ]
  },
  {
   "cell_type": "code",
   "execution_count": 37,
   "id": "34fc7cd8",
   "metadata": {},
   "outputs": [],
   "source": [
    "#We sort by tail number and actual arrival as it will be used in our analysis later\n",
    "flights_extended.sort_values(by=[\"TAIL_NUMBER\",'ACTUAL_ARRIVAL_TIME'],inplace=True)"
   ]
  },
  {
   "cell_type": "code",
   "execution_count": 38,
   "id": "9917d596",
   "metadata": {},
   "outputs": [],
   "source": [
    "# We create the lagged arrival information.This way we can identify departure delay do to previous late arrival\n",
    "flights_extended['previous_arrival_time'] = flights_extended.groupby('TAIL_NUMBER')['ACTUAL_ARRIVAL_TIME'].shift(1)\n",
    "flights_extended['previous_arrival_delay'] = flights_extended.groupby('TAIL_NUMBER')['ARRIVAL_DELAY'].shift(1)\n",
    "\n",
    "# We will not fill NA's in-place from the 'previous arrival' column, but will drop he first occurance when needed. Should we choose to indeed fillna we would:\n",
    "#flights_extended['previous_arrival_time'].fillna(flights_extended['ACTUAL_ARRIVAL_TIME'], inplace=True)\n",
    "#flights_extended['previous_arrival_delay'].fillna(flights_extended['ARRIVAL_DELAY'], inplace=True)                                                                                     "
   ]
  },
  {
   "cell_type": "markdown",
   "id": "a071fc92",
   "metadata": {},
   "source": [
    "#We last create a new feature that will be used to discard the previous_arrival_delay information.\n",
    "The reasoning is :\n",
    "    \n",
    "    -If a craft arrives delayed in an airport, but between the time of arrival and next departure there is adequate time for all turnaround procedures, the previous delay should be considered null\n",
    "    -A typical turnaround time is 90m, if part of the procedure is refuelling ( not always necessary )\n",
    "    -For the case where the time between previous_arrival and scheduled_departure is more than 2h, we will not take into consideration the previous arrival delay."
   ]
  },
  {
   "cell_type": "code",
   "execution_count": 39,
   "id": "9085719a",
   "metadata": {},
   "outputs": [],
   "source": [
    "flights_extended['arr_depart_diff']=np.nan                  \n",
    "flights_extended['arr_depart_diff']=pd.to_timedelta(flights_extended['SCHEDULED_DEPARTURE_DT']-flights_extended['previous_arrival_time'])/pd.Timedelta('60s')\n"
   ]
  },
  {
   "cell_type": "code",
   "execution_count": 41,
   "id": "5dd1e70a",
   "metadata": {},
   "outputs": [],
   "source": [
    "flights_extended.loc[flights_extended['arr_depart_diff'] >120 , 'previous_arrival_delay'] =0"
   ]
  },
  {
   "cell_type": "code",
   "execution_count": 42,
   "id": "9b4c701c",
   "metadata": {},
   "outputs": [],
   "source": [
    "flights_extended=flights_extended[['DATE', 'DAY_OF_WEEK', 'FLIGHT_NUMBER', 'TAIL_NUMBER',\n",
    "       'ORIGIN_AIRPORT', 'DESTINATION_AIRPORT', 'previous_arrival_time','previous_arrival_delay',\n",
    "        'SCHEDULED_DEPARTURE_DT','arr_depart_diff','DEPARTURE_TIME', 'DEPARTURE_DELAY', 'TAXI_OUT', 'WHEELS_OFF',\n",
    "       'SCHEDULED_TIME', 'ELAPSED_TIME', 'AIR_TIME', 'DISTANCE', \n",
    "        'WHEELS_ON','TAXI_IN', 'SCHEDULED_ARRIVAL', 'ACTUAL_ARRIVAL_TIME', 'ARRIVAL_DELAY',\n",
    "        'AIRLINE', 'ORIG_AIRPORT', 'DEST_AIRPORT',\n",
    "       'delay', 'Div/Canc','arr_depart_diff' ]]"
   ]
  },
  {
   "cell_type": "code",
   "execution_count": 43,
   "id": "1788871a",
   "metadata": {},
   "outputs": [
    {
     "data": {
      "text/html": [
       "<div>\n",
       "<style scoped>\n",
       "    .dataframe tbody tr th:only-of-type {\n",
       "        vertical-align: middle;\n",
       "    }\n",
       "\n",
       "    .dataframe tbody tr th {\n",
       "        vertical-align: top;\n",
       "    }\n",
       "\n",
       "    .dataframe thead th {\n",
       "        text-align: right;\n",
       "    }\n",
       "</style>\n",
       "<table border=\"1\" class=\"dataframe\">\n",
       "  <thead>\n",
       "    <tr style=\"text-align: right;\">\n",
       "      <th></th>\n",
       "      <th>TAIL_NUMBER</th>\n",
       "      <th>previous_arrival_time</th>\n",
       "      <th>previous_arrival_delay</th>\n",
       "      <th>SCHEDULED_DEPARTURE_DT</th>\n",
       "      <th>arr_depart_diff</th>\n",
       "      <th>arr_depart_diff</th>\n",
       "      <th>ACTUAL_ARRIVAL_TIME</th>\n",
       "      <th>ARRIVAL_DELAY</th>\n",
       "    </tr>\n",
       "  </thead>\n",
       "  <tbody>\n",
       "    <tr>\n",
       "      <th>5765635</th>\n",
       "      <td>N3KUAA</td>\n",
       "      <td>2015-12-28 12:39:00</td>\n",
       "      <td>109.0</td>\n",
       "      <td>2015-12-28 13:45:00</td>\n",
       "      <td>66.0</td>\n",
       "      <td>66.0</td>\n",
       "      <td>2015-12-28 14:29:00</td>\n",
       "      <td>-16.0</td>\n",
       "    </tr>\n",
       "    <tr>\n",
       "      <th>5767364</th>\n",
       "      <td>N3KUAA</td>\n",
       "      <td>2015-12-28 14:29:00</td>\n",
       "      <td>-16.0</td>\n",
       "      <td>2015-12-28 15:30:00</td>\n",
       "      <td>61.0</td>\n",
       "      <td>61.0</td>\n",
       "      <td>2015-12-28 23:55:00</td>\n",
       "      <td>166.0</td>\n",
       "    </tr>\n",
       "    <tr>\n",
       "      <th>5775334</th>\n",
       "      <td>N3KUAA</td>\n",
       "      <td>2015-12-28 23:55:00</td>\n",
       "      <td>0.0</td>\n",
       "      <td>2015-12-29 07:00:00</td>\n",
       "      <td>425.0</td>\n",
       "      <td>425.0</td>\n",
       "      <td>2015-12-29 10:40:00</td>\n",
       "      <td>21.0</td>\n",
       "    </tr>\n",
       "    <tr>\n",
       "      <th>5779297</th>\n",
       "      <td>N3KUAA</td>\n",
       "      <td>2015-12-29 10:40:00</td>\n",
       "      <td>21.0</td>\n",
       "      <td>2015-12-29 11:05:00</td>\n",
       "      <td>25.0</td>\n",
       "      <td>25.0</td>\n",
       "      <td>2015-12-29 15:32:00</td>\n",
       "      <td>55.0</td>\n",
       "    </tr>\n",
       "    <tr>\n",
       "      <th>5783554</th>\n",
       "      <td>N3KUAA</td>\n",
       "      <td>2015-12-29 15:32:00</td>\n",
       "      <td>55.0</td>\n",
       "      <td>2015-12-29 15:30:00</td>\n",
       "      <td>-2.0</td>\n",
       "      <td>-2.0</td>\n",
       "      <td>2015-12-29 19:46:00</td>\n",
       "      <td>49.0</td>\n",
       "    </tr>\n",
       "    <tr>\n",
       "      <th>5787994</th>\n",
       "      <td>N3KUAA</td>\n",
       "      <td>2015-12-29 19:46:00</td>\n",
       "      <td>49.0</td>\n",
       "      <td>2015-12-29 20:10:00</td>\n",
       "      <td>24.0</td>\n",
       "      <td>24.0</td>\n",
       "      <td>2015-12-29 22:48:00</td>\n",
       "      <td>49.0</td>\n",
       "    </tr>\n",
       "    <tr>\n",
       "      <th>5801482</th>\n",
       "      <td>N3KUAA</td>\n",
       "      <td>2015-12-29 22:48:00</td>\n",
       "      <td>0.0</td>\n",
       "      <td>2015-12-30 17:20:00</td>\n",
       "      <td>1112.0</td>\n",
       "      <td>1112.0</td>\n",
       "      <td>2015-12-30 20:59:00</td>\n",
       "      <td>12.0</td>\n",
       "    </tr>\n",
       "    <tr>\n",
       "      <th>5811119</th>\n",
       "      <td>N3KUAA</td>\n",
       "      <td>2015-12-30 20:59:00</td>\n",
       "      <td>0.0</td>\n",
       "      <td>2015-12-31 11:03:00</td>\n",
       "      <td>844.0</td>\n",
       "      <td>844.0</td>\n",
       "      <td>2015-12-31 16:07:00</td>\n",
       "      <td>-28.0</td>\n",
       "    </tr>\n",
       "    <tr>\n",
       "      <th>5816520</th>\n",
       "      <td>N3KUAA</td>\n",
       "      <td>2015-12-31 16:07:00</td>\n",
       "      <td>-28.0</td>\n",
       "      <td>2015-12-31 17:25:00</td>\n",
       "      <td>78.0</td>\n",
       "      <td>78.0</td>\n",
       "      <td>2015-12-31 19:39:00</td>\n",
       "      <td>-12.0</td>\n",
       "    </tr>\n",
       "    <tr>\n",
       "      <th>5818619</th>\n",
       "      <td>N3KUAA</td>\n",
       "      <td>2015-12-31 19:39:00</td>\n",
       "      <td>-12.0</td>\n",
       "      <td>2015-12-31 21:15:00</td>\n",
       "      <td>96.0</td>\n",
       "      <td>96.0</td>\n",
       "      <td>2016-01-01 05:59:00</td>\n",
       "      <td>6.0</td>\n",
       "    </tr>\n",
       "  </tbody>\n",
       "</table>\n",
       "</div>"
      ],
      "text/plain": [
       "        TAIL_NUMBER previous_arrival_time  previous_arrival_delay  \\\n",
       "5765635      N3KUAA   2015-12-28 12:39:00                   109.0   \n",
       "5767364      N3KUAA   2015-12-28 14:29:00                   -16.0   \n",
       "5775334      N3KUAA   2015-12-28 23:55:00                     0.0   \n",
       "5779297      N3KUAA   2015-12-29 10:40:00                    21.0   \n",
       "5783554      N3KUAA   2015-12-29 15:32:00                    55.0   \n",
       "5787994      N3KUAA   2015-12-29 19:46:00                    49.0   \n",
       "5801482      N3KUAA   2015-12-29 22:48:00                     0.0   \n",
       "5811119      N3KUAA   2015-12-30 20:59:00                     0.0   \n",
       "5816520      N3KUAA   2015-12-31 16:07:00                   -28.0   \n",
       "5818619      N3KUAA   2015-12-31 19:39:00                   -12.0   \n",
       "\n",
       "        SCHEDULED_DEPARTURE_DT  arr_depart_diff  arr_depart_diff  \\\n",
       "5765635    2015-12-28 13:45:00             66.0             66.0   \n",
       "5767364    2015-12-28 15:30:00             61.0             61.0   \n",
       "5775334    2015-12-29 07:00:00            425.0            425.0   \n",
       "5779297    2015-12-29 11:05:00             25.0             25.0   \n",
       "5783554    2015-12-29 15:30:00             -2.0             -2.0   \n",
       "5787994    2015-12-29 20:10:00             24.0             24.0   \n",
       "5801482    2015-12-30 17:20:00           1112.0           1112.0   \n",
       "5811119    2015-12-31 11:03:00            844.0            844.0   \n",
       "5816520    2015-12-31 17:25:00             78.0             78.0   \n",
       "5818619    2015-12-31 21:15:00             96.0             96.0   \n",
       "\n",
       "        ACTUAL_ARRIVAL_TIME  ARRIVAL_DELAY  \n",
       "5765635 2015-12-28 14:29:00          -16.0  \n",
       "5767364 2015-12-28 23:55:00          166.0  \n",
       "5775334 2015-12-29 10:40:00           21.0  \n",
       "5779297 2015-12-29 15:32:00           55.0  \n",
       "5783554 2015-12-29 19:46:00           49.0  \n",
       "5787994 2015-12-29 22:48:00           49.0  \n",
       "5801482 2015-12-30 20:59:00           12.0  \n",
       "5811119 2015-12-31 16:07:00          -28.0  \n",
       "5816520 2015-12-31 19:39:00          -12.0  \n",
       "5818619 2016-01-01 05:59:00            6.0  "
      ]
     },
     "execution_count": 43,
     "metadata": {},
     "output_type": "execute_result"
    }
   ],
   "source": [
    "#Checking validity of table\n",
    "flights_extended[flights_extended['TAIL_NUMBER']=='N3KUAA'][['TAIL_NUMBER','previous_arrival_time','previous_arrival_delay','SCHEDULED_DEPARTURE_DT','arr_depart_diff','ACTUAL_ARRIVAL_TIME','ARRIVAL_DELAY']].tail(10) \n"
   ]
  },
  {
   "cell_type": "code",
   "execution_count": 44,
   "id": "e719293f",
   "metadata": {},
   "outputs": [],
   "source": [
    "#We export to a new zip file which we can use in our analysis. \n",
    "flights_extended.to_csv('cleaned data.zip')"
   ]
  },
  {
   "cell_type": "markdown",
   "id": "f4bfd195",
   "metadata": {},
   "source": [
    "-----------"
   ]
  }
 ],
 "metadata": {
  "kernelspec": {
   "display_name": "Python 3 (ipykernel)",
   "language": "python",
   "name": "python3"
  },
  "language_info": {
   "codemirror_mode": {
    "name": "ipython",
    "version": 3
   },
   "file_extension": ".py",
   "mimetype": "text/x-python",
   "name": "python",
   "nbconvert_exporter": "python",
   "pygments_lexer": "ipython3",
   "version": "3.7.11"
  }
 },
 "nbformat": 4,
 "nbformat_minor": 5
}
